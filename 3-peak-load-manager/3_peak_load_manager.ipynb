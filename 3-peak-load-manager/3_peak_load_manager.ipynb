{
 "cells": [
  {
   "cell_type": "markdown",
   "id": "fb8d63a2-913e-498a-a01a-5e66a39bf3e7",
   "metadata": {
    "pycharm": {
     "name": "#%% md\n"
    }
   },
   "source": [
    "# Lab 3. Peak Load Manager"
   ]
  },
  {
   "cell_type": "markdown",
   "id": "63678eaa-8830-4cbe-94af-5ebd8b0e03e0",
   "metadata": {
    "pycharm": {
     "name": "#%% md\n"
    }
   },
   "source": [
    "## Introduction\n",
    "\n",
    "In this notebook we show you how to create your third and last sub-agent on Amazon Bedrock Agents.\n",
    "\n",
    "This agent identifies non-essential processes that can be shifted to off-peak hours and redistributes the grid allocation.\n",
    "\n",
    "This agent can also provide energy saving tips based on the search of videos embedded in Amazon Bedrock Knowledge Bases using insights generated with [Amazon Bedrock Data Automation (BDA)](https://aws.amazon.com/bedrock/bda/).\n",
    "BDA automates the generation of useful insights from unstructured multimodal content such as documents, images, audio, and video for your AI-powered applications.\n",
    "\n",
    "The following represents the piece of architecture that will be built on this module.\n",
    "\n",
    "![Architecture](img/peak_load_agent.png)"
   ]
  },
  {
   "cell_type": "markdown",
   "id": "b3ba49fa-3293-4ea6-8dee-fb9f410c6481",
   "metadata": {
    "pycharm": {
     "name": "#%% md\n"
    }
   },
   "source": [
    "## Setup\n",
    "\n",
    "Before you start, please ensure you selected the notebook kernel as Python 3, and run the following cell to make sure that your boto3 version is the latest one.\n",
    "\n",
    "If not, return no [notebook 1](../1-energy-forecast/1_forecasting_agent.ipynb) and run Setup block again."
   ]
  },
  {
   "cell_type": "code",
   "execution_count": 1,
   "id": "09a82815",
   "metadata": {},
   "outputs": [
    {
     "name": "stdout",
     "output_type": "stream",
     "text": [
      "Requirement already satisfied: boto3>=1.37.4 in /home/ec2-user/anaconda3/envs/python3/lib/python3.10/site-packages (1.40.55)\n",
      "Requirement already satisfied: botocore<1.41.0,>=1.40.55 in /home/ec2-user/anaconda3/envs/python3/lib/python3.10/site-packages (from boto3>=1.37.4) (1.40.55)\n",
      "Requirement already satisfied: jmespath<2.0.0,>=0.7.1 in /home/ec2-user/anaconda3/envs/python3/lib/python3.10/site-packages (from boto3>=1.37.4) (1.0.1)\n",
      "Requirement already satisfied: s3transfer<0.15.0,>=0.14.0 in /home/ec2-user/anaconda3/envs/python3/lib/python3.10/site-packages (from boto3>=1.37.4) (0.14.0)\n",
      "Requirement already satisfied: python-dateutil<3.0.0,>=2.1 in /home/ec2-user/anaconda3/envs/python3/lib/python3.10/site-packages (from botocore<1.41.0,>=1.40.55->boto3>=1.37.4) (2.9.0.post0)\n",
      "Requirement already satisfied: urllib3!=2.2.0,<3,>=1.25.4 in /home/ec2-user/anaconda3/envs/python3/lib/python3.10/site-packages (from botocore<1.41.0,>=1.40.55->boto3>=1.37.4) (2.5.0)\n",
      "Requirement already satisfied: six>=1.5 in /home/ec2-user/anaconda3/envs/python3/lib/python3.10/site-packages (from python-dateutil<3.0.0,>=2.1->botocore<1.41.0,>=1.40.55->boto3>=1.37.4) (1.17.0)\n"
     ]
    }
   ],
   "source": [
    "# Install latest dependencies\n",
    "!python3 -m pip install --upgrade \"boto3>=1.37.4\""
   ]
  },
  {
   "cell_type": "code",
   "execution_count": 2,
   "id": "4cef0a80",
   "metadata": {
    "pycharm": {
     "name": "#%%\n"
    }
   },
   "outputs": [
    {
     "name": "stdout",
     "output_type": "stream",
     "text": [
      "boto3==1.40.55\n"
     ]
    }
   ],
   "source": [
    "!pip freeze | grep boto3"
   ]
  },
  {
   "cell_type": "code",
   "execution_count": 3,
   "id": "7a60e324",
   "metadata": {},
   "outputs": [
    {
     "name": "stdout",
     "output_type": "stream",
     "text": [
      "Found existing installation: numpy 2.2.6\n",
      "Uninstalling numpy-2.2.6:\n",
      "  Successfully uninstalled numpy-2.2.6\n",
      "Collecting numpy==1.26.4\n",
      "  Downloading numpy-1.26.4-cp310-cp310-manylinux_2_17_x86_64.manylinux2014_x86_64.whl.metadata (61 kB)\n",
      "Downloading numpy-1.26.4-cp310-cp310-manylinux_2_17_x86_64.manylinux2014_x86_64.whl (18.2 MB)\n",
      "\u001b[2K   \u001b[90m━━━━━━━━━━━━━━━━━━━━━━━━━━━━━━━━━━━━━━━━\u001b[0m \u001b[32m18.2/18.2 MB\u001b[0m \u001b[31m148.0 MB/s\u001b[0m  \u001b[33m0:00:00\u001b[0m\n",
      "\u001b[?25hInstalling collected packages: numpy\n",
      "\u001b[31mERROR: pip's dependency resolver does not currently take into account all the packages that are installed. This behaviour is the source of the following dependency conflicts.\n",
      "sagemaker 2.251.1 requires packaging<25,>=23.0, but you have packaging 25.0 which is incompatible.\n",
      "sparkmagic 0.21.0 requires pandas<2.0.0,>=0.17.1, but you have pandas 2.2.3 which is incompatible.\u001b[0m\u001b[31m\n",
      "\u001b[0mSuccessfully installed numpy-1.26.4\n"
     ]
    }
   ],
   "source": [
    "!pip uninstall -y numpy\n",
    "!pip install \"numpy==1.26.4\""
   ]
  },
  {
   "cell_type": "markdown",
   "id": "62eabc96",
   "metadata": {},
   "source": [
    "Get your workshop ID / resource suffix. If not found, return to [notebook 1](../1-energy-forecast/1_forecasting_agent.ipynb) and run the Setup block again."
   ]
  },
  {
   "cell_type": "code",
   "execution_count": 4,
   "id": "55e96b95",
   "metadata": {},
   "outputs": [
    {
     "name": "stdout",
     "output_type": "stream",
     "text": [
      "Your resource suffix is 7eb12cba\n"
     ]
    }
   ],
   "source": [
    "import os\n",
    "\n",
    "def get_workshop_id():\n",
    "    workshop_id_file = '../.workshop_id'\n",
    "    if os.path.exists(workshop_id_file):\n",
    "        with open(workshop_id_file, 'r') as f:\n",
    "            return f.read().strip()\n",
    "    else:\n",
    "        return None\n",
    "    \n",
    "workshop_id = get_workshop_id()\n",
    "resource_suffix = f\"{workshop_id}\"\n",
    "\n",
    "if workshop_id is None:\n",
    "    print(\"No workshop ID found. Please run the Setup script in notebook 1.\")\n",
    "else:\n",
    "    print(\"Your resource suffix is\", resource_suffix)"
   ]
  },
  {
   "cell_type": "markdown",
   "id": "ccf37dd5-bfaf-4563-a6ad-f9d7637c6e43",
   "metadata": {
    "pycharm": {
     "name": "#%% md\n"
    }
   },
   "source": [
    "## Creating Agent\n",
    "\n",
    "On this section we declare global variables that will be act as helpers during entire notebook and we will start to create out second agent."
   ]
  },
  {
   "cell_type": "code",
   "execution_count": 33,
   "id": "277a742a-5f17-4dfc-ac36-1b70ce8f4f7d",
   "metadata": {
    "pycharm": {
     "name": "#%%\n"
    }
   },
   "outputs": [],
   "source": [
    "import boto3\n",
    "import sagemaker\n",
    "import os\n",
    "import json, uuid\n",
    "import random\n",
    "import time\n",
    "sts_client = boto3.client('sts')\n",
    "boto_session = boto3.session.Session()\n",
    "region = boto_session.region_name\n",
    "\n",
    "session = sagemaker.Session()\n",
    "bucket_name = session.default_bucket()\n",
    "\n",
    "account_id = sts_client.get_caller_identity()[\"Account\"]\n",
    "\n",
    "agent_foundation_model = [\n",
    "    'anthropic.claude-3-sonnet-20240229-v1:0',\n",
    "    'anthropic.claude-3-5-sonnet-20240620-v1:0',\n",
    "    'anthropic.claude-3-haiku-20240307-v1:0',\n",
    "]\n"
   ]
  },
  {
   "cell_type": "code",
   "execution_count": 34,
   "id": "a27cc6c8-4faa-4adc-90c8-7ace112877e1",
   "metadata": {
    "pycharm": {
     "name": "#%%\n"
    }
   },
   "outputs": [],
   "source": [
    "peak_agent_name = f\"peak-agent-{resource_suffix}\"\n",
    "\n",
    "peak_lambda_name = f\"fn-peak-agent-{resource_suffix}\"\n",
    "\n",
    "peak_agent_role_name = f'AmazonBedrockExecutionRoleForAgents_{peak_agent_name}'\n",
    "\n",
    "dynamodb_table = f\"{peak_agent_name}-table\"\n",
    "dynamodb_pk = \"customer_id\"\n",
    "dynamodb_sk = \"item_id\"\n",
    "\n",
    "dynamoDB_args = [dynamodb_table, dynamodb_pk, dynamodb_sk]\n"
   ]
  },
  {
   "cell_type": "markdown",
   "id": "1c017998",
   "metadata": {
    "pycharm": {
     "name": "#%% md\n"
    }
   },
   "source": [
    "### Importing helper functions\n",
    "\n",
    "On following section, we're adding `bedrock_agent_helper.py` on Python path, so the files can be recognized and their functionalities can be invoked.\n",
    "\n",
    "Now, you're going to import from helper classes `bedrock_agent_helper.py`.\n",
    " \n",
    "Those files contain helper classes totally focused on make labs experience smoothly. \n",
    "\n",
    "All interactions with Bedrock will be handled by these classes.\n",
    "\n",
    "Following are methods that you're going to invoke on this lab:\n",
    "\n",
    "On `agents.py`:\n",
    "- `create_agent`: Create a new agent and respective IAM roles\n",
    "- `add_action_group_with_lambda`: Create a lambda function and add it as an action group for a previous created agent\n",
    "- `create_agent_alias`: Create an alias for this agent\n",
    "- `invoke`: Execute agent"
   ]
  },
  {
   "cell_type": "code",
   "execution_count": 35,
   "id": "785239e3-519e-4b39-a417-9b9ca3ce16ba",
   "metadata": {
    "pycharm": {
     "name": "#%%\n"
    }
   },
   "outputs": [],
   "source": [
    "import sys\n",
    "\n",
    "sys.path.insert(0, \".\")\n",
    "sys.path.insert(1, \"..\")\n",
    "\n",
    "from utils.bedrock_agent_helper import (\n",
    "    AgentsForAmazonBedrock\n",
    ")\n",
    "agents = AgentsForAmazonBedrock()"
   ]
  },
  {
   "cell_type": "markdown",
   "id": "d5fbbb35",
   "metadata": {
    "pycharm": {
     "name": "#%% md\n"
    }
   },
   "source": [
    "## Creating Agent\n",
    "Create the Peak Load Manager agent that will have an action group to handle resource allocation and non-essential processes detection.\n",
    "\n",
    "For this agent we will use the following instructions:\n",
    "```\n",
    "You are a Peak Load Manager Bot that optimizes energy consumption patterns by analyzing IoT device data and process schedules.\n",
    "\n",
    "Your capabilities include:\n",
    "1. Retrieving data from IoT devices\n",
    "2. Identifying non-essential loads during peak hours and reallocating them to other schedules\n",
    "3. Recommending schedule adjustments\n",
    "\n",
    "Response style:\n",
    "- Be precise and analytical\n",
    "- Use clear, practical language\n",
    "- Focus on actionable recommendations\n",
    "- Support suggestions with data\n",
    "- Be concise yet thorough\n",
    "- Do not request information that can be retrieved from IoT devices\n",
    "```\n",
    "\n",
    "And we will make the following tool available to the agent:\n",
    "- `detect_peak`: detect consumption peak during current month\n",
    "- `detect_non_essential_processes`: detect non-essential processes that are causing the peaks\n",
    "- `redistribute_allocation`: reduce/increase allocated quota for a specific item during current month"
   ]
  },
  {
   "cell_type": "code",
   "execution_count": 41,
   "id": "e1e168c8-180f-4977-96dd-d8006436208b",
   "metadata": {
    "pycharm": {
     "name": "#%%\n"
    }
   },
   "outputs": [
    {
     "data": {
      "text/html": [
       "<pre style=\"white-space:pre;overflow-x:auto;line-height:normal;font-family:Menlo,'DejaVu Sans Mono',consolas,'Courier New',monospace\"><span style=\"color: #ff0000; text-decoration-color: #ff0000\">╭─────────────────────────────── </span><span style=\"color: #ff0000; text-decoration-color: #ff0000; font-weight: bold\">Traceback </span><span style=\"color: #ff7f7f; text-decoration-color: #ff7f7f; font-weight: bold\">(most recent call last)</span><span style=\"color: #ff0000; text-decoration-color: #ff0000\"> ────────────────────────────────╮</span>\n",
       "<span style=\"color: #ff0000; text-decoration-color: #ff0000\">│</span> in &lt;module&gt;:1                                                                                    <span style=\"color: #ff0000; text-decoration-color: #ff0000\">│</span>\n",
       "<span style=\"color: #ff0000; text-decoration-color: #ff0000\">│</span>                                                                                                  <span style=\"color: #ff0000; text-decoration-color: #ff0000\">│</span>\n",
       "<span style=\"color: #ff0000; text-decoration-color: #ff0000\">│</span> <span style=\"color: #800000; text-decoration-color: #800000\">❱ </span> 1 peak_agent = agents.create_agent(                                                           <span style=\"color: #ff0000; text-decoration-color: #ff0000\">│</span>\n",
       "<span style=\"color: #ff0000; text-decoration-color: #ff0000\">│</span>   <span style=\"color: #7f7f7f; text-decoration-color: #7f7f7f\"> 2 </span><span style=\"color: #7f7f7f; text-decoration-color: #7f7f7f\">│   </span>peak_agent_name,                                                                        <span style=\"color: #ff0000; text-decoration-color: #ff0000\">│</span>\n",
       "<span style=\"color: #ff0000; text-decoration-color: #ff0000\">│</span>   <span style=\"color: #7f7f7f; text-decoration-color: #7f7f7f\"> 3 </span><span style=\"color: #bfbfbf; text-decoration-color: #bfbfbf\">│   </span><span style=\"color: #808000; text-decoration-color: #808000\">\"\"\"You are a peak load manager bot. </span>                                                    <span style=\"color: #ff0000; text-decoration-color: #ff0000\">│</span>\n",
       "<span style=\"color: #ff0000; text-decoration-color: #ff0000\">│</span>   <span style=\"color: #7f7f7f; text-decoration-color: #7f7f7f\"> 4 </span><span style=\"color: #bfbf7f; text-decoration-color: #bfbf7f\">│   </span><span style=\"color: #808000; text-decoration-color: #808000\">You can retrieve information from IoT devices and Knowledge Bases, </span>                     <span style=\"color: #ff0000; text-decoration-color: #ff0000\">│</span>\n",
       "<span style=\"color: #ff0000; text-decoration-color: #ff0000\">│</span>                                                                                                  <span style=\"color: #ff0000; text-decoration-color: #ff0000\">│</span>\n",
       "<span style=\"color: #ff0000; text-decoration-color: #ff0000\">│</span> <span style=\"color: #7f7f7f; text-decoration-color: #7f7f7f\">/home/ec2-user/SageMaker/cmp-bedrock-multi-agents-collaboration-lab/3-peak-load-manager/../utils</span> <span style=\"color: #ff0000; text-decoration-color: #ff0000\">│</span>\n",
       "<span style=\"color: #ff0000; text-decoration-color: #ff0000\">│</span> <span style=\"color: #7f7f7f; text-decoration-color: #7f7f7f\">/</span><span style=\"font-weight: bold\">bedrock_agent_helper.py</span>:1062 in create_agent                                                    <span style=\"color: #ff0000; text-decoration-color: #ff0000\">│</span>\n",
       "<span style=\"color: #ff0000; text-decoration-color: #ff0000\">│</span>                                                                                                  <span style=\"color: #ff0000; text-decoration-color: #ff0000\">│</span>\n",
       "<span style=\"color: #ff0000; text-decoration-color: #ff0000\">│</span>   <span style=\"color: #7f7f7f; text-decoration-color: #7f7f7f\">1059 </span><span style=\"color: #7f7f7f; text-decoration-color: #7f7f7f\">│   │   │   │   </span><span style=\"color: #0000ff; text-decoration-color: #0000ff\">else</span>:                                                                     <span style=\"color: #ff0000; text-decoration-color: #ff0000\">│</span>\n",
       "<span style=\"color: #ff0000; text-decoration-color: #ff0000\">│</span>   <span style=\"color: #7f7f7f; text-decoration-color: #7f7f7f\">1060 </span><span style=\"color: #7f7f7f; text-decoration-color: #7f7f7f\">│   │   │   │   │   </span><span style=\"color: #0000ff; text-decoration-color: #0000ff\">if</span> verbose:                                                           <span style=\"color: #ff0000; text-decoration-color: #ff0000\">│</span>\n",
       "<span style=\"color: #ff0000; text-decoration-color: #ff0000\">│</span>   <span style=\"color: #7f7f7f; text-decoration-color: #7f7f7f\">1061 </span><span style=\"color: #7f7f7f; text-decoration-color: #7f7f7f\">│   │   │   │   │   │   </span><span style=\"color: #00ffff; text-decoration-color: #00ffff\">print</span>(<span style=\"color: #808000; text-decoration-color: #808000\">f\"Giving up on agent creation after 2 tries.\"</span>)              <span style=\"color: #ff0000; text-decoration-color: #ff0000\">│</span>\n",
       "<span style=\"color: #ff0000; text-decoration-color: #ff0000\">│</span> <span style=\"color: #800000; text-decoration-color: #800000\">❱ </span>1062 <span style=\"color: #7f7f7f; text-decoration-color: #7f7f7f\">│   │   │   │   │   </span><span style=\"color: #0000ff; text-decoration-color: #0000ff\">raise</span> e                                                               <span style=\"color: #ff0000; text-decoration-color: #ff0000\">│</span>\n",
       "<span style=\"color: #ff0000; text-decoration-color: #ff0000\">│</span>   <span style=\"color: #7f7f7f; text-decoration-color: #7f7f7f\">1063 </span><span style=\"color: #7f7f7f; text-decoration-color: #7f7f7f\">│   │   </span>                                                                                  <span style=\"color: #ff0000; text-decoration-color: #ff0000\">│</span>\n",
       "<span style=\"color: #ff0000; text-decoration-color: #ff0000\">│</span>   <span style=\"color: #7f7f7f; text-decoration-color: #7f7f7f\">1064 </span><span style=\"color: #7f7f7f; text-decoration-color: #7f7f7f\">│   │   </span><span style=\"color: #0000ff; text-decoration-color: #0000ff\">if</span> code_interpretation:                                                           <span style=\"color: #ff0000; text-decoration-color: #ff0000\">│</span>\n",
       "<span style=\"color: #ff0000; text-decoration-color: #ff0000\">│</span>   <span style=\"color: #7f7f7f; text-decoration-color: #7f7f7f\">1065 </span><span style=\"color: #7f7f7f; text-decoration-color: #7f7f7f\">│   │   │   </span><span style=\"color: #7f7f7f; text-decoration-color: #7f7f7f\"># possible time.sleep(15) needed here</span>                                         <span style=\"color: #ff0000; text-decoration-color: #ff0000\">│</span>\n",
       "<span style=\"color: #ff0000; text-decoration-color: #ff0000\">│</span>                                                                                                  <span style=\"color: #ff0000; text-decoration-color: #ff0000\">│</span>\n",
       "<span style=\"color: #ff0000; text-decoration-color: #ff0000\">│</span> <span style=\"color: #7f7f7f; text-decoration-color: #7f7f7f\">/home/ec2-user/SageMaker/cmp-bedrock-multi-agents-collaboration-lab/3-peak-load-manager/../utils</span> <span style=\"color: #ff0000; text-decoration-color: #ff0000\">│</span>\n",
       "<span style=\"color: #ff0000; text-decoration-color: #ff0000\">│</span> <span style=\"color: #7f7f7f; text-decoration-color: #7f7f7f\">/</span><span style=\"font-weight: bold\">bedrock_agent_helper.py</span>:1031 in create_agent                                                    <span style=\"color: #ff0000; text-decoration-color: #ff0000\">│</span>\n",
       "<span style=\"color: #ff0000; text-decoration-color: #ff0000\">│</span>                                                                                                  <span style=\"color: #ff0000; text-decoration-color: #ff0000\">│</span>\n",
       "<span style=\"color: #ff0000; text-decoration-color: #ff0000\">│</span>   <span style=\"color: #7f7f7f; text-decoration-color: #7f7f7f\">1028 </span><span style=\"color: #7f7f7f; text-decoration-color: #7f7f7f\">│   │   │   </span><span style=\"color: #0000ff; text-decoration-color: #0000ff\">try</span>:                                                                          <span style=\"color: #ff0000; text-decoration-color: #ff0000\">│</span>\n",
       "<span style=\"color: #ff0000; text-decoration-color: #ff0000\">│</span>   <span style=\"color: #7f7f7f; text-decoration-color: #7f7f7f\">1029 </span><span style=\"color: #7f7f7f; text-decoration-color: #7f7f7f\">│   │   │   │   </span><span style=\"color: #0000ff; text-decoration-color: #0000ff\">if</span> verbose:                                                               <span style=\"color: #ff0000; text-decoration-color: #ff0000\">│</span>\n",
       "<span style=\"color: #ff0000; text-decoration-color: #ff0000\">│</span>   <span style=\"color: #7f7f7f; text-decoration-color: #7f7f7f\">1030 </span><span style=\"color: #7f7f7f; text-decoration-color: #7f7f7f\">│   │   │   │   │   </span><span style=\"color: #00ffff; text-decoration-color: #00ffff\">print</span>(<span style=\"color: #808000; text-decoration-color: #808000\">f\"kwargs: {</span>_kwargs<span style=\"color: #808000; text-decoration-color: #808000\">}\"</span>)                                           <span style=\"color: #ff0000; text-decoration-color: #ff0000\">│</span>\n",
       "<span style=\"color: #ff0000; text-decoration-color: #ff0000\">│</span> <span style=\"color: #800000; text-decoration-color: #800000\">❱ </span>1031 <span style=\"color: #7f7f7f; text-decoration-color: #7f7f7f\">│   │   │   │   </span>_create_agent_response = <span style=\"color: #00ffff; text-decoration-color: #00ffff\">self</span>._bedrock_agent_client.create_agent(         <span style=\"color: #ff0000; text-decoration-color: #ff0000\">│</span>\n",
       "<span style=\"color: #ff0000; text-decoration-color: #ff0000\">│</span>   <span style=\"color: #7f7f7f; text-decoration-color: #7f7f7f\">1032 </span><span style=\"color: #7f7f7f; text-decoration-color: #7f7f7f\">│   │   │   │   │   </span>agentName=agent_name,                                                 <span style=\"color: #ff0000; text-decoration-color: #ff0000\">│</span>\n",
       "<span style=\"color: #ff0000; text-decoration-color: #ff0000\">│</span>   <span style=\"color: #7f7f7f; text-decoration-color: #7f7f7f\">1033 </span><span style=\"color: #7f7f7f; text-decoration-color: #7f7f7f\">│   │   │   │   │   </span>agentResourceRoleArn=_role_arn,                                       <span style=\"color: #ff0000; text-decoration-color: #ff0000\">│</span>\n",
       "<span style=\"color: #ff0000; text-decoration-color: #ff0000\">│</span>   <span style=\"color: #7f7f7f; text-decoration-color: #7f7f7f\">1034 </span><span style=\"color: #7f7f7f; text-decoration-color: #7f7f7f\">│   │   │   │   │   </span>description=agent_description.replace(                                <span style=\"color: #ff0000; text-decoration-color: #ff0000\">│</span>\n",
       "<span style=\"color: #ff0000; text-decoration-color: #ff0000\">│</span>                                                                                                  <span style=\"color: #ff0000; text-decoration-color: #ff0000\">│</span>\n",
       "<span style=\"color: #ff0000; text-decoration-color: #ff0000\">│</span> <span style=\"color: #7f7f7f; text-decoration-color: #7f7f7f\">/home/ec2-user/anaconda3/envs/python3/lib/python3.10/site-packages/botocore/</span><span style=\"font-weight: bold\">client.py</span>:602 in     <span style=\"color: #ff0000; text-decoration-color: #ff0000\">│</span>\n",
       "<span style=\"color: #ff0000; text-decoration-color: #ff0000\">│</span> _api_call                                                                                        <span style=\"color: #ff0000; text-decoration-color: #ff0000\">│</span>\n",
       "<span style=\"color: #ff0000; text-decoration-color: #ff0000\">│</span>                                                                                                  <span style=\"color: #ff0000; text-decoration-color: #ff0000\">│</span>\n",
       "<span style=\"color: #ff0000; text-decoration-color: #ff0000\">│</span>   <span style=\"color: #7f7f7f; text-decoration-color: #7f7f7f\"> 599 </span><span style=\"color: #7f7f7f; text-decoration-color: #7f7f7f\">│   │   │   │   │   </span><span style=\"color: #808000; text-decoration-color: #808000\">f\"{</span>py_operation_name<span style=\"color: #808000; text-decoration-color: #808000\">}() only accepts keyword arguments.\"</span>              <span style=\"color: #ff0000; text-decoration-color: #ff0000\">│</span>\n",
       "<span style=\"color: #ff0000; text-decoration-color: #ff0000\">│</span>   <span style=\"color: #7f7f7f; text-decoration-color: #7f7f7f\"> 600 </span><span style=\"color: #7f7f7f; text-decoration-color: #7f7f7f\">│   │   │   │   </span>)                                                                         <span style=\"color: #ff0000; text-decoration-color: #ff0000\">│</span>\n",
       "<span style=\"color: #ff0000; text-decoration-color: #ff0000\">│</span>   <span style=\"color: #7f7f7f; text-decoration-color: #7f7f7f\"> 601 </span><span style=\"color: #7f7f7f; text-decoration-color: #7f7f7f\">│   │   │   </span><span style=\"color: #7f7f7f; text-decoration-color: #7f7f7f\"># The \"self\" in this scope is referring to the BaseClient.</span>                    <span style=\"color: #ff0000; text-decoration-color: #ff0000\">│</span>\n",
       "<span style=\"color: #ff0000; text-decoration-color: #ff0000\">│</span> <span style=\"color: #800000; text-decoration-color: #800000\">❱ </span> 602 <span style=\"color: #7f7f7f; text-decoration-color: #7f7f7f\">│   │   │   </span><span style=\"color: #0000ff; text-decoration-color: #0000ff\">return</span> <span style=\"color: #00ffff; text-decoration-color: #00ffff\">self</span>._make_api_call(operation_name, kwargs)                            <span style=\"color: #ff0000; text-decoration-color: #ff0000\">│</span>\n",
       "<span style=\"color: #ff0000; text-decoration-color: #ff0000\">│</span>   <span style=\"color: #7f7f7f; text-decoration-color: #7f7f7f\"> 603 </span><span style=\"color: #7f7f7f; text-decoration-color: #7f7f7f\">│   │   </span>                                                                                  <span style=\"color: #ff0000; text-decoration-color: #ff0000\">│</span>\n",
       "<span style=\"color: #ff0000; text-decoration-color: #ff0000\">│</span>   <span style=\"color: #7f7f7f; text-decoration-color: #7f7f7f\"> 604 </span><span style=\"color: #7f7f7f; text-decoration-color: #7f7f7f\">│   │   </span>_api_call.<span style=\"color: #ff0000; text-decoration-color: #ff0000\">__name__</span> = <span style=\"color: #00ffff; text-decoration-color: #00ffff\">str</span>(py_operation_name)                                       <span style=\"color: #ff0000; text-decoration-color: #ff0000\">│</span>\n",
       "<span style=\"color: #ff0000; text-decoration-color: #ff0000\">│</span>   <span style=\"color: #7f7f7f; text-decoration-color: #7f7f7f\"> 605 </span>                                                                                          <span style=\"color: #ff0000; text-decoration-color: #ff0000\">│</span>\n",
       "<span style=\"color: #ff0000; text-decoration-color: #ff0000\">│</span>                                                                                                  <span style=\"color: #ff0000; text-decoration-color: #ff0000\">│</span>\n",
       "<span style=\"color: #ff0000; text-decoration-color: #ff0000\">│</span> <span style=\"color: #7f7f7f; text-decoration-color: #7f7f7f\">/home/ec2-user/anaconda3/envs/python3/lib/python3.10/site-packages/botocore/</span><span style=\"font-weight: bold\">context.py</span>:123 in    <span style=\"color: #ff0000; text-decoration-color: #ff0000\">│</span>\n",
       "<span style=\"color: #ff0000; text-decoration-color: #ff0000\">│</span> wrapper                                                                                          <span style=\"color: #ff0000; text-decoration-color: #ff0000\">│</span>\n",
       "<span style=\"color: #ff0000; text-decoration-color: #ff0000\">│</span>                                                                                                  <span style=\"color: #ff0000; text-decoration-color: #ff0000\">│</span>\n",
       "<span style=\"color: #ff0000; text-decoration-color: #ff0000\">│</span>   <span style=\"color: #7f7f7f; text-decoration-color: #7f7f7f\">120 </span><span style=\"color: #7f7f7f; text-decoration-color: #7f7f7f\">│   │   │   </span><span style=\"color: #0000ff; text-decoration-color: #0000ff\">with</span> start_as_current_context():                                               <span style=\"color: #ff0000; text-decoration-color: #ff0000\">│</span>\n",
       "<span style=\"color: #ff0000; text-decoration-color: #ff0000\">│</span>   <span style=\"color: #7f7f7f; text-decoration-color: #7f7f7f\">121 </span><span style=\"color: #7f7f7f; text-decoration-color: #7f7f7f\">│   │   │   │   </span><span style=\"color: #0000ff; text-decoration-color: #0000ff\">if</span> hook:                                                                   <span style=\"color: #ff0000; text-decoration-color: #ff0000\">│</span>\n",
       "<span style=\"color: #ff0000; text-decoration-color: #ff0000\">│</span>   <span style=\"color: #7f7f7f; text-decoration-color: #7f7f7f\">122 </span><span style=\"color: #7f7f7f; text-decoration-color: #7f7f7f\">│   │   │   │   │   </span>hook()                                                                 <span style=\"color: #ff0000; text-decoration-color: #ff0000\">│</span>\n",
       "<span style=\"color: #ff0000; text-decoration-color: #ff0000\">│</span> <span style=\"color: #800000; text-decoration-color: #800000\">❱ </span>123 <span style=\"color: #7f7f7f; text-decoration-color: #7f7f7f\">│   │   │   │   </span><span style=\"color: #0000ff; text-decoration-color: #0000ff\">return</span> func(*args, **kwargs)                                               <span style=\"color: #ff0000; text-decoration-color: #ff0000\">│</span>\n",
       "<span style=\"color: #ff0000; text-decoration-color: #ff0000\">│</span>   <span style=\"color: #7f7f7f; text-decoration-color: #7f7f7f\">124 </span><span style=\"color: #7f7f7f; text-decoration-color: #7f7f7f\">│   │   </span>                                                                                   <span style=\"color: #ff0000; text-decoration-color: #ff0000\">│</span>\n",
       "<span style=\"color: #ff0000; text-decoration-color: #ff0000\">│</span>   <span style=\"color: #7f7f7f; text-decoration-color: #7f7f7f\">125 </span><span style=\"color: #7f7f7f; text-decoration-color: #7f7f7f\">│   │   </span><span style=\"color: #0000ff; text-decoration-color: #0000ff\">return</span> wrapper                                                                     <span style=\"color: #ff0000; text-decoration-color: #ff0000\">│</span>\n",
       "<span style=\"color: #ff0000; text-decoration-color: #ff0000\">│</span>   <span style=\"color: #7f7f7f; text-decoration-color: #7f7f7f\">126 </span>                                                                                           <span style=\"color: #ff0000; text-decoration-color: #ff0000\">│</span>\n",
       "<span style=\"color: #ff0000; text-decoration-color: #ff0000\">│</span>                                                                                                  <span style=\"color: #ff0000; text-decoration-color: #ff0000\">│</span>\n",
       "<span style=\"color: #ff0000; text-decoration-color: #ff0000\">│</span> <span style=\"color: #7f7f7f; text-decoration-color: #7f7f7f\">/home/ec2-user/anaconda3/envs/python3/lib/python3.10/site-packages/botocore/</span><span style=\"font-weight: bold\">client.py</span>:1078 in    <span style=\"color: #ff0000; text-decoration-color: #ff0000\">│</span>\n",
       "<span style=\"color: #ff0000; text-decoration-color: #ff0000\">│</span> _make_api_call                                                                                   <span style=\"color: #ff0000; text-decoration-color: #ff0000\">│</span>\n",
       "<span style=\"color: #ff0000; text-decoration-color: #ff0000\">│</span>                                                                                                  <span style=\"color: #ff0000; text-decoration-color: #ff0000\">│</span>\n",
       "<span style=\"color: #ff0000; text-decoration-color: #ff0000\">│</span>   <span style=\"color: #7f7f7f; text-decoration-color: #7f7f7f\">1075 </span><span style=\"color: #7f7f7f; text-decoration-color: #7f7f7f\">│   │   │   │   </span><span style=\"color: #808000; text-decoration-color: #808000\">'error_code_override'</span>                                                     <span style=\"color: #ff0000; text-decoration-color: #ff0000\">│</span>\n",
       "<span style=\"color: #ff0000; text-decoration-color: #ff0000\">│</span>   <span style=\"color: #7f7f7f; text-decoration-color: #7f7f7f\">1076 </span><span style=\"color: #7f7f7f; text-decoration-color: #7f7f7f\">│   │   │   </span>) <span style=\"color: #ff00ff; text-decoration-color: #ff00ff\">or</span> error_info.get(<span style=\"color: #808000; text-decoration-color: #808000\">\"Code\"</span>)                                                   <span style=\"color: #ff0000; text-decoration-color: #ff0000\">│</span>\n",
       "<span style=\"color: #ff0000; text-decoration-color: #ff0000\">│</span>   <span style=\"color: #7f7f7f; text-decoration-color: #7f7f7f\">1077 </span><span style=\"color: #7f7f7f; text-decoration-color: #7f7f7f\">│   │   │   </span>error_class = <span style=\"color: #00ffff; text-decoration-color: #00ffff\">self</span>.exceptions.from_code(error_code)                           <span style=\"color: #ff0000; text-decoration-color: #ff0000\">│</span>\n",
       "<span style=\"color: #ff0000; text-decoration-color: #ff0000\">│</span> <span style=\"color: #800000; text-decoration-color: #800000\">❱ </span>1078 <span style=\"color: #7f7f7f; text-decoration-color: #7f7f7f\">│   │   │   </span><span style=\"color: #0000ff; text-decoration-color: #0000ff\">raise</span> error_class(parsed_response, operation_name)                            <span style=\"color: #ff0000; text-decoration-color: #ff0000\">│</span>\n",
       "<span style=\"color: #ff0000; text-decoration-color: #ff0000\">│</span>   <span style=\"color: #7f7f7f; text-decoration-color: #7f7f7f\">1079 </span><span style=\"color: #7f7f7f; text-decoration-color: #7f7f7f\">│   │   </span><span style=\"color: #0000ff; text-decoration-color: #0000ff\">else</span>:                                                                             <span style=\"color: #ff0000; text-decoration-color: #ff0000\">│</span>\n",
       "<span style=\"color: #ff0000; text-decoration-color: #ff0000\">│</span>   <span style=\"color: #7f7f7f; text-decoration-color: #7f7f7f\">1080 </span><span style=\"color: #7f7f7f; text-decoration-color: #7f7f7f\">│   │   │   </span><span style=\"color: #0000ff; text-decoration-color: #0000ff\">return</span> parsed_response                                                        <span style=\"color: #ff0000; text-decoration-color: #ff0000\">│</span>\n",
       "<span style=\"color: #ff0000; text-decoration-color: #ff0000\">│</span>   <span style=\"color: #7f7f7f; text-decoration-color: #7f7f7f\">1081 </span>                                                                                          <span style=\"color: #ff0000; text-decoration-color: #ff0000\">│</span>\n",
       "<span style=\"color: #ff0000; text-decoration-color: #ff0000\">╰──────────────────────────────────────────────────────────────────────────────────────────────────╯</span>\n",
       "<span style=\"color: #ff0000; text-decoration-color: #ff0000; font-weight: bold\">ConflictException: </span>An error occurred <span style=\"font-weight: bold\">(</span>ConflictException<span style=\"font-weight: bold\">)</span> when calling the CreateAgent operation: Could not perform \n",
       "Create operation, since the peak-agent-7eb12cba <span style=\"font-weight: bold\">(</span>id: EDIE8XHWJV<span style=\"font-weight: bold\">)</span> with the same name peak-agent-7eb12cba already \n",
       "exists\n",
       "</pre>\n"
      ],
      "text/plain": [
       "\u001b[38;2;255;0;0m╭─\u001b[0m\u001b[38;2;255;0;0m──────────────────────────────\u001b[0m\u001b[38;2;255;0;0m \u001b[0m\u001b[1;38;2;255;0;0mTraceback \u001b[0m\u001b[1;2;38;2;255;0;0m(most recent call last)\u001b[0m\u001b[38;2;255;0;0m \u001b[0m\u001b[38;2;255;0;0m───────────────────────────────\u001b[0m\u001b[38;2;255;0;0m─╮\u001b[0m\n",
       "\u001b[38;2;255;0;0m│\u001b[0m in <module>:1                                                                                    \u001b[38;2;255;0;0m│\u001b[0m\n",
       "\u001b[38;2;255;0;0m│\u001b[0m                                                                                                  \u001b[38;2;255;0;0m│\u001b[0m\n",
       "\u001b[38;2;255;0;0m│\u001b[0m \u001b[31m❱ \u001b[0m 1 peak_agent = agents.create_agent(                                                           \u001b[38;2;255;0;0m│\u001b[0m\n",
       "\u001b[38;2;255;0;0m│\u001b[0m   \u001b[2m 2 \u001b[0m\u001b[2m│   \u001b[0mpeak_agent_name,                                                                        \u001b[38;2;255;0;0m│\u001b[0m\n",
       "\u001b[38;2;255;0;0m│\u001b[0m   \u001b[2m 3 \u001b[0m\u001b[2;90m│   \u001b[0m\u001b[33m\"\"\"You are a peak load manager bot. \u001b[0m                                                    \u001b[38;2;255;0;0m│\u001b[0m\n",
       "\u001b[38;2;255;0;0m│\u001b[0m   \u001b[2m 4 \u001b[0m\u001b[2;33m│   \u001b[0m\u001b[33mYou can retrieve information from IoT devices and Knowledge Bases, \u001b[0m                     \u001b[38;2;255;0;0m│\u001b[0m\n",
       "\u001b[38;2;255;0;0m│\u001b[0m                                                                                                  \u001b[38;2;255;0;0m│\u001b[0m\n",
       "\u001b[38;2;255;0;0m│\u001b[0m \u001b[2m/home/ec2-user/SageMaker/cmp-bedrock-multi-agents-collaboration-lab/3-peak-load-manager/../utils\u001b[0m \u001b[38;2;255;0;0m│\u001b[0m\n",
       "\u001b[38;2;255;0;0m│\u001b[0m \u001b[2m/\u001b[0m\u001b[1mbedrock_agent_helper.py\u001b[0m:1062 in create_agent                                                    \u001b[38;2;255;0;0m│\u001b[0m\n",
       "\u001b[38;2;255;0;0m│\u001b[0m                                                                                                  \u001b[38;2;255;0;0m│\u001b[0m\n",
       "\u001b[38;2;255;0;0m│\u001b[0m   \u001b[2m1059 \u001b[0m\u001b[2m│   │   │   │   \u001b[0m\u001b[94melse\u001b[0m:                                                                     \u001b[38;2;255;0;0m│\u001b[0m\n",
       "\u001b[38;2;255;0;0m│\u001b[0m   \u001b[2m1060 \u001b[0m\u001b[2m│   │   │   │   │   \u001b[0m\u001b[94mif\u001b[0m verbose:                                                           \u001b[38;2;255;0;0m│\u001b[0m\n",
       "\u001b[38;2;255;0;0m│\u001b[0m   \u001b[2m1061 \u001b[0m\u001b[2m│   │   │   │   │   │   \u001b[0m\u001b[96mprint\u001b[0m(\u001b[33mf\u001b[0m\u001b[33m\"\u001b[0m\u001b[33mGiving up on agent creation after 2 tries.\u001b[0m\u001b[33m\"\u001b[0m)              \u001b[38;2;255;0;0m│\u001b[0m\n",
       "\u001b[38;2;255;0;0m│\u001b[0m \u001b[31m❱ \u001b[0m1062 \u001b[2m│   │   │   │   │   \u001b[0m\u001b[94mraise\u001b[0m e                                                               \u001b[38;2;255;0;0m│\u001b[0m\n",
       "\u001b[38;2;255;0;0m│\u001b[0m   \u001b[2m1063 \u001b[0m\u001b[2m│   │   \u001b[0m                                                                                  \u001b[38;2;255;0;0m│\u001b[0m\n",
       "\u001b[38;2;255;0;0m│\u001b[0m   \u001b[2m1064 \u001b[0m\u001b[2m│   │   \u001b[0m\u001b[94mif\u001b[0m code_interpretation:                                                           \u001b[38;2;255;0;0m│\u001b[0m\n",
       "\u001b[38;2;255;0;0m│\u001b[0m   \u001b[2m1065 \u001b[0m\u001b[2m│   │   │   \u001b[0m\u001b[2m# possible time.sleep(15) needed here\u001b[0m                                         \u001b[38;2;255;0;0m│\u001b[0m\n",
       "\u001b[38;2;255;0;0m│\u001b[0m                                                                                                  \u001b[38;2;255;0;0m│\u001b[0m\n",
       "\u001b[38;2;255;0;0m│\u001b[0m \u001b[2m/home/ec2-user/SageMaker/cmp-bedrock-multi-agents-collaboration-lab/3-peak-load-manager/../utils\u001b[0m \u001b[38;2;255;0;0m│\u001b[0m\n",
       "\u001b[38;2;255;0;0m│\u001b[0m \u001b[2m/\u001b[0m\u001b[1mbedrock_agent_helper.py\u001b[0m:1031 in create_agent                                                    \u001b[38;2;255;0;0m│\u001b[0m\n",
       "\u001b[38;2;255;0;0m│\u001b[0m                                                                                                  \u001b[38;2;255;0;0m│\u001b[0m\n",
       "\u001b[38;2;255;0;0m│\u001b[0m   \u001b[2m1028 \u001b[0m\u001b[2m│   │   │   \u001b[0m\u001b[94mtry\u001b[0m:                                                                          \u001b[38;2;255;0;0m│\u001b[0m\n",
       "\u001b[38;2;255;0;0m│\u001b[0m   \u001b[2m1029 \u001b[0m\u001b[2m│   │   │   │   \u001b[0m\u001b[94mif\u001b[0m verbose:                                                               \u001b[38;2;255;0;0m│\u001b[0m\n",
       "\u001b[38;2;255;0;0m│\u001b[0m   \u001b[2m1030 \u001b[0m\u001b[2m│   │   │   │   │   \u001b[0m\u001b[96mprint\u001b[0m(\u001b[33mf\u001b[0m\u001b[33m\"\u001b[0m\u001b[33mkwargs: \u001b[0m\u001b[33m{\u001b[0m_kwargs\u001b[33m}\u001b[0m\u001b[33m\"\u001b[0m)                                           \u001b[38;2;255;0;0m│\u001b[0m\n",
       "\u001b[38;2;255;0;0m│\u001b[0m \u001b[31m❱ \u001b[0m1031 \u001b[2m│   │   │   │   \u001b[0m_create_agent_response = \u001b[96mself\u001b[0m._bedrock_agent_client.create_agent(         \u001b[38;2;255;0;0m│\u001b[0m\n",
       "\u001b[38;2;255;0;0m│\u001b[0m   \u001b[2m1032 \u001b[0m\u001b[2m│   │   │   │   │   \u001b[0magentName=agent_name,                                                 \u001b[38;2;255;0;0m│\u001b[0m\n",
       "\u001b[38;2;255;0;0m│\u001b[0m   \u001b[2m1033 \u001b[0m\u001b[2m│   │   │   │   │   \u001b[0magentResourceRoleArn=_role_arn,                                       \u001b[38;2;255;0;0m│\u001b[0m\n",
       "\u001b[38;2;255;0;0m│\u001b[0m   \u001b[2m1034 \u001b[0m\u001b[2m│   │   │   │   │   \u001b[0mdescription=agent_description.replace(                                \u001b[38;2;255;0;0m│\u001b[0m\n",
       "\u001b[38;2;255;0;0m│\u001b[0m                                                                                                  \u001b[38;2;255;0;0m│\u001b[0m\n",
       "\u001b[38;2;255;0;0m│\u001b[0m \u001b[2m/home/ec2-user/anaconda3/envs/python3/lib/python3.10/site-packages/botocore/\u001b[0m\u001b[1mclient.py\u001b[0m:602 in     \u001b[38;2;255;0;0m│\u001b[0m\n",
       "\u001b[38;2;255;0;0m│\u001b[0m _api_call                                                                                        \u001b[38;2;255;0;0m│\u001b[0m\n",
       "\u001b[38;2;255;0;0m│\u001b[0m                                                                                                  \u001b[38;2;255;0;0m│\u001b[0m\n",
       "\u001b[38;2;255;0;0m│\u001b[0m   \u001b[2m 599 \u001b[0m\u001b[2m│   │   │   │   │   \u001b[0m\u001b[33mf\u001b[0m\u001b[33m\"\u001b[0m\u001b[33m{\u001b[0mpy_operation_name\u001b[33m}\u001b[0m\u001b[33m() only accepts keyword arguments.\u001b[0m\u001b[33m\"\u001b[0m              \u001b[38;2;255;0;0m│\u001b[0m\n",
       "\u001b[38;2;255;0;0m│\u001b[0m   \u001b[2m 600 \u001b[0m\u001b[2m│   │   │   │   \u001b[0m)                                                                         \u001b[38;2;255;0;0m│\u001b[0m\n",
       "\u001b[38;2;255;0;0m│\u001b[0m   \u001b[2m 601 \u001b[0m\u001b[2m│   │   │   \u001b[0m\u001b[2m# The \"self\" in this scope is referring to the BaseClient.\u001b[0m                    \u001b[38;2;255;0;0m│\u001b[0m\n",
       "\u001b[38;2;255;0;0m│\u001b[0m \u001b[31m❱ \u001b[0m 602 \u001b[2m│   │   │   \u001b[0m\u001b[94mreturn\u001b[0m \u001b[96mself\u001b[0m._make_api_call(operation_name, kwargs)                            \u001b[38;2;255;0;0m│\u001b[0m\n",
       "\u001b[38;2;255;0;0m│\u001b[0m   \u001b[2m 603 \u001b[0m\u001b[2m│   │   \u001b[0m                                                                                  \u001b[38;2;255;0;0m│\u001b[0m\n",
       "\u001b[38;2;255;0;0m│\u001b[0m   \u001b[2m 604 \u001b[0m\u001b[2m│   │   \u001b[0m_api_call.\u001b[91m__name__\u001b[0m = \u001b[96mstr\u001b[0m(py_operation_name)                                       \u001b[38;2;255;0;0m│\u001b[0m\n",
       "\u001b[38;2;255;0;0m│\u001b[0m   \u001b[2m 605 \u001b[0m                                                                                          \u001b[38;2;255;0;0m│\u001b[0m\n",
       "\u001b[38;2;255;0;0m│\u001b[0m                                                                                                  \u001b[38;2;255;0;0m│\u001b[0m\n",
       "\u001b[38;2;255;0;0m│\u001b[0m \u001b[2m/home/ec2-user/anaconda3/envs/python3/lib/python3.10/site-packages/botocore/\u001b[0m\u001b[1mcontext.py\u001b[0m:123 in    \u001b[38;2;255;0;0m│\u001b[0m\n",
       "\u001b[38;2;255;0;0m│\u001b[0m wrapper                                                                                          \u001b[38;2;255;0;0m│\u001b[0m\n",
       "\u001b[38;2;255;0;0m│\u001b[0m                                                                                                  \u001b[38;2;255;0;0m│\u001b[0m\n",
       "\u001b[38;2;255;0;0m│\u001b[0m   \u001b[2m120 \u001b[0m\u001b[2m│   │   │   \u001b[0m\u001b[94mwith\u001b[0m start_as_current_context():                                               \u001b[38;2;255;0;0m│\u001b[0m\n",
       "\u001b[38;2;255;0;0m│\u001b[0m   \u001b[2m121 \u001b[0m\u001b[2m│   │   │   │   \u001b[0m\u001b[94mif\u001b[0m hook:                                                                   \u001b[38;2;255;0;0m│\u001b[0m\n",
       "\u001b[38;2;255;0;0m│\u001b[0m   \u001b[2m122 \u001b[0m\u001b[2m│   │   │   │   │   \u001b[0mhook()                                                                 \u001b[38;2;255;0;0m│\u001b[0m\n",
       "\u001b[38;2;255;0;0m│\u001b[0m \u001b[31m❱ \u001b[0m123 \u001b[2m│   │   │   │   \u001b[0m\u001b[94mreturn\u001b[0m func(*args, **kwargs)                                               \u001b[38;2;255;0;0m│\u001b[0m\n",
       "\u001b[38;2;255;0;0m│\u001b[0m   \u001b[2m124 \u001b[0m\u001b[2m│   │   \u001b[0m                                                                                   \u001b[38;2;255;0;0m│\u001b[0m\n",
       "\u001b[38;2;255;0;0m│\u001b[0m   \u001b[2m125 \u001b[0m\u001b[2m│   │   \u001b[0m\u001b[94mreturn\u001b[0m wrapper                                                                     \u001b[38;2;255;0;0m│\u001b[0m\n",
       "\u001b[38;2;255;0;0m│\u001b[0m   \u001b[2m126 \u001b[0m                                                                                           \u001b[38;2;255;0;0m│\u001b[0m\n",
       "\u001b[38;2;255;0;0m│\u001b[0m                                                                                                  \u001b[38;2;255;0;0m│\u001b[0m\n",
       "\u001b[38;2;255;0;0m│\u001b[0m \u001b[2m/home/ec2-user/anaconda3/envs/python3/lib/python3.10/site-packages/botocore/\u001b[0m\u001b[1mclient.py\u001b[0m:1078 in    \u001b[38;2;255;0;0m│\u001b[0m\n",
       "\u001b[38;2;255;0;0m│\u001b[0m _make_api_call                                                                                   \u001b[38;2;255;0;0m│\u001b[0m\n",
       "\u001b[38;2;255;0;0m│\u001b[0m                                                                                                  \u001b[38;2;255;0;0m│\u001b[0m\n",
       "\u001b[38;2;255;0;0m│\u001b[0m   \u001b[2m1075 \u001b[0m\u001b[2m│   │   │   │   \u001b[0m\u001b[33m'\u001b[0m\u001b[33merror_code_override\u001b[0m\u001b[33m'\u001b[0m                                                     \u001b[38;2;255;0;0m│\u001b[0m\n",
       "\u001b[38;2;255;0;0m│\u001b[0m   \u001b[2m1076 \u001b[0m\u001b[2m│   │   │   \u001b[0m) \u001b[95mor\u001b[0m error_info.get(\u001b[33m\"\u001b[0m\u001b[33mCode\u001b[0m\u001b[33m\"\u001b[0m)                                                   \u001b[38;2;255;0;0m│\u001b[0m\n",
       "\u001b[38;2;255;0;0m│\u001b[0m   \u001b[2m1077 \u001b[0m\u001b[2m│   │   │   \u001b[0merror_class = \u001b[96mself\u001b[0m.exceptions.from_code(error_code)                           \u001b[38;2;255;0;0m│\u001b[0m\n",
       "\u001b[38;2;255;0;0m│\u001b[0m \u001b[31m❱ \u001b[0m1078 \u001b[2m│   │   │   \u001b[0m\u001b[94mraise\u001b[0m error_class(parsed_response, operation_name)                            \u001b[38;2;255;0;0m│\u001b[0m\n",
       "\u001b[38;2;255;0;0m│\u001b[0m   \u001b[2m1079 \u001b[0m\u001b[2m│   │   \u001b[0m\u001b[94melse\u001b[0m:                                                                             \u001b[38;2;255;0;0m│\u001b[0m\n",
       "\u001b[38;2;255;0;0m│\u001b[0m   \u001b[2m1080 \u001b[0m\u001b[2m│   │   │   \u001b[0m\u001b[94mreturn\u001b[0m parsed_response                                                        \u001b[38;2;255;0;0m│\u001b[0m\n",
       "\u001b[38;2;255;0;0m│\u001b[0m   \u001b[2m1081 \u001b[0m                                                                                          \u001b[38;2;255;0;0m│\u001b[0m\n",
       "\u001b[38;2;255;0;0m╰──────────────────────────────────────────────────────────────────────────────────────────────────╯\u001b[0m\n",
       "\u001b[1;91mConflictException: \u001b[0mAn error occurred \u001b[1m(\u001b[0mConflictException\u001b[1m)\u001b[0m when calling the CreateAgent operation: Could not perform \n",
       "Create operation, since the peak-agent-7eb12cba \u001b[1m(\u001b[0mid: EDIE8XHWJV\u001b[1m)\u001b[0m with the same name peak-agent-7eb12cba already \n",
       "exists\n"
      ]
     },
     "metadata": {},
     "output_type": "display_data"
    }
   ],
   "source": [
    "peak_agent = agents.create_agent(\n",
    "    peak_agent_name,\n",
    "    \"\"\"You are a peak load manager bot. \n",
    "    You can retrieve information from IoT devices and Knowledge Bases, \n",
    "    identify process and their peak energy consumption and suggest shifts to off-peak hours.\n",
    "    \"\"\",\n",
    "    \"\"\"You are a Peak Load Manager Bot that optimizes energy consumption patterns\n",
    "by analyzing IoT device data, video information from Knowledge Bases and process schedules.\n",
    "\n",
    "Your capabilities include:\n",
    "1. Retrieving data from IoT devices and Knowledge Bases\n",
    "2. Identifying non-essential loads during peak hours and reallocating them to other schedules\n",
    "3. Recommending schedule adjustments\n",
    "4. Identify energy waste patterns inside residential areas and recommend energy saving tips\n",
    "\n",
    "Response style:\n",
    "- Be precise and analytical\n",
    "- Use clear, practical language\n",
    "- Focus on actionable recommendations\n",
    "- Support suggestions with data\n",
    "- Be concise yet thorough\n",
    "- Do not request information that can be retrieved from IoT devices\n",
    "    \"\"\",\n",
    "    agent_foundation_model\n",
    ")\n",
    "\n",
    "peak_agent"
   ]
  },
  {
   "cell_type": "markdown",
   "id": "033ddea6-dcca-49d0-8d51-57a49293507d",
   "metadata": {},
   "source": [
    "## Creating BDA project\n",
    "To start a BDA job, you need a BDA project, which organizes both standard and custom output configurations. This project is reusable, allowing you to apply the same configuration to process multiple video/audio files that share the same settings."
   ]
  },
  {
   "cell_type": "code",
   "execution_count": null,
   "id": "2ea323d3-6b32-4907-90c6-98acc11ad579",
   "metadata": {},
   "outputs": [],
   "source": [
    "bda_client = boto3.client('bedrock-data-automation', region_name=region)\n",
    "bda_runtime_client = boto3.client('bedrock-data-automation-runtime', region_name=region)\n",
    "s3_client = boto3.client('s3', region_name=region)\n",
    "\n",
    "kb_bucket_name = f'peak-load-kb-datasource-{account_id}-{resource_suffix}'\n",
    "\n",
    "s3_client.create_bucket(\n",
    "    Bucket=kb_bucket_name,\n",
    "    # CreateBucketConfiguration={'LocationConstraint': region} # Comment this out if you are in us-east-1\n",
    ")\n",
    "\n",
    "bucket_name_input = f's3://{bucket_name}/bda/input'      # DBA input path\n",
    "bucket_name_output = f's3://{bucket_name}/bda/output'    # DBA output path"
   ]
  },
  {
   "cell_type": "code",
   "execution_count": null,
   "id": "c5511b89-4fb0-427e-b9c2-c1c2e9454da0",
   "metadata": {},
   "outputs": [],
   "source": [
    "project_name= f'bda-kb-project-{resource_suffix}'\n",
    "\n",
    "# delete project if it already exists\n",
    "projects_existing = [project for project in bda_client.list_data_automation_projects(projectStageFilter='ALL')[\"projects\"] if project[\"projectName\"] == project_name]\n",
    "if len(projects_existing) >0:\n",
    "    print(f\"Deleting existing project: {projects_existing[0]}\")\n",
    "    bda_client.delete_data_automation_project(projectArn=projects_existing[0][\"projectArn\"])"
   ]
  },
  {
   "cell_type": "code",
   "execution_count": null,
   "id": "597724ce-d876-44df-864b-c70a05570bc2",
   "metadata": {},
   "outputs": [],
   "source": [
    "response = bda_client.create_data_automation_project(\n",
    "    projectName=project_name,\n",
    "    projectDescription='BDA video processing project',\n",
    "    projectStage='DEVELOPMENT',\n",
    "    standardOutputConfiguration={\n",
    "        \"video\": {\n",
    "            \"extraction\": {\n",
    "                \"category\": {\n",
    "                    \"state\": \"ENABLED\",\n",
    "                    \"types\": [\"CONTENT_MODERATION\", \"TEXT_DETECTION\", \"TRANSCRIPT\"]\n",
    "                },\n",
    "                \"boundingBox\": {\"state\": \"ENABLED\"}\n",
    "            },\n",
    "            \"generativeField\": {\n",
    "                \"state\": \"ENABLED\",\n",
    "                \"types\": [\"VIDEO_SUMMARY\", \"CHAPTER_SUMMARY\", \"IAB\"]\n",
    "            }\n",
    "        },\n",
    "        \"audio\": {\n",
    "            \"extraction\": {\n",
    "                \"category\": {\n",
    "                    \"state\": \"ENABLED\", \n",
    "                    \"types\": [\"AUDIO_CONTENT_MODERATION\", \"TOPIC_CONTENT_MODERATION\", \"TRANSCRIPT\"]\n",
    "                }\n",
    "            },\n",
    "            \"generativeField\": {\n",
    "                \"state\": \"ENABLED\",\n",
    "                \"types\": [\"AUDIO_SUMMARY\", \"TOPIC_SUMMARY\", \"IAB\"]\n",
    "            }\n",
    "        }\n",
    "    }\n",
    ")\n"
   ]
  },
  {
   "cell_type": "code",
   "execution_count": null,
   "id": "f102715c-032e-4e93-be3c-2aec1e574d11",
   "metadata": {},
   "outputs": [],
   "source": [
    "kb_project_arn = response.get(\"projectArn\")\n",
    "print(\"BDA kb project ARN:\", kb_project_arn)"
   ]
  },
  {
   "cell_type": "markdown",
   "id": "97f3b740-4727-477b-bd97-f3d136af2ea5",
   "metadata": {},
   "source": [
    "### Start BDA tasks\n",
    "We will now invoke the BDA API to process the uploaded audio file. You need to provide the BDA project ARN that we created at the beginning of the lab and specify an S3 location where BDA will store the output results.\n",
    "\n",
    "For a complete API reference for invoke a BDA async task, refer to this [document](https://boto3.amazonaws.com/v1/documentation/api/latest/reference/services/bedrock-data-automation-runtime/client/invoke_data_automation_async.html)."
   ]
  },
  {
   "cell_type": "code",
   "execution_count": 14,
   "id": "eb026c44-9310-4eb0-9a0b-64e3440ef8fc",
   "metadata": {},
   "outputs": [
    {
     "name": "stdout",
     "output_type": "stream",
     "text": [
      "Downloading IMG_4814.MOV...\n",
      "Successfully downloaded IMG_4814.MOV\n",
      "Downloading IMG_4813.MOV...\n",
      "Successfully downloaded IMG_4813.MOV\n"
     ]
    }
   ],
   "source": [
    "import os\n",
    "import boto3\n",
    "import requests\n",
    "from pathlib import Path\n",
    "\n",
    "# Create video directory if it doesn't exist\n",
    "video_dir = \"./video\"\n",
    "Path(video_dir).mkdir(parents=True, exist_ok=True)\n",
    "\n",
    "# List of video URLs and their target filenames\n",
    "videos = [\n",
    "    (\"IMG_4814.MOV\", \"https://ws-assets-prod-iad-r-pdx-f3b3f9f1a7d6a3d0.s3.us-west-2.amazonaws.com/1031afa5-be84-4a6a-9886-4e19ce67b9c2/video/IMG_4814.MOV\"),\n",
    "    (\"IMG_4813.MOV\", \"https://ws-assets-prod-iad-r-pdx-f3b3f9f1a7d6a3d0.s3.us-west-2.amazonaws.com/1031afa5-be84-4a6a-9886-4e19ce67b9c2/video/IMG_4813.MOV\")\n",
    "]\n",
    "\n",
    "# Download the videos\n",
    "for filename, url in videos:\n",
    "    output_path = os.path.join(video_dir, filename)\n",
    "    print(f\"Downloading {filename}...\")\n",
    "    \n",
    "    response = requests.get(url, stream=True)\n",
    "    if response.status_code == 200:\n",
    "        with open(output_path, 'wb') as f:\n",
    "            for chunk in response.iter_content(chunk_size=8192):\n",
    "                if chunk:\n",
    "                    f.write(chunk)\n",
    "        print(f\"Successfully downloaded {filename}\")\n",
    "    else:\n",
    "        print(f\"Failed to download {filename}\")\n"
   ]
  },
  {
   "cell_type": "code",
   "execution_count": 15,
   "id": "e6a2d18c-e783-41bb-94c5-43b95dee67bb",
   "metadata": {},
   "outputs": [],
   "source": [
    "time.sleep(15)"
   ]
  },
  {
   "cell_type": "code",
   "execution_count": 16,
   "id": "f5274f66-193f-4e57-be29-64473aaa5aef",
   "metadata": {},
   "outputs": [
    {
     "name": "stdout",
     "output_type": "stream",
     "text": [
      "14:47:52 : BDA kb video task: Success \n",
      "Ouput configuration file: s3://sagemaker-us-east-1-833005555478/bda/output//a2807b3a-c4c5-4854-8101-e08bde519559/job_metadata.json\n",
      "bda/output//a2807b3a-c4c5-4854-8101-e08bde519559/0/standard_output/0/result.json\n",
      "uploading file result_vid_IMG_4814.MOV.json to KB bucket peak-load-kb-datasource-833005555478-7eb12cba\n"
     ]
    }
   ],
   "source": [
    "# Upload video files\n",
    "import os\n",
    "from IPython.display import JSON, IFrame, Video, display, clear_output\n",
    "from datetime import datetime\n",
    "import time\n",
    "from time import sleep\n",
    "\n",
    "path=\"./video\"\n",
    "        \n",
    "for root,dirs,files in os.walk(path):\n",
    "    for file in files:\n",
    "        file_to_upload = os.path.join(root,file)\n",
    "                       \n",
    "        file_input = f'bda/input/video/{file}'\n",
    "        \n",
    "        print(f\"uploading file {file_to_upload} to {bucket_name}\")\n",
    "        s3_client.upload_file(file_to_upload,bucket_name,file_input)\n",
    "\n",
    "        output_name = f'bda/output/'\n",
    "        # Start BDA task video\n",
    "        response_vid = bda_runtime_client.invoke_data_automation_async(\n",
    "            inputConfiguration={'s3Uri':  f\"s3://{bucket_name}/{file_input}\"},\n",
    "            outputConfiguration={'s3Uri': f\"s3://{bucket_name}/{output_name}\"},\n",
    "            dataAutomationProfileArn= f'arn:aws:bedrock:{region}:{account_id}:data-automation-profile/us.data-automation-v1',\n",
    "            dataAutomationConfiguration={\n",
    "                'dataAutomationProjectArn':kb_project_arn,\n",
    "                #'dataAutomationArn': kb_project_arn,\n",
    "                'stage': 'DEVELOPMENT'\n",
    "            })\n",
    "\n",
    "        invocation_video_arn = response_vid.get(\"invocationArn\")\n",
    "        print(\"BDA video task started:\", invocation_video_arn)\n",
    "\n",
    "        statusVideo, status_vid_response = None, None\n",
    "        \n",
    "        while statusVideo not in [\"Success\",\"ServiceError\",\"ClientError\"]:\n",
    "            status_vid_response = bda_runtime_client.get_data_automation_status(\n",
    "                invocationArn=invocation_video_arn\n",
    "            )\n",
    "            statusVideo = status_vid_response.get(\"status\")\n",
    "    \n",
    "            clear_output(wait=True)\n",
    "            print(f\"{datetime.now().strftime('%H:%M:%S')} : \"\\\n",
    "              f\"BDA kb video task: {statusVideo} \")\n",
    "            time.sleep(5)\n",
    "\n",
    "\n",
    "        output_vid_config = status_vid_response.get(\"outputConfiguration\",{}).get(\"s3Uri\")\n",
    "        print(\"Ouput configuration file:\", output_vid_config)\n",
    "\n",
    "        # prep BDA output for the kb\n",
    "        out_vid_loc = status_vid_response['outputConfiguration']['s3Uri'].split(\"/job_metadata.json\", 1)[0].split(bucket_name+\"/\")[1]\n",
    "        out_vid_loc += \"/0/standard_output/0/result.json\"\n",
    "        print(out_vid_loc)\n",
    "        s3_client.download_file(bucket_name, out_vid_loc, f'result_vid_{file}.json')\n",
    "        \n",
    "        kb_file = f'data/result_vid_{file}_kb.json'\n",
    "        local_file =f'result_vid_{file}.json'\n",
    "        \n",
    "        #filter_json(f'result_vid_{file}.json', local_file)\n",
    "\n",
    "        print(f\"uploading file {local_file} to KB bucket {kb_bucket_name}\")\n",
    "        s3_client.upload_file(local_file, kb_bucket_name, kb_file )\n",
    "        \n",
    "        \n"
   ]
  },
  {
   "cell_type": "code",
   "execution_count": 17,
   "id": "a1954622-24d6-4c99-ad32-a8a12d572e9d",
   "metadata": {},
   "outputs": [
    {
     "name": "stdout",
     "output_type": "stream",
     "text": [
      "========================================================================================\n",
      "Step 1 - Creating or retrieving S3 bucket(s) for Knowledge Base documents\n",
      "['peak-load-kb-datasource-833005555478-7eb12cba', 'peak-load-kb-video-intermediate-7eb12cba-f']\n",
      "buckets_to_check:  ['peak-load-kb-datasource-833005555478-7eb12cba', 'peak-load-kb-video-intermediate-7eb12cba-f']\n",
      "Bucket peak-load-kb-datasource-833005555478-7eb12cba already exists - retrieving it!\n",
      "Creating bucket peak-load-kb-video-intermediate-7eb12cba-f\n",
      "========================================================================================\n",
      "Step 2 - Creating Knowledge Base Execution Role (AmazonBedrockExecutionRoleForKnowledgeBase_7eb12cba-f) and Policies\n",
      "========================================================================================\n",
      "Step 3 - Creating OSS encryption, network and data access policies\n",
      "========================================================================================\n",
      "Step 4 - Creating OSS Collection (this step takes a couple of minutes to complete)\n",
      "{ 'ResponseMetadata': { 'HTTPHeaders': { 'connection': 'keep-alive',\n",
      "                                         'content-length': '321',\n",
      "                                         'content-type': 'application/x-amz-json-1.0',\n",
      "                                         'date': 'Sat, 18 Oct 2025 14:47:59 '\n",
      "                                                 'GMT',\n",
      "                                         'x-amzn-requestid': 'ac83910a-935c-42ef-92a6-035d0fade004'},\n",
      "                        'HTTPStatusCode': 200,\n",
      "                        'RequestId': 'ac83910a-935c-42ef-92a6-035d0fade004',\n",
      "                        'RetryAttempts': 0},\n",
      "  'createCollectionDetail': { 'arn': 'arn:aws:aoss:us-east-1:833005555478:collection/3q1oxokwiz9mb27myyf5',\n",
      "                              'createdDate': 1760798879719,\n",
      "                              'id': '3q1oxokwiz9mb27myyf5',\n",
      "                              'kmsKeyArn': 'auto',\n",
      "                              'lastModifiedDate': 1760798879719,\n",
      "                              'name': 'bedrock-sample-rag-7eb12cba-f',\n",
      "                              'standbyReplicas': 'ENABLED',\n",
      "                              'status': 'CREATING',\n",
      "                              'type': 'VECTORSEARCH'}}\n",
      "3q1oxokwiz9mb27myyf5.us-east-1.aoss.amazonaws.com\n",
      "Creating collection...\n",
      "..............................\n",
      "Collection successfully created:\n",
      "[ { 'arn': 'arn:aws:aoss:us-east-1:833005555478:collection/3q1oxokwiz9mb27myyf5',\n",
      "    'collectionEndpoint': 'https://3q1oxokwiz9mb27myyf5.us-east-1.aoss.amazonaws.com',\n",
      "    'createdDate': 1760798879719,\n",
      "    'dashboardEndpoint': 'https://3q1oxokwiz9mb27myyf5.us-east-1.aoss.amazonaws.com/_dashboards',\n",
      "    'fipsEndpoints': { 'collectionEndpoint': 'https://3q1oxokwiz9mb27myyf5.us-east-1.aoss-fips.amazonaws.com',\n",
      "                       'dashboardEndpoint': 'https://3q1oxokwiz9mb27myyf5.us-east-1.aoss-fips.amazonaws.com/_dashboards'},\n",
      "    'id': '3q1oxokwiz9mb27myyf5',\n",
      "    'kmsKeyArn': 'auto',\n",
      "    'lastModifiedDate': 1760798903414,\n",
      "    'name': 'bedrock-sample-rag-7eb12cba-f',\n",
      "    'standbyReplicas': 'ENABLED',\n",
      "    'status': 'ACTIVE',\n",
      "    'type': 'VECTORSEARCH'}]\n",
      "Opensearch serverless arn:  arn:aws:iam::833005555478:policy/AmazonBedrockOSSPolicyForKnowledgeBase_7eb12cba-f\n",
      "Sleeping for a minute to ensure data access rules have been enforced\n",
      "========================================================================================\n",
      "Step 5 - Creating OSS Vector Index\n",
      "\n",
      "Creating index:\n",
      "{ 'acknowledged': True,\n",
      "  'index': 'bedrock-sample-rag-index-7eb12cba-f',\n",
      "  'shards_acknowledged': True}\n",
      "========================================================================================\n",
      "Step 6 - Will create Lambda Function if chunking strategy selected as CUSTOM\n",
      "Not creating lambda function as chunking strategy is FIXED_SIZE\n",
      "========================================================================================\n",
      "Step 7 - Creating Knowledge Base\n",
      "{ 'createdAt': datetime.datetime(2025, 10, 18, 14, 50, 30, 816820, tzinfo=tzlocal()),\n",
      "  'description': 'Knowledge Base containing peak load video data that show '\n",
      "                 'various energy consumption patterns inside a house',\n",
      "  'knowledgeBaseArn': 'arn:aws:bedrock:us-east-1:833005555478:knowledge-base/IJUHZEBSCV',\n",
      "  'knowledgeBaseConfiguration': { 'type': 'VECTOR',\n",
      "                                  'vectorKnowledgeBaseConfiguration': { 'embeddingModelArn': 'arn:aws:bedrock:us-east-1::foundation-model/amazon.titan-embed-text-v2:0',\n",
      "                                                                        'supplementalDataStorageConfiguration': { 'storageLocations': [ { 's3Location': { 'uri': 's3://peak-load-kb-video-intermediate-7eb12cba-f'},\n",
      "                                                                                                                                          'type': 'S3'}]}}},\n",
      "  'knowledgeBaseId': 'IJUHZEBSCV',\n",
      "  'name': 'peak-load-kb-video',\n",
      "  'roleArn': 'arn:aws:iam::833005555478:role/AmazonBedrockExecutionRoleForKnowledgeBase_7eb12cba-f',\n",
      "  'status': 'CREATING',\n",
      "  'storageConfiguration': { 'opensearchServerlessConfiguration': { 'collectionArn': 'arn:aws:aoss:us-east-1:833005555478:collection/3q1oxokwiz9mb27myyf5',\n",
      "                                                                   'fieldMapping': { 'metadataField': 'text-metadata',\n",
      "                                                                                     'textField': 'text',\n",
      "                                                                                     'vectorField': 'vector'},\n",
      "                                                                   'vectorIndexName': 'bedrock-sample-rag-index-7eb12cba-f'},\n",
      "                            'type': 'OPENSEARCH_SERVERLESS'},\n",
      "  'updatedAt': datetime.datetime(2025, 10, 18, 14, 50, 30, 816820, tzinfo=tzlocal())}\n",
      "Creating Data Sources\n",
      "{ 'createdAt': datetime.datetime(2025, 10, 18, 14, 50, 30, 816820, tzinfo=tzlocal()),\n",
      "  'description': 'Knowledge Base containing peak load video data that show '\n",
      "                 'various energy consumption patterns inside a house',\n",
      "  'knowledgeBaseArn': 'arn:aws:bedrock:us-east-1:833005555478:knowledge-base/IJUHZEBSCV',\n",
      "  'knowledgeBaseConfiguration': { 'type': 'VECTOR',\n",
      "                                  'vectorKnowledgeBaseConfiguration': { 'embeddingModelArn': 'arn:aws:bedrock:us-east-1::foundation-model/amazon.titan-embed-text-v2:0',\n",
      "                                                                        'supplementalDataStorageConfiguration': { 'storageLocations': [ { 's3Location': { 'uri': 's3://peak-load-kb-video-intermediate-7eb12cba-f'},\n",
      "                                                                                                                                          'type': 'S3'}]}}},\n",
      "  'knowledgeBaseId': 'IJUHZEBSCV',\n",
      "  'name': 'peak-load-kb-video',\n",
      "  'roleArn': 'arn:aws:iam::833005555478:role/AmazonBedrockExecutionRoleForKnowledgeBase_7eb12cba-f',\n",
      "  'status': 'ACTIVE',\n",
      "  'storageConfiguration': { 'opensearchServerlessConfiguration': { 'collectionArn': 'arn:aws:aoss:us-east-1:833005555478:collection/3q1oxokwiz9mb27myyf5',\n",
      "                                                                   'fieldMapping': { 'metadataField': 'text-metadata',\n",
      "                                                                                     'textField': 'text',\n",
      "                                                                                     'vectorField': 'vector'},\n",
      "                                                                   'vectorIndexName': 'bedrock-sample-rag-index-7eb12cba-f'},\n",
      "                            'type': 'OPENSEARCH_SERVERLESS'},\n",
      "  'updatedAt': datetime.datetime(2025, 10, 18, 14, 50, 30, 816820, tzinfo=tzlocal())}\n",
      "Creating Data Sources\n",
      "============Chunking config========\n",
      " {'chunkingConfiguration': {'chunkingStrategy': 'FIXED_SIZE', 'fixedSizeChunkingConfiguration': {'maxTokens': 300, 'overlapPercentage': 20}}}\n",
      "1 data source: S3\n",
      "{ 'createdAt': datetime.datetime(2025, 10, 18, 14, 50, 32, 918787, tzinfo=tzlocal()),\n",
      "  'dataDeletionPolicy': 'DELETE',\n",
      "  'dataSourceConfiguration': { 's3Configuration': { 'bucketArn': 'arn:aws:s3:::peak-load-kb-datasource-833005555478-7eb12cba'},\n",
      "                               'type': 'S3'},\n",
      "  'dataSourceId': '6INC0LRUY7',\n",
      "  'description': 'Knowledge Base containing peak load video data that show '\n",
      "                 'various energy consumption patterns inside a house',\n",
      "  'knowledgeBaseId': 'IJUHZEBSCV',\n",
      "  'name': 'IJUHZEBSCV-s3',\n",
      "  'status': 'AVAILABLE',\n",
      "  'updatedAt': datetime.datetime(2025, 10, 18, 14, 50, 32, 918787, tzinfo=tzlocal()),\n",
      "  'vectorIngestionConfiguration': { 'chunkingConfiguration': { 'chunkingStrategy': 'FIXED_SIZE',\n",
      "                                                               'fixedSizeChunkingConfiguration': { 'maxTokens': 300,\n",
      "                                                                                                   'overlapPercentage': 20}},\n",
      "                                    'parsingConfiguration': { 'bedrockDataAutomationConfiguration': { 'parsingModality': 'MULTIMODAL'},\n",
      "                                                              'parsingStrategy': 'BEDROCK_DATA_AUTOMATION'}}}\n",
      "[ { 'createdAt': datetime.datetime(2025, 10, 18, 14, 50, 32, 918787, tzinfo=tzlocal()),\n",
      "    'dataDeletionPolicy': 'DELETE',\n",
      "    'dataSourceConfiguration': { 's3Configuration': { 'bucketArn': 'arn:aws:s3:::peak-load-kb-datasource-833005555478-7eb12cba'},\n",
      "                                 'type': 'S3'},\n",
      "    'dataSourceId': '6INC0LRUY7',\n",
      "    'description': 'Knowledge Base containing peak load video data that show '\n",
      "                   'various energy consumption patterns inside a house',\n",
      "    'knowledgeBaseId': 'IJUHZEBSCV',\n",
      "    'name': 'IJUHZEBSCV-s3',\n",
      "    'status': 'AVAILABLE',\n",
      "    'updatedAt': datetime.datetime(2025, 10, 18, 14, 50, 32, 918787, tzinfo=tzlocal()),\n",
      "    'vectorIngestionConfiguration': { 'chunkingConfiguration': { 'chunkingStrategy': 'FIXED_SIZE',\n",
      "                                                                 'fixedSizeChunkingConfiguration': { 'maxTokens': 300,\n",
      "                                                                                                     'overlapPercentage': 20}},\n",
      "                                      'parsingConfiguration': { 'bedrockDataAutomationConfiguration': { 'parsingModality': 'MULTIMODAL'},\n",
      "                                                                'parsingStrategy': 'BEDROCK_DATA_AUTOMATION'}}}]\n",
      "========================================================================================\n"
     ]
    }
   ],
   "source": [
    "# Get the absolute path to the parent directory\n",
    "current_dir = os.path.dirname(os.path.abspath(''))\n",
    "parent_dir = os.path.dirname(current_dir)\n",
    "\n",
    "# Add both current and parent directories to sys.path\n",
    "sys.path.insert(0, current_dir)\n",
    "sys.path.insert(1, parent_dir)\n",
    "\n",
    "from utils.knowledge_base import BedrockKnowledgeBase\n",
    "\n",
    "knowledge_base_name = 'peak-load-kb-video'\n",
    "knowledge_base_description = \"Knowledge Base containing peak load video data that show various energy consumption patterns inside a house\"\n",
    "\n",
    "data=[{\"type\": \"S3\", \"bucket_name\": kb_bucket_name}]\n",
    "# For multi-modal RAG While instantiating BedrockKnowledgeBase, pass multi_modal= True and choose the parser you want to use\n",
    "\n",
    "knowledge_base = BedrockKnowledgeBase(\n",
    "    kb_name= knowledge_base_name,\n",
    "    kb_description=knowledge_base_description,\n",
    "    data_sources=data,\n",
    "    multi_modal= True,\n",
    "    parser= 'BEDROCK_DATA_AUTOMATION', #'BEDROCK_FOUNDATION_MODEL'\n",
    "    chunking_strategy = \"FIXED_SIZE\", \n",
    "    suffix = f'{resource_suffix}-f'\n",
    ")"
   ]
  },
  {
   "cell_type": "markdown",
   "id": "ba1fcb97-53e3-4e21-95a9-ee32ee8ff00d",
   "metadata": {},
   "source": [
    "### Start the knowledge Bases ingestion job"
   ]
  },
  {
   "cell_type": "code",
   "execution_count": 18,
   "id": "d4c28076-d3b0-4850-a4ac-33d28f87e19b",
   "metadata": {},
   "outputs": [
    {
     "name": "stdout",
     "output_type": "stream",
     "text": [
      "job 1 started successfully\n",
      "\n",
      "{ 'dataSourceId': '6INC0LRUY7',\n",
      "  'ingestionJobId': 'IMFLEECMGF',\n",
      "  'knowledgeBaseId': 'IJUHZEBSCV',\n",
      "  'startedAt': datetime.datetime(2025, 10, 18, 14, 51, 3, 940611, tzinfo=tzlocal()),\n",
      "  'statistics': { 'numberOfDocumentsDeleted': 0,\n",
      "                  'numberOfDocumentsFailed': 0,\n",
      "                  'numberOfDocumentsScanned': 2,\n",
      "                  'numberOfMetadataDocumentsModified': 0,\n",
      "                  'numberOfMetadataDocumentsScanned': 0,\n",
      "                  'numberOfModifiedDocumentsIndexed': 0,\n",
      "                  'numberOfNewDocumentsIndexed': 2},\n",
      "  'status': 'COMPLETE',\n",
      "  'updatedAt': datetime.datetime(2025, 10, 18, 14, 51, 10, 17973, tzinfo=tzlocal())}\n",
      "'IJUHZEBSCV'............................\n",
      "Stored 'kb_id' (str)\n"
     ]
    }
   ],
   "source": [
    "# ensure that the kb is available\n",
    "time.sleep(30)\n",
    "\n",
    "# sync knowledge base\n",
    "knowledge_base.start_ingestion_job()\n",
    "\n",
    "time.sleep(30)\n",
    "# keep the kb_id for invocation later in the invoke request\n",
    "kb_id = knowledge_base.get_knowledge_base_id()\n",
    "%store kb_id"
   ]
  },
  {
   "cell_type": "markdown",
   "id": "688e3f55-845b-4bc7-8fbd-d63dc0dd46a6",
   "metadata": {},
   "source": [
    "### Associating Knowledge Base to agent"
   ]
  },
  {
   "cell_type": "code",
   "execution_count": 19,
   "id": "d2d47b7a-eef4-4f15-a437-108d9f6c4694",
   "metadata": {},
   "outputs": [],
   "source": [
    "# Associate knowledge base\n",
    "kb_response = agents.associate_kb_with_agent(\n",
    "    agent_id=peak_agent[0],\n",
    "    description=\"This knowledge base contains relevant information for the agent to find energy waste pattern inside a household\",\n",
    "    kb_id=kb_id\n",
    ")\n",
    "\n",
    "time.sleep(30)"
   ]
  },
  {
   "cell_type": "markdown",
   "id": "67dfcc57-5958-45e8-a4ea-53620142c017",
   "metadata": {
    "pycharm": {
     "name": "#%% md\n"
    }
   },
   "source": [
    "## Creating Action Group\n",
    "\n",
    "On this session, we're going create an action group to handle the peak menagement and associate it with our agent. To do so, we will first create a Lambda function code to fulfill the execution of the agent's actions Next we will define the actions available actions that an agent can take using function details. Similar to the previous agent, you can also define the actions available using OpenAPI Schema.\n",
    "\n",
    "#### Creating Lambda function\n",
    "First let's create the lambda function"
   ]
  },
  {
   "cell_type": "code",
   "execution_count": 20,
   "id": "d2cfc71d-4b0e-4b00-9159-cc3efd2becbc",
   "metadata": {
    "pycharm": {
     "name": "#%%\n"
    }
   },
   "outputs": [
    {
     "name": "stdout",
     "output_type": "stream",
     "text": [
      "Overwriting peak_load.py\n"
     ]
    }
   ],
   "source": [
    "%%writefile peak_load.py\n",
    "import os\n",
    "import boto3\n",
    "import json\n",
    "import random\n",
    "\n",
    "from boto3.dynamodb.conditions import Key, Attr\n",
    "\n",
    "dynamodb_resource = boto3.resource('dynamodb')\n",
    "dynamodb_table = os.getenv('dynamodb_table')\n",
    "dynamodb_pk = os.getenv('dynamodb_pk')\n",
    "dynamodb_sk = os.getenv('dynamodb_sk')\n",
    "\n",
    "def get_named_parameter(event, name):\n",
    "    return next(item for item in event['parameters'] if item['name'] == name)['value']\n",
    "    \n",
    "def populate_function_response(event, response_body):\n",
    "    return {'response': {'actionGroup': event['actionGroup'], 'function': event['function'],\n",
    "                'functionResponse': {'responseBody': {'TEXT': {'body': str(response_body)}}}}}\n",
    "\n",
    "def put_dynamodb(table_name, item):\n",
    "    table = dynamodb_resource.Table(table_name)\n",
    "    \n",
    "    resp = table.update_item(\n",
    "        Key={'customer_id': item['customer_id'],\n",
    "             'item_id': item['item_id']},\n",
    "        UpdateExpression='SET #attr1 = :val1',\n",
    "        ExpressionAttributeNames={'#attr1': 'quota'},\n",
    "        ExpressionAttributeValues={':val1':  item['quota']}\n",
    "    )\n",
    "    return resp\n",
    "\n",
    "def read_dynamodb(\n",
    "    table_name: str, \n",
    "    pk_field: str,\n",
    "    pk_value: str,\n",
    "    sk_field: str=None, \n",
    "    sk_value: str=None,\n",
    "    attr_key: str=None,\n",
    "    attr_val: str=None\n",
    "):\n",
    "    try:\n",
    "\n",
    "        table = dynamodb_resource.Table(table_name)\n",
    "        # Create expression\n",
    "        if sk_field:\n",
    "            key_expression = Key(pk_field).eq(pk_value) & Key(sk_field).eq(sk_value)\n",
    "        else:\n",
    "            key_expression = Key(pk_field).eq(pk_value)\n",
    "\n",
    "        if attr_key:\n",
    "            attr_expression = Attr(attr_key).eq(attr_val)\n",
    "            query_data = table.query(\n",
    "                KeyConditionExpression=key_expression,\n",
    "                FilterExpression=attr_expression\n",
    "            )\n",
    "        else:\n",
    "            query_data = table.query(\n",
    "                KeyConditionExpression=key_expression\n",
    "            )\n",
    "        \n",
    "        return query_data['Items']\n",
    "    except Exception:\n",
    "        print(f'Error querying table: {table_name}.')\n",
    "\n",
    "\n",
    "def detect_peak(customer_id):\n",
    "    return read_dynamodb(dynamodb_table, \n",
    "                         dynamodb_pk, \n",
    "                         customer_id, \n",
    "                         attr_key=\"peak\", attr_val=\"True\")\n",
    "\n",
    "def detect_non_essential_processes(customer_id):\n",
    "    return read_dynamodb(dynamodb_table, \n",
    "                         dynamodb_pk, \n",
    "                         customer_id,\n",
    "                         attr_key=\"essential\", attr_val=\"False\")\n",
    "\n",
    "                \n",
    "def redistribute_allocation(customer_id, item_id, quota):\n",
    "    item = {\n",
    "        'customer_id': customer_id,\n",
    "        'item_id': item_id,\n",
    "        'quota': quota\n",
    "    }\n",
    "    resp = put_dynamodb(dynamodb_table, item)\n",
    "    return \"Item {} has been updated. New quota: {}\".format(item_id, quota)\n",
    "\n",
    "\n",
    "def lambda_handler(event, context):\n",
    "    print(event)\n",
    "    \n",
    "    # name of the function that should be invoked\n",
    "    function = event.get('function', '')\n",
    "\n",
    "    # parameters to invoke function with\n",
    "    parameters = event.get('parameters', [])\n",
    "    \n",
    "    customer_id = get_named_parameter(event, \"customer_id\")\n",
    "\n",
    "    if function == 'detect_peak':    \n",
    "        result = detect_peak(customer_id)\n",
    "    elif function == 'detect_non_essential_processes':    \n",
    "        result = detect_non_essential_processes(customer_id)\n",
    "    elif function == 'redistribute_allocation':    \n",
    "        item_id = get_named_parameter(event, \"item_id\")\n",
    "        quota = get_named_parameter(event, \"quota\")\n",
    "        result = redistribute_allocation(customer_id, item_id, quota)\n",
    "    else:\n",
    "        result = f\"Error, function '{function}' not recognized\"\n",
    "\n",
    "    response = populate_function_response(event, result)\n",
    "    print(response)\n",
    "    return response"
   ]
  },
  {
   "cell_type": "markdown",
   "id": "566ff86c-e2c8-475a-833e-e0bc359c5767",
   "metadata": {
    "pycharm": {
     "name": "#%% md\n"
    }
   },
   "source": [
    "### Defining available actions\n",
    "Now it's time to define the actions that can be taken by the agent"
   ]
  },
  {
   "cell_type": "code",
   "execution_count": 21,
   "id": "0438266d",
   "metadata": {
    "pycharm": {
     "name": "#%%\n"
    }
   },
   "outputs": [],
   "source": [
    "functions_def = [\n",
    "    {\n",
    "        \"name\": \"detect_peak\",\n",
    "        \"description\": \"\"\"detect consumption peak during current month\"\"\",\n",
    "        \"parameters\": {\n",
    "                        \"customer_id\": {\n",
    "                            \"description\": \"The ID of the customer\",\n",
    "                            \"required\": True,\n",
    "                            \"type\": \"string\"\n",
    "                        }\n",
    "                    }\n",
    "    },\n",
    "    {\n",
    "        \"name\": \"detect_non_essential_processes\",\n",
    "        \"description\": \"\"\"detect non-essential processes that are causing the peaks\"\"\",\n",
    "        \"parameters\": {\n",
    "                        \"customer_id\": {\n",
    "                            \"description\": \"The ID of the customer\",\n",
    "                            \"required\": True,\n",
    "                            \"type\": \"string\"\n",
    "                        }\n",
    "                    }\n",
    "    },\n",
    "    {\n",
    "        \"name\": \"redistribute_allocation\",\n",
    "        \"description\": \"\"\"reduce/increase allocated quota for a specific \n",
    "                            item during current month\"\"\",\n",
    "        \"parameters\": {\n",
    "                        \"customer_id\": {\n",
    "                            \"description\": \"The ID of the customer\",\n",
    "                            \"required\": True,\n",
    "                            \"type\": \"string\"\n",
    "                        },\n",
    "                        \"item_id\": {\n",
    "                            \"description\": \"Item that will be updated\",\n",
    "                            \"required\": True,\n",
    "                            \"type\": \"string\"\n",
    "                        },\n",
    "                        \"quota\": {\n",
    "                            \"description\": \"new quota\",\n",
    "                            \"required\": True,\n",
    "                            \"type\": \"string\"\n",
    "                        }\n",
    "                    }\n",
    "    }\n",
    "]"
   ]
  },
  {
   "cell_type": "markdown",
   "id": "d4a81c4d-1bf6-4df3-a0b5-0add070d2b73",
   "metadata": {
    "pycharm": {
     "name": "#%% md\n"
    }
   },
   "source": [
    "### Associating action group to agent\n",
    "Finally, we can associate a new action group with our previously created agent"
   ]
  },
  {
   "cell_type": "code",
   "execution_count": 22,
   "id": "d45c21c0-7a28-417c-a506-021a57b73596",
   "metadata": {
    "pycharm": {
     "name": "#%%\n"
    }
   },
   "outputs": [],
   "source": [
    "resp = agents.add_action_group_with_lambda(\n",
    "    agent_name=peak_agent_name,\n",
    "    lambda_function_name=peak_lambda_name,\n",
    "    source_code_file=\"peak_load.py\",\n",
    "    agent_functions=functions_def,\n",
    "    agent_action_group_name=\"peak_load_actions\",\n",
    "    agent_action_group_description=\"Function to get usage, peaks, redistribution for a user\",\n",
    "    dynamo_args=dynamoDB_args\n",
    ")"
   ]
  },
  {
   "cell_type": "markdown",
   "id": "469df2c4",
   "metadata": {
    "pycharm": {
     "name": "#%% md\n"
    }
   },
   "source": [
    "## Loading data to DynamoDB\n",
    "\n",
    "Now that we've created our agent, let's load some generated data to DynamoDB. That will allow the agent to interact with some live data to perform actions"
   ]
  },
  {
   "cell_type": "code",
   "execution_count": 23,
   "id": "adc2ad79",
   "metadata": {
    "pycharm": {
     "name": "#%%\n"
    }
   },
   "outputs": [],
   "source": [
    "with open(\"3_peak_sample_data.json\") as f:\n",
    "    table_items = [json.loads(line) for line in f]\n",
    "\n",
    "agents.load_dynamodb(dynamodb_table, table_items)"
   ]
  },
  {
   "cell_type": "markdown",
   "id": "fc3cf13f",
   "metadata": {
    "pycharm": {
     "name": "#%% md\n"
    }
   },
   "source": [
    "Testing that data was loaded on DynamoDB"
   ]
  },
  {
   "cell_type": "code",
   "execution_count": 24,
   "id": "070e5227",
   "metadata": {
    "pycharm": {
     "name": "#%%\n"
    }
   },
   "outputs": [
    {
     "data": {
      "text/plain": [
       "[{'customer_id': '1',\n",
       "  'used': '10',\n",
       "  'quota': '20',\n",
       "  'item_desc': 'fridge',\n",
       "  'essential': 'True',\n",
       "  'item_id': '1'}]"
      ]
     },
     "execution_count": 24,
     "metadata": {},
     "output_type": "execute_result"
    }
   ],
   "source": [
    "resp = agents.query_dynamodb(dynamodb_table, dynamodb_pk, '1', dynamodb_sk, \"1\")\n",
    "resp"
   ]
  },
  {
   "cell_type": "markdown",
   "id": "fdbc0aff",
   "metadata": {
    "pycharm": {
     "name": "#%% md\n"
    }
   },
   "source": [
    "## Testing Agent\n",
    "\n",
    "Now, let's run some tests on the agent we just created to make sure it's working. To do so we will use our test alias: `TSTALIASID` which allows you to invoke a draft version of your agent\n",
    "\n",
    "### Testing non-essential process detection\n",
    "First let's ask a question related to non-essential process detection"
   ]
  },
  {
   "cell_type": "code",
   "execution_count": 42,
   "id": "9b69a4c5",
   "metadata": {
    "pycharm": {
     "name": "#%%\n"
    }
   },
   "outputs": [
    {
     "name": "stdout",
     "output_type": "stream",
     "text": [
      "invokeAgent API request ID: 8027adca-585a-4c11-bc73-8693f8af03f8\n",
      "invokeAgent API session ID: cd2a43f6-ac2f-11f0-9dce-16ffda0c90af\n",
      "\u001b[32m---- Step 1 ----\u001b[0m\n",
      "\u001b[33mTook 3.4s, using 1700 tokens (in: 1562, out: 138) to complete prior action, observe, orchestrate.\u001b[0m\n",
      "\u001b[34mTo detect the cause of peak loads, I will first need to identify the peak consumption periods for this customer. Then I can analyze what processes or devices are contributing to those peaks and recommend ways to reduce or reschedule non-essential loads.\u001b[0m\n",
      "\u001b[35mUsing tool: detect_peak with these inputs:\u001b[0m\n",
      "\u001b[35m[{'name': 'customer_id', 'type': 'string', 'value': '2'}]\n",
      "\u001b[0m\n",
      "\u001b[35m--tool outputs:\n",
      "[{'peak': 'True', 'quota': '70', 'essential': 'False', 'customer_id': '2', 'used': '250', 'item_desc': 'gardening electrical system', 'item_id': '5'}]...\n",
      "\u001b[0m\n",
      "\u001b[32m---- Step 2 ----\u001b[0m\n",
      "\u001b[33mTook 7.5s, using 1946 tokens (in: 1793, out: 153) to complete prior action, observe, orchestrate.\u001b[0m\n",
      "\u001b[34mThe results show that there is a peak load caused by the gardening electrical system for customer ID 2. This is marked as a non-essential process that is exceeding its allocated quota of 70 units and consuming 250 units during the peak period. To reduce this peak, we can try redistributing the quota for this item or identifying opportunities to shift some of this load to off-peak hours.\u001b[0m\n",
      "\u001b[35mUsing tool: detect_non_essential_processes with these inputs:\u001b[0m\n",
      "\u001b[35m[{'name': 'customer_id', 'type': 'string', 'value': '2'}]\n",
      "\u001b[0m\n",
      "\u001b[35m--tool outputs:\n",
      "[{'customer_id': '2', 'used': '30', 'quota': '35', 'item_desc': 'iron', 'essential': 'False', 'item_id': '2'}, {'customer_id': '2', 'used': '20', 'quota': '40', 'item_desc': 'dry-machine', 'essential': 'False', 'item_id': '3'}, {'peak': 'True', 'quota': '70', 'essential': 'False', 'customer_id': '2'...\n",
      "\u001b[0m\n",
      "\u001b[32m---- Step 3 ----\u001b[0m\n",
      "\u001b[33mTook 4.7s, using 2450 tokens (in: 2169, out: 281) to complete prior action, observe, orchestrate.\u001b[0m\n",
      "\u001b[34mThe results show that in addition to the gardening electrical system, there are two other non-essential processes contributing to the peak load - the iron and the dry-machine. To reduce the overall peak, we can try redistributing the quotas for these items as well as the gardening system.\u001b[0m\n",
      "\u001b[35mUsing tool: redistribute_allocation with these inputs:\u001b[0m\n",
      "\u001b[35m[{'name': 'item_id', 'type': 'string', 'value': '5'}, {'name': 'quota', 'type': 'string', 'value': '100'}, {'name': 'customer_id', 'type': 'string', 'value': '2'}]\n",
      "\u001b[0m\n",
      "\u001b[35m--tool outputs:\n",
      "Item 5 has been updated. New quota: 100...\n",
      "\u001b[0m\n",
      "\u001b[35mUsing tool: redistribute_allocation with these inputs:\u001b[0m\n",
      "\u001b[35m[{'name': 'item_id', 'type': 'string', 'value': '2'}, {'name': 'quota', 'type': 'string', 'value': '20'}, {'name': 'customer_id', 'type': 'string', 'value': '2'}]\n",
      "\u001b[0m\n",
      "\u001b[35m--tool outputs:\n",
      "Item 2 has been updated. New quota: 20...\n",
      "\u001b[0m\n",
      "\u001b[35mUsing tool: redistribute_allocation with these inputs:\u001b[0m\n",
      "\u001b[35m[{'name': 'item_id', 'type': 'string', 'value': '3'}, {'name': 'quota', 'type': 'string', 'value': '30'}, {'name': 'customer_id', 'type': 'string', 'value': '2'}]\n",
      "\u001b[0m\n",
      "\u001b[35m--tool outputs:\n",
      "Item 3 has been updated. New quota: 30...\n",
      "\u001b[0m\n",
      "\u001b[32m---- Step 4 ----\u001b[0m\n",
      "\u001b[33mTook 24.3s, using 3185 tokens (in: 2679, out: 506) to complete prior action, observe, orchestrate.\u001b[0m\n",
      "\u001b[34mI have redistributed the quotas for the gardening electrical system, iron, and dry-machine to reduce their peak load contribution. The gardening system quota was increased to 100 to accommodate its higher usage during peak hours. The iron and dry-machine quotas were reduced to 20 and 30 respectively to discourage usage during peak times.\u001b[0m\n",
      "\u001b[36mFinal response:\n",
      "\n",
      "To reduce the peak load for customer ID 2, I have taken the following actions:\n",
      "\n",
      "1. Increased the quota for the gardening electrical system (item 5) from 70 to 100 units to accommodate its higher usage during peak hours.\n",
      "\n",
      "2. Reduced the quota for the iron (item 2) from 35 to 20 units to discourage u...\u001b[0m\n",
      "got 1 citations \n",
      "\n",
      "\u001b[33mAgent made a total of 4 LLM calls, using 9281 tokens (in: 8203, out: 1078), and took 40.1 total seconds\u001b[0m\n",
      "====================\n",
      "\n",
      "To reduce the peak load for customer ID 2, I have taken the following actions:\n",
      "\n",
      "1. Increased the quota for the gardening electrical system (item 5) from 70 to 100 units to accommodate its higher usage during peak hours.\n",
      "\n",
      "2. Reduced the quota for the iron (item 2) from 35 to 20 units to discourage usage during peak times.  \n",
      "\n",
      "3. Reduced the quota for the dry-machine (item 3) from 40 to 30 units to discourage usage during peak times.\n",
      "\n",
      "By redistributing the quotas for these non-essential processes, we can help shift some of the load away from peak periods and reduce the overall peak consumption.\n",
      "\n",
      "\n",
      "CPU times: user 38.4 ms, sys: 4.56 ms, total: 43 ms\n",
      "Wall time: 40.1 s\n"
     ]
    }
   ],
   "source": [
    "%%time\n",
    "response = agents.invoke(\n",
    "    \"What's causing my peak load? My id is 2\", \n",
    "    peak_agent[0], enable_trace=True\n",
    ")\n",
    "print(\"====================\")\n",
    "print(response)"
   ]
  },
  {
   "cell_type": "markdown",
   "id": "52d80cb0-f63d-418b-b5b0-9cf10f759ffd",
   "metadata": {
    "pycharm": {
     "name": "#%% md\n"
    }
   },
   "source": [
    "### Testing load optimization\n",
    "Next let's ask the agent to optimize the consumption"
   ]
  },
  {
   "cell_type": "code",
   "execution_count": null,
   "id": "883a1fb0",
   "metadata": {
    "pycharm": {
     "name": "#%%\n"
    }
   },
   "outputs": [],
   "source": [
    "%%time\n",
    "response = agents.invoke(\n",
    "    \"Is it possible to optimize my consumption? My id is 1\", \n",
    "    peak_agent[0], enable_trace=True\n",
    ")\n",
    "print(\"====================\")\n",
    "print(response)"
   ]
  },
  {
   "cell_type": "markdown",
   "id": "71291bf0-90fc-471f-975e-5ad1f64af28c",
   "metadata": {
    "pycharm": {
     "name": "#%% md\n"
    }
   },
   "source": [
    "### Testing load relocation\n",
    "Finally, let's ask the agent to do some quota relloacation"
   ]
  },
  {
   "cell_type": "code",
   "execution_count": null,
   "id": "f94c7ba4",
   "metadata": {
    "pycharm": {
     "name": "#%%\n"
    }
   },
   "outputs": [],
   "source": [
    "%%time\n",
    "response = agents.invoke(\n",
    "    \"\"\"Is it possible to change quota allocation? My id is 2, my item is 5 and new quota is 100\"\"\", \n",
    "    peak_agent[0], enable_trace=True\n",
    ")\n",
    "print(\"====================\")\n",
    "print(response)"
   ]
  },
  {
   "cell_type": "markdown",
   "id": "29db93eb-9a51-48d2-a6ae-a31b7b5ddde1",
   "metadata": {
    "pycharm": {
     "name": "#%% md\n"
    }
   },
   "source": [
    "Store environment variables to be used on next notebooks."
   ]
  },
  {
   "cell_type": "markdown",
   "id": "c887c74f-0e08-43bb-9b68-32d758283fb0",
   "metadata": {},
   "source": [
    "## Testing Agent with KB\n",
    "\n",
    "The following function takes some time to retrieve the video file from the Knowledge Bases, so please be patient for it to finish. "
   ]
  },
  {
   "cell_type": "code",
   "execution_count": null,
   "id": "87a51b58-3af7-4f6e-aeb9-23f53209a347",
   "metadata": {},
   "outputs": [],
   "source": [
    "%%time\n",
    "time.sleep(30)\n",
    "response = agents.invoke(\n",
    "    #\"give me a list of videos related with lamps\", \n",
    "    \"what energy efficiency advice can you give based on the videos showing lamps in the living room, please include the original knowledge base source\",\n",
    "    #\"what energy efficiency advice can you give based on the videos related fridge\",\n",
    "    peak_agent[0], \n",
    "    enable_trace=True,\n",
    "    #end_session=True\n",
    ")\n",
    "print(\"====================\")\n",
    "print(response)"
   ]
  },
  {
   "cell_type": "markdown",
   "id": "5375b4a4-4604-4225-90ed-5aaab412ef54",
   "metadata": {},
   "source": [
    "### Load the energy consumption video clip referred by the agent in citation"
   ]
  },
  {
   "cell_type": "code",
   "execution_count": 29,
   "id": "11f9beeb-19e9-44e2-8079-dc24bf1b922e",
   "metadata": {},
   "outputs": [
    {
     "name": "stdout",
     "output_type": "stream",
     "text": [
      "Error: expected string or bytes-like object\n"
     ]
    },
    {
     "data": {
      "text/plain": [
       "False"
      ]
     },
     "execution_count": 29,
     "metadata": {},
     "output_type": "execute_result"
    }
   ],
   "source": [
    "# Extract video path and timestamps from the response\n",
    "import re\n",
    "from IPython.display import HTML\n",
    "from utils.knowledge_base_operators import play_video_from_bedrock_response\n",
    "\n",
    "play_video_from_bedrock_response(response)"
   ]
  },
  {
   "cell_type": "markdown",
   "id": "3d6a8d36-cb73-4e95-b345-dbaf4631f42e",
   "metadata": {
    "pycharm": {
     "name": "#%% md\n"
    }
   },
   "source": [
    "## Create alias\n",
    "\n",
    "As you can see, you can use your agent with the `TSTALIASID` to complete tasks. \n",
    "However, for multi-agents collaboration it is expected that you first test your agent and only use it once it is fully functional. \n",
    "Therefore to use an agent as a sub-agent in a multi-agent collaboration you first need to create an agent alias and connect it to a new version. \n",
    "\n",
    "Since we've tested and validated our agent, let's now create an alias for it:"
   ]
  },
  {
   "cell_type": "code",
   "execution_count": 30,
   "id": "eec0d1ca",
   "metadata": {
    "pycharm": {
     "name": "#%%\n"
    }
   },
   "outputs": [],
   "source": [
    "peak_agent_alias_id, peak_agent_alias_arn = agents.create_agent_alias(\n",
    "    peak_agent[0], 'v1'\n",
    ")\n",
    "peak_agent_id = peak_agent[0]"
   ]
  },
  {
   "cell_type": "code",
   "execution_count": 31,
   "id": "66d40844-c72b-4114-8415-8cefbe65ebb1",
   "metadata": {
    "pycharm": {
     "name": "#%%\n"
    }
   },
   "outputs": [
    {
     "name": "stdout",
     "output_type": "stream",
     "text": [
      "Stored 'peak_agent_arn' (str)\n",
      "Stored 'peak_agent_alias_arn' (str)\n",
      "Stored 'peak_agent_alias_id' (str)\n",
      "Stored 'peak_lambda_name' (str)\n",
      "Stored 'peak_agent_name' (str)\n",
      "Stored 'peak_agent_id' (str)\n",
      "Stored 'peak_dynamodb' (str)\n",
      "Stored 'peak_kb' (str)\n"
     ]
    }
   ],
   "source": [
    "peak_agent_arn = agents.get_agent_arn_by_name(peak_agent_name)\n",
    "peak_dynamodb = dynamodb_table\n",
    "peak_kb = knowledge_base_name\n",
    "\n",
    "%store peak_agent_arn\n",
    "%store peak_agent_alias_arn\n",
    "%store peak_agent_alias_id\n",
    "%store peak_lambda_name\n",
    "%store peak_agent_name\n",
    "%store peak_agent_id\n",
    "%store peak_dynamodb\n",
    "%store peak_kb"
   ]
  },
  {
   "cell_type": "code",
   "execution_count": 32,
   "id": "99986c91",
   "metadata": {
    "pycharm": {
     "name": "#%%\n"
    }
   },
   "outputs": [
    {
     "data": {
      "text/plain": [
       "('arn:aws:bedrock:us-east-1:833005555478:agent/EDIE8XHWJV',\n",
       " 'arn:aws:bedrock:us-east-1:833005555478:agent-alias/EDIE8XHWJV/QP3T1GZKEM',\n",
       " 'QP3T1GZKEM')"
      ]
     },
     "execution_count": 32,
     "metadata": {},
     "output_type": "execute_result"
    }
   ],
   "source": [
    "peak_agent_arn, peak_agent_alias_arn, peak_agent_alias_id"
   ]
  },
  {
   "cell_type": "markdown",
   "id": "528e3426-7858-427d-adf3-d73081d08b12",
   "metadata": {
    "pycharm": {
     "name": "#%% md\n"
    }
   },
   "source": [
    "## Next Steps\n",
    "Congratulations! We've now created all of our sub-agents. Next we will create our supervisor agent to do the orchestration between the sub-agents"
   ]
  },
  {
   "cell_type": "code",
   "execution_count": null,
   "id": "7b4cb3f8-8e3d-4ef6-9dde-4ca27372986c",
   "metadata": {},
   "outputs": [],
   "source": []
  }
 ],
 "metadata": {
  "kernelspec": {
   "display_name": "conda_python3",
   "language": "python",
   "name": "conda_python3"
  },
  "language_info": {
   "codemirror_mode": {
    "name": "ipython",
    "version": 3
   },
   "file_extension": ".py",
   "mimetype": "text/x-python",
   "name": "python",
   "nbconvert_exporter": "python",
   "pygments_lexer": "ipython3",
   "version": "3.10.18"
  }
 },
 "nbformat": 4,
 "nbformat_minor": 5
}
