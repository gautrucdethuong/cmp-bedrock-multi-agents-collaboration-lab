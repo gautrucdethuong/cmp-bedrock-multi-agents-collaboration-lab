{
 "cells": [
  {
   "cell_type": "markdown",
   "id": "fb8d63a2-913e-498a-a01a-5e66a39bf3e7",
   "metadata": {
    "pycharm": {
     "name": "#%% md\n"
    }
   },
   "source": [
    "# Lab 4. Energy Agent Collaborator"
   ]
  },
  {
   "cell_type": "markdown",
   "id": "63678eaa-8830-4cbe-94af-5ebd8b0e03e0",
   "metadata": {
    "pycharm": {
     "name": "#%% md\n"
    }
   },
   "source": [
    "## Introduction\n",
    "\n",
    "In previous notebook we have shown you how to create multi-agent collaborator feature on Amazon Bedrock.\n",
    "\n",
    "[Multi-agent Collaboration](https://docs.aws.amazon.com/bedrock/latest/userguide/agents-multi-agents-collaboration.html) is a Amazon Bedrock Agents native capability that enables a hierarchical collaboration between agents. You can now enable agent collaboration and associate secondary agents to a supervisor one. These secondary agents can be any existing agent within the same account, including agents that have collaboration themselves. \n",
    "\n",
    "In this notebook we will interact with our supervisor agent created in the previous lab.\n",
    "\n",
    "The following represents the complete architecture of multi-agent collaborator.\n",
    "\n",
    "![Architecture](img/energy_manager_agent.png)"
   ]
  },
  {
   "cell_type": "markdown",
   "id": "5f4b36f5",
   "metadata": {
    "pycharm": {
     "name": "#%% md\n"
    }
   },
   "source": [
    "On this lab you will execute a set of tests, using detailed trace, to check the chain-of-thought reasoning that is happening on the agents.\n",
    "\n",
    "**[Chain-of-thought reasoning](https://docs.aws.amazon.com/bedrock/latest/userguide/what-is-prompt-engineering.html)** is a prompt engineering technique that give step-by-step reasoning on how an answer is derived based on your prompt.\n",
    "\n",
    "\n",
    "With Amazon Bedrock Agents you can use [traces](https://docs.aws.amazon.com/bedrock/latest/userguide/trace-events.html) to understand the step-by-step reasoning process of your agent. With the multi-agent collaboration feature, your supervisor trace also provides the reasoning details of its sub-agents"
   ]
  },
  {
   "cell_type": "markdown",
   "id": "b3ba49fa-3293-4ea6-8dee-fb9f410c6481",
   "metadata": {
    "pycharm": {
     "name": "#%% md\n"
    }
   },
   "source": [
    "## Setup\n",
    "\n",
    "Make sure that your boto3 version is the latest one.\n",
    "\n",
    "If not, return no [notebook 1](../1-energy-forecast/1_forecasting_agent.ipynb) and run Setup block again."
   ]
  },
  {
   "cell_type": "code",
   "execution_count": 1,
   "id": "a6d6d852",
   "metadata": {
    "pycharm": {
     "name": "#%%\n"
    }
   },
   "outputs": [
    {
     "name": "stdout",
     "output_type": "stream",
     "text": [
      "boto3==1.40.55\n"
     ]
    }
   ],
   "source": [
    "!pip freeze | grep boto3"
   ]
  },
  {
   "cell_type": "markdown",
   "id": "ccf37dd5-bfaf-4563-a6ad-f9d7637c6e43",
   "metadata": {
    "pycharm": {
     "name": "#%% md\n"
    }
   },
   "source": [
    "## Invoking multi-agent Collaborator\n",
    "\n",
    "Let's now invoke our supervisor agent with different queries to trigger the different sub-agents invocation. Before doing that, we're adding `bedrock_agent_helper.py` on Python path, so the file can be recognized and invoked.\n",
    "\n",
    "Now, you're going to import from helper classes `bedrock_agent_helper.py`.\n",
    " \n",
    "Those files contain helper classes totally focused on make labs experience smoothly. \n",
    "\n",
    "All interactions with Bedrock will be handled by these classes.\n",
    "\n",
    "Following are methods that you're going to invoke on this lab:\n",
    "\n",
    "On `agents.py`:\n",
    "\n",
    "- `invoke`: invoking an agent with a query"
   ]
  },
  {
   "cell_type": "code",
   "execution_count": 2,
   "id": "2bfc55b9",
   "metadata": {},
   "outputs": [],
   "source": [
    "from datetime import datetime\n",
    "from dateutil.relativedelta import relativedelta\n",
    "\n",
    "curr_month = datetime.now()"
   ]
  },
  {
   "cell_type": "code",
   "execution_count": 3,
   "id": "21a3648b",
   "metadata": {
    "pycharm": {
     "name": "#%%\n"
    }
   },
   "outputs": [],
   "source": [
    "import sys\n",
    "import uuid\n",
    "import time\n",
    "\n",
    "sys.path.insert(0, \".\")\n",
    "sys.path.insert(1, \"..\")\n",
    "\n",
    "from utils.bedrock_agent_helper import (\n",
    "    AgentsForAmazonBedrock\n",
    ")\n",
    "agents = AgentsForAmazonBedrock()"
   ]
  },
  {
   "cell_type": "markdown",
   "id": "71703f42-0c14-4ab2-b868-73cd72e1f4ff",
   "metadata": {
    "pycharm": {
     "name": "#%% md\n"
    }
   },
   "source": [
    "Before continuing, let's recover the information from our supervisor agent and it's sub-agents from our environment."
   ]
  },
  {
   "cell_type": "code",
   "execution_count": 4,
   "id": "e26c8d0f",
   "metadata": {
    "pycharm": {
     "name": "#%%\n"
    }
   },
   "outputs": [
    {
     "name": "stdout",
     "output_type": "stream",
     "text": [
      "Supervisor agent name: energy-agent-7eb12cba id: 4SWXQOA0GF\n",
      "Forecast agent name: forecast-7eb12cba id: EGYPPNBQRV alias_id: I1KJYFXMQJ\n",
      "Solar Panel agent name: solar-p-7eb12cba id: QVU1TYDKDP alias_id: 20BGU5GXVZ\n",
      "Peak Management agent name: peak-agent-7eb12cba id: EDIE8XHWJV alias_id: QP3T1GZKEM\n"
     ]
    }
   ],
   "source": [
    "%store -r\n",
    "print(\"Supervisor agent name:\", energy_agent_name, \"id:\", energy_agent_id)\n",
    "print(\"Forecast agent name:\", forecast_agent_name, \"id:\", forecast_agent_id, \"alias_id:\", forecast_agent_alias_id)\n",
    "print(\"Solar Panel agent name:\", solar_agent_name, \"id:\", solar_agent_id, \"alias_id:\", solar_agent_alias_id)\n",
    "print(\"Peak Management agent name:\", peak_agent_name, \"id:\", peak_agent_id, \"alias_id:\", peak_agent_alias_id)"
   ]
  },
  {
   "cell_type": "markdown",
   "id": "c55d9924-287c-4899-b295-ccb91ffefff2",
   "metadata": {
    "pycharm": {
     "name": "#%% md\n"
    }
   },
   "source": [
    "We can now set a dictionary with agents names for better visualization of the traces"
   ]
  },
  {
   "cell_type": "code",
   "execution_count": 5,
   "id": "b73c79ff-12a6-4671-8217-d5c3e64e611d",
   "metadata": {
    "pycharm": {
     "name": "#%%\n"
    }
   },
   "outputs": [],
   "source": [
    "multi_agent_names = {\n",
    "    f\"{forecast_agent_id}/{forecast_agent_alias_id}\": forecast_agent_name,\n",
    "    f\"{solar_agent_id}/{solar_agent_alias_id}\": solar_agent_name,\n",
    "    f\"{peak_agent_id}/{peak_agent_alias_id}\": peak_agent_name,\n",
    "    f\"{energy_agent_id}/{energy_agent_alias_id}\": energy_agent_name\n",
    "}"
   ]
  },
  {
   "cell_type": "markdown",
   "id": "fdbc0aff",
   "metadata": {
    "pycharm": {
     "name": "#%% md\n"
    }
   },
   "source": [
    "On following section, you will invoke sub-agents but by multi-agent collaborator."
   ]
  },
  {
   "cell_type": "markdown",
   "id": "9d58ec9a",
   "metadata": {
    "pycharm": {
     "name": "#%% md\n"
    }
   },
   "source": [
    "### Lab 1 - Forecasting Agent\n",
    "First let's query our agent with prompts requiring the forecasting agent"
   ]
  },
  {
   "cell_type": "code",
   "execution_count": 6,
   "id": "9b69a4c5",
   "metadata": {
    "pycharm": {
     "name": "#%%\n"
    }
   },
   "outputs": [
    {
     "name": "stdout",
     "output_type": "stream",
     "text": [
      "invokeAgent API request ID: c872a882-8bc6-44d8-98e8-904d3ccc24d1\n",
      "invokeAgent API session ID: 0910acc2-ac38-11f0-a1a4-16ffda0c90af\n",
      "\u001b[32m---- Step 1 ----\u001b[0m\n",
      "\u001b[34mClassifying request to immediately route to one collaborator if possible.\u001b[0m\n",
      "\u001b[35mRouting classifier chose collaborator: 'ForecastCoordinationAgent'\u001b[0m\n",
      "\u001b[33mRouting classifier took 0.6s, using 399 tokens (in: 383, out: 16).\n",
      "\u001b[0m\n",
      "\u001b[32m---- Step 1.1 [using sub-agent name:forecast-7eb12cba, id:EGYPPNBQRV/I1KJYFXMQJ] ----\u001b[0m\n",
      "\u001b[33mTook 4.9s, using 2498 tokens (in: 2284, out: 214) to complete prior action, observe, orchestrate.\u001b[0m\n",
      "\u001b[34mTo get the forecasted consumption for the next 3 months, I will call the forecast_consumption_actions::get_forecasted_consumption function with the provided customer ID. To get the current usage statistics, I will call the forecast_consumption_actions::get_consumption_statistics function.\u001b[0m\n",
      "\u001b[35mUsing tool: get_forecasted_consumption with these inputs:\u001b[0m\n",
      "\u001b[35m[{'name': 'customer_id', 'type': 'string', 'value': '1'}]\n",
      "\u001b[0m\n",
      "\u001b[35m--tool outputs:\n",
      "[{'customer_id': '1', 'day': '2025/11/01', 'kind': 'forecasted', 'sumPowerReading': '124'}, {'customer_id': '1', 'day': '2025/12/01', 'kind': 'forecasted', 'sumPowerReading': '142'}, {'customer_id': '1', 'day': '2026/01/01', 'kind': 'forecasted', 'sumPowerReading': '164'}, {'customer_id': '1', 'day'...\n",
      "\u001b[0m\n",
      "\u001b[35mUsing tool: get_consumption_statistics with these inputs:\u001b[0m\n",
      "\u001b[35m[{'name': 'customer_id', 'type': 'string', 'value': '1'}]\n",
      "\u001b[0m\n",
      "\u001b[35m--tool outputs:\n",
      "[{'customer_id': '1', 'kind': 'measured', 'sumPowerReading': '156', 'day': '2025/10/01'}]...\n",
      "\u001b[0m\n",
      "\u001b[32m---- Step 1.2 [using sub-agent name:forecast-7eb12cba, id:EGYPPNBQRV/I1KJYFXMQJ] ----\u001b[0m\n",
      "\u001b[33mTook 9.4s, using 2966 tokens (in: 2795, out: 171) to complete prior action, observe, orchestrate.\u001b[0m\n",
      "\u001b[36mFinal response:\n",
      "Based on the forecasted consumption data for the next 3 months, your energy usage is expected to be:\n",
      "\n",
      "November 2025: 124 units\n",
      "December 2025: 142 units \n",
      "January 2026: 164 units\n",
      "February 2026: 150 units\n",
      "\n",
      "Compared to your current month's measured usage of 156 units, the forecast shows:\n",
      "\n",
      "- A decrease o...\u001b[0m\n",
      "\u001b[33mAgent made a total of 3 LLM calls, using 5863 tokens (in: 5462, out: 401), and took 14.6 total seconds\u001b[0m\n",
      "====================\n",
      "Based on the forecasted consumption data for the next 3 months, your energy usage is expected to be:\n",
      "\n",
      "November 2025: 124 units\n",
      "December 2025: 142 units \n",
      "January 2026: 164 units\n",
      "February 2026: 150 units\n",
      "\n",
      "Compared to your current month's measured usage of 156 units, the forecast shows:\n",
      "\n",
      "- A decrease of 32 units in November \n",
      "- A decrease of 14 units in December\n",
      "- An increase of 8 units in January\n",
      "- A decrease of 6 units in February\n",
      "\n",
      "The forecasted consumption varies month-to-month, with January showing the highest projected usage at 164 units and November the lowest at 124 units.\n",
      "CPU times: user 38.2 ms, sys: 0 ns, total: 38.2 ms\n",
      "Wall time: 14.7 s\n"
     ]
    }
   ],
   "source": [
    "%%time\n",
    "session_id:str = str(uuid.uuid1())\n",
    "\n",
    "response = agents.invoke(\n",
    "    \"Can you give me my forecasted energy consumption? How does it compare to my current usage? My id is 1\", \n",
    "    energy_agent_id,\n",
    "    session_id=session_id,\n",
    "    enable_trace=True,\n",
    "    multi_agent_names=multi_agent_names\n",
    ")\n",
    "print(\"====================\")\n",
    "print(response)"
   ]
  },
  {
   "cell_type": "code",
   "execution_count": 7,
   "id": "4b416317-af47-4a39-bcca-92f9b2f2e17e",
   "metadata": {},
   "outputs": [],
   "source": [
    "time.sleep(60)"
   ]
  },
  {
   "cell_type": "code",
   "execution_count": null,
   "id": "f1dc633b-358f-4947-834a-af19d25c84e6",
   "metadata": {},
   "outputs": [],
   "source": [
    "%%time\n",
    "session_id:str = str(uuid.uuid1())\n",
    "\n",
    "response = agents.invoke(\n",
    "    \"can you give me my past energy consumption? What is my average spending on summer months? My customer id is 1\", \n",
    "    energy_agent_id,\n",
    "    session_id=session_id,\n",
    "    enable_trace=True,\n",
    "    multi_agent_names=multi_agent_names\n",
    ")\n",
    "print(\"====================\")\n",
    "print(response)"
   ]
  },
  {
   "cell_type": "code",
   "execution_count": null,
   "id": "fef5ffc5-c693-44f2-be1e-9bb3845bed6d",
   "metadata": {},
   "outputs": [],
   "source": [
    "time.sleep(60)"
   ]
  },
  {
   "cell_type": "code",
   "execution_count": null,
   "id": "77b9c6ea",
   "metadata": {
    "pycharm": {
     "name": "#%%\n"
    }
   },
   "outputs": [],
   "source": [
    "%%time\n",
    "session_id:str = str(uuid.uuid1())\n",
    "\n",
    "future_2m = curr_month + relativedelta(months=2)\n",
    "future_2m_formatted = future_2m.strftime(\"%Y/%m\")\n",
    "\n",
    "response = agents.invoke(\n",
    "    f\"Can you update my forecast for month {future_2m_formatted}? I will be travelling and my estimate will be 50. My id is 1\", \n",
    "    energy_agent_id,\n",
    "    session_id=session_id,\n",
    "    enable_trace=True,\n",
    "    multi_agent_names=multi_agent_names\n",
    ")\n",
    "print(\"====================\")\n",
    "print(response)"
   ]
  },
  {
   "cell_type": "code",
   "execution_count": null,
   "id": "5dfc387b-30c9-404f-bd5e-1a7985f8ac45",
   "metadata": {},
   "outputs": [],
   "source": [
    "time.sleep(60)"
   ]
  },
  {
   "cell_type": "code",
   "execution_count": null,
   "id": "627a56b2",
   "metadata": {
    "pycharm": {
     "name": "#%%\n"
    }
   },
   "outputs": [],
   "source": [
    "%%time\n",
    "session_id:str = str(uuid.uuid1())\n",
    "\n",
    "response = agents.invoke(\n",
    "    \"Can you give me my forecasted energy consumption month by month? My id is 1\", \n",
    "    energy_agent_id,\n",
    "    session_id=session_id,\n",
    "    enable_trace=True,\n",
    "    multi_agent_names=multi_agent_names\n",
    ")\n",
    "print(\"====================\")\n",
    "print(response)"
   ]
  },
  {
   "cell_type": "code",
   "execution_count": null,
   "id": "0b4f4cd0-f920-4f2b-9355-1f2a7f0ff38d",
   "metadata": {},
   "outputs": [],
   "source": [
    "time.sleep(60)"
   ]
  },
  {
   "cell_type": "markdown",
   "id": "7df63042",
   "metadata": {
    "pycharm": {
     "name": "#%% md\n"
    }
   },
   "source": [
    "#### Lab 2 - Solar Panel Agent"
   ]
  },
  {
   "cell_type": "code",
   "execution_count": 8,
   "id": "69b93d8f",
   "metadata": {
    "pycharm": {
     "name": "#%%\n"
    }
   },
   "outputs": [
    {
     "name": "stdout",
     "output_type": "stream",
     "text": [
      "invokeAgent API request ID: f5a836f5-5e53-4ed6-87d9-4df0bd54626e\n",
      "invokeAgent API session ID: 4d8ed536-ac38-11f0-a1a4-16ffda0c90af\n",
      "\u001b[32m---- Step 1 ----\u001b[0m\n",
      "\u001b[34mClassifying request to immediately route to one collaborator if possible.\u001b[0m\n",
      "\u001b[35mRouting classifier chose collaborator: 'SolarSupportManagementAgent'\u001b[0m\n",
      "\u001b[33mRouting classifier took 0.7s, using 402 tokens (in: 385, out: 17).\n",
      "\u001b[0m\n",
      "\u001b[32m---- Step 1.1 [using sub-agent name:solar-p-7eb12cba, id:QVU1TYDKDP/20BGU5GXVZ] ----\u001b[0m\n",
      "\u001b[33mTook 5.4s, using 1702 tokens (in: 1512, out: 190) to complete prior action, observe, orchestrate.\u001b[0m\n",
      "\u001b[34mTo check if your SunPower double-X solar panel electrical consumption is compliant with energy rules, I will first need to search the knowledge base for relevant information on:\n",
      "1. SunPower double-X solar panel specifications\n",
      "2. Electrical consumption standards and regulations for solar panels\n",
      "3. How to verify compliance of solar panel electrical consumption\u001b[0m\n",
      "\u001b[32m---- Step 1.2 [using sub-agent name:solar-p-7eb12cba, id:QVU1TYDKDP/20BGU5GXVZ] ----\u001b[0m\n",
      "\u001b[33mTook 4.8s, using 2518 tokens (in: 2192, out: 326) to complete prior action, observe, orchestrate.\u001b[0m\n",
      "\u001b[32m---- Step 1.3 [using sub-agent name:solar-p-7eb12cba, id:QVU1TYDKDP/20BGU5GXVZ] ----\u001b[0m\n",
      "\u001b[33mTook 5.1s, using 2400 tokens (in: 2101, out: 299) to complete prior action, observe, orchestrate.\u001b[0m\n",
      "\u001b[36mFinal response:\n",
      "\n",
      "To check if your SunPower double-X solar panel electrical consumption is compliant with energy rules, you should:\n",
      "\n",
      "1. Obtain the necessary permits and ensure the installation complies with local building codes and energy regulations. The SunPower double-X panels have a high power output of 400 watt...\u001b[0m\n",
      "got 1 citations \n",
      "\n",
      "\u001b[33mAgent made a total of 4 LLM calls, using 7022 tokens (in: 6190, out: 832), and took 15.5 total seconds\u001b[0m\n",
      "====================\n",
      "\n",
      "To check if your SunPower double-X solar panel electrical consumption is compliant with energy rules, you should:\n",
      "\n",
      "1. Obtain the necessary permits and ensure the installation complies with local building codes and energy regulations. The SunPower double-X panels have a high power output of 400 watts, so you'll need to verify that your system meets local requirements.\n",
      "\n",
      "2. Install a specialized mounting system designed specifically for the SunPower double-X panels, following the manufacturer's instructions precisely. This ensures proper support and positioning for optimal energy production.\n",
      "\n",
      "3. Use an inverter compatible with the higher power output of the SunPower double-X panels. The inverter should be able to handle the maximum 400 watt output per panel.\n",
      "\n",
      "4. Ensure the inverter is properly connected to your home's electrical panel and grounded according to safety codes. This allows the solar energy to be utilized by your home's electrical system.\n",
      "\n",
      "5. Adhere to all safety codes, installation guidelines from SunPower, and requirements from local authorities during the installation process. Proper installation is crucial for compliance and safe operation.\n",
      "\n",
      " [s3://solar-p-kb-833005555478-7eb12cba/solar-panel-instructions.txt] \n",
      "CPU times: user 25.2 ms, sys: 35 μs, total: 25.3 ms\n",
      "Wall time: 15.5 s\n"
     ]
    }
   ],
   "source": [
    "%%time\n",
    "session_id:str = str(uuid.uuid1())\n",
    "response = agents.invoke(\n",
    "    \"how can I check if my Sunpower double-X solar panel eletrical consumption is compliant with energy rules?\", \n",
    "    energy_agent_id,\n",
    "    session_id=session_id,\n",
    "    enable_trace=True,\n",
    "    multi_agent_names=multi_agent_names\n",
    ")\n",
    "print(\"====================\")\n",
    "print(response)"
   ]
  },
  {
   "cell_type": "code",
   "execution_count": 9,
   "id": "2ae4239d-3585-4873-a58f-b5f0a2f374b2",
   "metadata": {},
   "outputs": [],
   "source": [
    "time.sleep(60)"
   ]
  },
  {
   "cell_type": "code",
   "execution_count": null,
   "id": "6c6b9ad4",
   "metadata": {
    "pycharm": {
     "name": "#%%\n"
    }
   },
   "outputs": [],
   "source": [
    "%%time\n",
    "session_id:str = str(uuid.uuid1())\n",
    "\n",
    "response = agents.invoke(\n",
    "    \"Can I get all tickets that I have? My customer id is 1\", \n",
    "    energy_agent_id,\n",
    "    session_id=session_id,\n",
    "    enable_trace=True,\n",
    "    multi_agent_names=multi_agent_names\n",
    ")\n",
    "print(\"====================\")\n",
    "print(response)"
   ]
  },
  {
   "cell_type": "code",
   "execution_count": null,
   "id": "081ccb6d-d7bb-4e5c-a830-074301ef07e3",
   "metadata": {},
   "outputs": [],
   "source": [
    "time.sleep(60)"
   ]
  },
  {
   "cell_type": "markdown",
   "id": "3cf7502f",
   "metadata": {
    "pycharm": {
     "name": "#%% md\n"
    }
   },
   "source": [
    "#### Lab 3 - Peak Load Manager Agent"
   ]
  },
  {
   "cell_type": "code",
   "execution_count": 10,
   "id": "0c169c2c",
   "metadata": {
    "pycharm": {
     "name": "#%%\n"
    }
   },
   "outputs": [
    {
     "name": "stdout",
     "output_type": "stream",
     "text": [
      "invokeAgent API request ID: 7db57f16-51a9-464d-8702-e77ff39617ae\n",
      "invokeAgent API session ID: 7a9a15b8-ac38-11f0-a1a4-16ffda0c90af\n",
      "\u001b[32m---- Step 1 ----\u001b[0m\n",
      "\u001b[34mClassifying request to immediately route to one collaborator if possible.\u001b[0m\n",
      "\u001b[35mRouting classifier chose collaborator: 'PeakLoadOptimizationAgent'\u001b[0m\n",
      "\u001b[33mRouting classifier took 0.6s, using 379 tokens (in: 361, out: 18).\n",
      "\u001b[0m\n",
      "\u001b[32m---- Step 1.1 [using sub-agent name:peak-agent-7eb12cba, id:EDIE8XHWJV/QP3T1GZKEM] ----\u001b[0m\n",
      "\u001b[33mTook 4.2s, using 1578 tokens (in: 1422, out: 156) to complete prior action, observe, orchestrate.\u001b[0m\n",
      "\u001b[34mTo answer this question, we need to detect the consumption peak for the customer and then identify the non-essential processes causing the peaks. Let's use the available functions to gather this information.\u001b[0m\n",
      "\u001b[35mUsing tool: detect_peak with these inputs:\u001b[0m\n",
      "\u001b[35m[{'name': 'customer_id', 'type': 'string', 'value': '2'}]\n",
      "\u001b[0m\n",
      "\u001b[35m--tool outputs:\n",
      "[{'peak': 'True', 'quota': '100', 'item_id': '5', 'essential': 'False', 'customer_id': '2', 'used': '250', 'item_desc': 'gardening electrical system'}]...\n",
      "\u001b[0m\n",
      "\u001b[35mUsing tool: detect_non_essential_processes with these inputs:\u001b[0m\n",
      "\u001b[35m[{'name': 'customer_id', 'type': 'string', 'value': '2'}]\n",
      "\u001b[0m\n",
      "\u001b[35m--tool outputs:\n",
      "[{'customer_id': '2', 'quota': '20', 'used': '30', 'item_id': '2', 'item_desc': 'iron', 'essential': 'False'}, {'customer_id': '2', 'quota': '30', 'used': '20', 'item_id': '3', 'item_desc': 'dry-machine', 'essential': 'False'}, {'peak': 'True', 'quota': '100', 'item_id': '5', 'essential': 'False', '...\n",
      "\u001b[0m\n",
      "\u001b[31mAgent error: Your request rate is too high. Reduce the frequency of requests.\u001b[0m\n",
      "Caught exception while processing input to invokeAgent:\n",
      "\n",
      "  for input text:\n",
      "What's causing my peak load? My id is 2.\n",
      "\n",
      "  on agent: 4SWXQOA0GF, alias: TSTALIASID\n",
      "  request ID: 7db57f16-51a9-464d-8702-e77ff39617ae, retries: 0\n",
      "\n",
      "Error: An error occurred (throttlingException) when calling the InvokeAgent operation: Your request rate is too high. Reduce the frequency of requests. Check your Bedrock model invocation quotas to find the acceptable frequency.\n"
     ]
    },
    {
     "ename": "Exception",
     "evalue": "('Unexpected exception: ', EventStreamError('An error occurred (throttlingException) when calling the InvokeAgent operation: Your request rate is too high. Reduce the frequency of requests. Check your Bedrock model invocation quotas to find the acceptable frequency.'))",
     "output_type": "error",
     "traceback": [
      "\u001b[0;31m---------------------------------------------------------------------------\u001b[0m",
      "\u001b[0;31mEventStreamError\u001b[0m                          Traceback (most recent call last)",
      "File \u001b[0;32m~/SageMaker/cmp-bedrock-multi-agents-collaboration-lab/4-energy-agent-collaborator/../utils/bedrock_agent_helper.py:1527\u001b[0m, in \u001b[0;36mAgentsForAmazonBedrock.invoke\u001b[0;34m(self, input_text, agent_id, agent_alias_id, session_id, session_state, enable_trace, end_session, trace_level, multi_agent_names)\u001b[0m\n\u001b[1;32m   1526\u001b[0m _sub_agent_name \u001b[38;5;241m=\u001b[39m \u001b[38;5;124m\"\u001b[39m\u001b[38;5;124m<collab-name-not-yet-provided>\u001b[39m\u001b[38;5;124m\"\u001b[39m\n\u001b[0;32m-> 1527\u001b[0m \u001b[38;5;28;01mfor\u001b[39;00m _event \u001b[38;5;129;01min\u001b[39;00m _event_stream: \n\u001b[1;32m   1528\u001b[0m     _sub_agent_alias_id \u001b[38;5;241m=\u001b[39m \u001b[38;5;28;01mNone\u001b[39;00m \n",
      "File \u001b[0;32m~/anaconda3/envs/python3/lib/python3.10/site-packages/botocore/eventstream.py:592\u001b[0m, in \u001b[0;36mEventStream.__iter__\u001b[0;34m(self)\u001b[0m\n\u001b[1;32m    591\u001b[0m \u001b[38;5;28;01mfor\u001b[39;00m event \u001b[38;5;129;01min\u001b[39;00m \u001b[38;5;28mself\u001b[39m\u001b[38;5;241m.\u001b[39m_event_generator:\n\u001b[0;32m--> 592\u001b[0m     parsed_event \u001b[38;5;241m=\u001b[39m \u001b[38;5;28;43mself\u001b[39;49m\u001b[38;5;241;43m.\u001b[39;49m\u001b[43m_parse_event\u001b[49m\u001b[43m(\u001b[49m\u001b[43mevent\u001b[49m\u001b[43m)\u001b[49m\n\u001b[1;32m    593\u001b[0m     \u001b[38;5;28;01mif\u001b[39;00m parsed_event:\n",
      "File \u001b[0;32m~/anaconda3/envs/python3/lib/python3.10/site-packages/botocore/eventstream.py:608\u001b[0m, in \u001b[0;36mEventStream._parse_event\u001b[0;34m(self, event)\u001b[0m\n\u001b[1;32m    607\u001b[0m \u001b[38;5;28;01melse\u001b[39;00m:\n\u001b[0;32m--> 608\u001b[0m     \u001b[38;5;28;01mraise\u001b[39;00m EventStreamError(parsed_response, \u001b[38;5;28mself\u001b[39m\u001b[38;5;241m.\u001b[39m_operation_name)\n",
      "\u001b[0;31mEventStreamError\u001b[0m: An error occurred (throttlingException) when calling the InvokeAgent operation: Your request rate is too high. Reduce the frequency of requests. Check your Bedrock model invocation quotas to find the acceptable frequency.",
      "\nDuring handling of the above exception, another exception occurred:\n",
      "\u001b[0;31mException\u001b[0m                                 Traceback (most recent call last)",
      "File \u001b[0;32m<timed exec>:3\u001b[0m\n",
      "File \u001b[0;32m~/SageMaker/cmp-bedrock-multi-agents-collaboration-lab/4-energy-agent-collaborator/../utils/bedrock_agent_helper.py:1784\u001b[0m, in \u001b[0;36mAgentsForAmazonBedrock.invoke\u001b[0;34m(self, input_text, agent_id, agent_alias_id, session_id, session_state, enable_trace, end_session, trace_level, multi_agent_names)\u001b[0m\n\u001b[1;32m   1782\u001b[0m \u001b[38;5;28mprint\u001b[39m(\u001b[38;5;124mf\u001b[39m\u001b[38;5;124m\"\u001b[39m\u001b[38;5;124m  request ID: \u001b[39m\u001b[38;5;132;01m{\u001b[39;00m_agent_resp[\u001b[38;5;124m'\u001b[39m\u001b[38;5;124mResponseMetadata\u001b[39m\u001b[38;5;124m'\u001b[39m][\u001b[38;5;124m'\u001b[39m\u001b[38;5;124mRequestId\u001b[39m\u001b[38;5;124m'\u001b[39m]\u001b[38;5;132;01m}\u001b[39;00m\u001b[38;5;124m, retries: \u001b[39m\u001b[38;5;132;01m{\u001b[39;00m_agent_resp[\u001b[38;5;124m'\u001b[39m\u001b[38;5;124mResponseMetadata\u001b[39m\u001b[38;5;124m'\u001b[39m][\u001b[38;5;124m'\u001b[39m\u001b[38;5;124mRetryAttempts\u001b[39m\u001b[38;5;124m'\u001b[39m]\u001b[38;5;132;01m}\u001b[39;00m\u001b[38;5;130;01m\\n\u001b[39;00m\u001b[38;5;124m\"\u001b[39m)\n\u001b[1;32m   1783\u001b[0m \u001b[38;5;28mprint\u001b[39m(\u001b[38;5;124mf\u001b[39m\u001b[38;5;124m\"\u001b[39m\u001b[38;5;124mError: \u001b[39m\u001b[38;5;132;01m{\u001b[39;00me\u001b[38;5;132;01m}\u001b[39;00m\u001b[38;5;124m\"\u001b[39m)\n\u001b[0;32m-> 1784\u001b[0m \u001b[38;5;28;01mraise\u001b[39;00m \u001b[38;5;167;01mException\u001b[39;00m(\u001b[38;5;124m\"\u001b[39m\u001b[38;5;124mUnexpected exception: \u001b[39m\u001b[38;5;124m\"\u001b[39m, e)\n",
      "\u001b[0;31mException\u001b[0m: ('Unexpected exception: ', EventStreamError('An error occurred (throttlingException) when calling the InvokeAgent operation: Your request rate is too high. Reduce the frequency of requests. Check your Bedrock model invocation quotas to find the acceptable frequency.'))"
     ]
    }
   ],
   "source": [
    "%%time\n",
    "session_id:str = str(uuid.uuid1())\n",
    "\n",
    "response = agents.invoke(\n",
    "    \"What's causing my peak load? My id is 2.\", \n",
    "    energy_agent_id,\n",
    "    session_id=session_id,\n",
    "    enable_trace=True,\n",
    "    multi_agent_names=multi_agent_names\n",
    ")\n",
    "print(\"====================\")\n",
    "print(response)"
   ]
  },
  {
   "cell_type": "code",
   "execution_count": 11,
   "id": "48dc09d1-4a7f-4409-8602-690e6a8e5117",
   "metadata": {},
   "outputs": [],
   "source": [
    "time.sleep(60)"
   ]
  },
  {
   "cell_type": "code",
   "execution_count": null,
   "id": "3234621c",
   "metadata": {
    "pycharm": {
     "name": "#%%\n"
    }
   },
   "outputs": [],
   "source": [
    "%%time\n",
    "session_id:str = str(uuid.uuid1())\n",
    "\n",
    "response = agents.invoke(\n",
    "    \"Is it possible to optimize my consumption? My id is 1\", \n",
    "    energy_agent_id,\n",
    "    session_id=session_id,\n",
    "    enable_trace=True,\n",
    "    multi_agent_names=multi_agent_names\n",
    ")\n",
    "print(\"====================\")\n",
    "print(response)"
   ]
  },
  {
   "cell_type": "code",
   "execution_count": null,
   "id": "38fe99bf-6f8a-4eb3-a2dd-4ae8c55ca7b5",
   "metadata": {},
   "outputs": [],
   "source": [
    "time.sleep(60)"
   ]
  },
  {
   "cell_type": "markdown",
   "id": "773c5ef7",
   "metadata": {},
   "source": [
    "#### Lab 4 - Multiple agents in parallel\n",
    "Finally, let's submit a query which will result in our supervisor agent requiring responses from multiple agents in parallel. This shows the behaviour of a supervisor agent using supervisor mode rather than router mode as we have seen in the previous examples."
   ]
  },
  {
   "cell_type": "code",
   "execution_count": null,
   "id": "d9aade18",
   "metadata": {},
   "outputs": [],
   "source": [
    "%%time\n",
    "session_id:str = str(uuid.uuid1())\n",
    "\n",
    "response = agents.invoke(\n",
    "    \"Can you update my forecast for next month? I will be travelling and my estimate will be 90. My id is 1. Then tell me how can I check if my Sunpower double-X solar panel eletrical consumption is compliant with energy rules?\", \n",
    "    energy_agent_id,\n",
    "    session_id=session_id,\n",
    "    enable_trace=True,\n",
    "    multi_agent_names=multi_agent_names\n",
    ")\n",
    "print(\"====================\")\n",
    "print(response)"
   ]
  },
  {
   "cell_type": "markdown",
   "id": "29db93eb-9a51-48d2-a6ae-a31b7b5ddde1",
   "metadata": {
    "pycharm": {
     "name": "#%% md\n"
    }
   },
   "source": [
    "### Next Steps\n",
    "\n",
    "Congratulations! You've completed the workshop! \n",
    "\n",
    "By now you have created 3 sub-agents and a supervisor agent. You have invoked the supervisor agent using prompts requiring multiple sub-agents.\n",
    "\n",
    "For other multi-agent collaboration examples check the [Amazon Bedrock Agent Samples](https://github.com/awslabs/amazon-bedrock-agent-samples) repository \n",
    "\n",
    "Next, let's clean up our resources to avoid unexpected costs"
   ]
  }
 ],
 "metadata": {
  "kernelspec": {
   "display_name": "conda_python3",
   "language": "python",
   "name": "conda_python3"
  },
  "language_info": {
   "codemirror_mode": {
    "name": "ipython",
    "version": 3
   },
   "file_extension": ".py",
   "mimetype": "text/x-python",
   "name": "python",
   "nbconvert_exporter": "python",
   "pygments_lexer": "ipython3",
   "version": "3.10.18"
  }
 },
 "nbformat": 4,
 "nbformat_minor": 5
}
