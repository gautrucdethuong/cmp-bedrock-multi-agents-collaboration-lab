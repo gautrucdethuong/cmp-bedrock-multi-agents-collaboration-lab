{
 "cells": [
  {
   "cell_type": "markdown",
   "id": "fb8d63a2-913e-498a-a01a-5e66a39bf3e7",
   "metadata": {
    "pycharm": {
     "name": "#%% md\n"
    }
   },
   "source": [
    "# Lab 1. Forecasting Agent"
   ]
  },
  {
   "attachments": {},
   "cell_type": "markdown",
   "id": "63678eaa-8830-4cbe-94af-5ebd8b0e03e0",
   "metadata": {
    "pycharm": {
     "name": "#%% md\n"
    }
   },
   "source": [
    "## Introduction\n",
    "\n",
    "In this notebook we show you how to create your first sub-agent on [Amazon Bedrock Agents](https://aws.amazon.com/bedrock/agents/).\n",
    "\n",
    "Amazon Bedrock Agents enable generative AI applications to execute multi-step business tasks using natural language.\n",
    "\n",
    "In our first example we will create a forecasting agent, where customers can ask the agent to return information about their current energy consumption and forecast of it. \n",
    "\n",
    "The following represents the piece of architecture that will be built on this module.\n",
    "\n",
    "![Forecast Agent Architecture](img/forecast_agent.png)\n",
    "\n",
    "In this example, we will also enable our agent to use code intepretation capabilities to do basic calculations based on the energy usage and its forecast data. We are also using [Amazon Bedrock Knowledge Bases](https://aws.amazon.com/bedrock/knowledge-bases/) to provide documentation about the forecasting model and its capabilities.\n",
    "\n",
    "For completion reasons, we assume that the energy forecast has already been done outside the scope of this agent using a ML model hosted on SageMaker"
   ]
  },
  {
   "cell_type": "markdown",
   "id": "b3ba49fa-3293-4ea6-8dee-fb9f410c6481",
   "metadata": {
    "pycharm": {
     "name": "#%% md\n"
    }
   },
   "source": [
    "## Setup\n",
    "\n",
    "Firstly, you are going to install boto3 dependencies from pip. Make sure you have the latest version of it for full capabilities"
   ]
  },
  {
   "cell_type": "code",
   "execution_count": 1,
   "id": "a2436bab",
   "metadata": {
    "pycharm": {
     "name": "#%%\n"
    }
   },
   "outputs": [
    {
     "name": "stdout",
     "output_type": "stream",
     "text": [
      "Found existing installation: boto3 1.40.39\n",
      "Uninstalling boto3-1.40.39:\n",
      "  Successfully uninstalled boto3-1.40.39\n",
      "Found existing installation: botocore 1.40.39\n",
      "Uninstalling botocore-1.40.39:\n",
      "  Successfully uninstalled botocore-1.40.39\n",
      "Found existing installation: awscli 1.42.39\n",
      "Uninstalling awscli-1.42.39:\n",
      "  Successfully uninstalled awscli-1.42.39\n"
     ]
    }
   ],
   "source": [
    "!pip uninstall boto3 botocore awscli --yes"
   ]
  },
  {
   "cell_type": "code",
   "execution_count": 1,
   "id": "1abeca2c-3181-42c3-adc5-70f993fc7ab0",
   "metadata": {
    "pycharm": {
     "name": "#%%\n"
    },
    "scrolled": true
   },
   "outputs": [
    {
     "name": "stdout",
     "output_type": "stream",
     "text": [
      "\u001b[31mERROR: pip's dependency resolver does not currently take into account all the packages that are installed. This behaviour is the source of the following dependency conflicts.\n",
      "jupyterlab 4.4.7 requires httpx<1,>=0.25.0, which is not installed.\n",
      "sagemaker 2.251.1 requires numpy==1.26.4, but you have numpy 2.2.6 which is incompatible.\n",
      "sagemaker 2.251.1 requires packaging<25,>=23.0, but you have packaging 25.0 which is incompatible.\n",
      "sparkmagic 0.21.0 requires pandas<2.0.0,>=0.17.1, but you have pandas 2.2.3 which is incompatible.\n",
      "sphinx 8.1.3 requires docutils<0.22,>=0.20, but you have docutils 0.19 which is incompatible.\u001b[0m\u001b[31m\n",
      "\u001b[0m"
     ]
    }
   ],
   "source": [
    "# Install latest dependencies\n",
    "!python3 -m pip install --force-reinstall --no-cache -q -r ../requirements.txt"
   ]
  },
  {
   "cell_type": "markdown",
   "id": "9cab0934-d025-47a2-a276-9d3fdb5a1d61",
   "metadata": {
    "pycharm": {
     "name": "#%% md\n"
    }
   },
   "source": [
    "#### Restart kernel\n",
    "\n",
    "If you face issues to apply the latest multi-agent capabilities, uncomment this line to restart kernel to ensure packages updates to take effect"
   ]
  },
  {
   "cell_type": "code",
   "execution_count": 2,
   "id": "c10d5b0b-fc4d-4733-a1cc-49ef6402785f",
   "metadata": {
    "pycharm": {
     "name": "#%%\n"
    }
   },
   "outputs": [],
   "source": [
    "import IPython\n",
    "\n",
    "# IPython.Application.instance().kernel.do_shutdown(True)"
   ]
  },
  {
   "cell_type": "markdown",
   "id": "987fc8f7",
   "metadata": {
    "pycharm": {
     "name": "#%% md\n"
    }
   },
   "source": [
    "Check your boto3 version"
   ]
  },
  {
   "cell_type": "code",
   "execution_count": 3,
   "id": "4cef0a80",
   "metadata": {
    "pycharm": {
     "name": "#%%\n"
    }
   },
   "outputs": [
    {
     "name": "stdout",
     "output_type": "stream",
     "text": [
      "boto3==1.40.55\n"
     ]
    }
   ],
   "source": [
    "!pip freeze | grep boto3"
   ]
  },
  {
   "cell_type": "markdown",
   "id": "1acac183",
   "metadata": {},
   "source": [
    "#### Create Workshop ID\n",
    "\n",
    "Next, you are going to create an ID for your resources that will be reused for the remainder of the workshop."
   ]
  },
  {
   "cell_type": "code",
   "execution_count": 4,
   "id": "971ed6d9",
   "metadata": {},
   "outputs": [
    {
     "name": "stdout",
     "output_type": "stream",
     "text": [
      "Your resource suffix is 7eb12cba\n"
     ]
    }
   ],
   "source": [
    "import uuid\n",
    "import os\n",
    "from pathlib import Path\n",
    "\n",
    "def get_or_create_workshop_id():\n",
    "    workshop_id_file = '../.workshop_id'\n",
    "    \n",
    "    if os.path.exists(workshop_id_file):\n",
    "        with open(workshop_id_file, 'r') as f:\n",
    "            return f.read().strip()\n",
    "    else:\n",
    "        workshop_id = str(uuid.uuid4())[:8]\n",
    "        with open(workshop_id_file, 'w') as f:\n",
    "            f.write(workshop_id)\n",
    "        return workshop_id\n",
    "\n",
    "workshop_id = get_or_create_workshop_id()\n",
    "resource_suffix = f\"{workshop_id}\"\n",
    "print(\"Your resource suffix is\", resource_suffix)"
   ]
  },
  {
   "cell_type": "markdown",
   "id": "ccf37dd5-bfaf-4563-a6ad-f9d7637c6e43",
   "metadata": {
    "pycharm": {
     "name": "#%% md\n"
    }
   },
   "source": [
    "## Creating Agent\n",
    "\n",
    "On this section we declare global variables that will be act as helpers during entire notebook and you will start to create your first agent."
   ]
  },
  {
   "cell_type": "code",
   "execution_count": 33,
   "id": "277a742a-5f17-4dfc-ac36-1b70ce8f4f7d",
   "metadata": {
    "pycharm": {
     "name": "#%%\n"
    }
   },
   "outputs": [],
   "source": [
    "import boto3\n",
    "import os\n",
    "import json\n",
    "import time\n",
    "from datetime import datetime\n",
    "from dateutil.relativedelta import relativedelta\n",
    "\n",
    "sts_client = boto3.client('sts')\n",
    "session = boto3.session.Session()\n",
    "\n",
    "account_id = sts_client.get_caller_identity()[\"Account\"]\n",
    "region = session.region_name\n",
    "\n",
    "s3_client = boto3.client('s3', region)\n",
    "bedrock_client = boto3.client('bedrock-runtime', region)\n",
    "\n",
    "agent_foundation_model = [\n",
    "    'anthropic.claude-3-sonnet-20240229-v1:0',\n",
    "    'anthropic.claude-3-5-sonnet-20240620-v1:0',\n",
    "    'anthropic.claude-3-haiku-20240307-v1:0',\n",
    "]\n",
    "\n",
    "curr_month = datetime.now()"
   ]
  },
  {
   "cell_type": "code",
   "execution_count": 34,
   "id": "a27cc6c8-4faa-4adc-90c8-7ace112877e1",
   "metadata": {
    "pycharm": {
     "name": "#%%\n"
    }
   },
   "outputs": [],
   "source": [
    "forecast_agent_name = f\"forecast-{resource_suffix}\"\n",
    "\n",
    "forecast_lambda_name = f\"fn-forecast-agent-{resource_suffix}\"\n",
    "\n",
    "forecast_agent_role_name = f'AmazonBedrockExecutionRoleForAgents_{forecast_agent_name}'\n",
    "\n",
    "dynamodb_table = f\"{forecast_agent_name}-table\"\n",
    "dynamodb_pk = \"customer_id\"\n",
    "dynamodb_sk = \"day\"\n",
    "\n",
    "dynamoDB_args = [dynamodb_table, dynamodb_pk, dynamodb_sk]\n",
    "\n",
    "knowledge_base_name = f'{forecast_agent_name}-kb'\n",
    "\n",
    "knowledge_base_description = \"KB containing information on how forecasting process is done\"\n",
    "bucket_name = f'forecast-agent-kb-{account_id}-{resource_suffix}'\n"
   ]
  },
  {
   "cell_type": "markdown",
   "id": "9ad49f25",
   "metadata": {
    "pycharm": {
     "name": "#%% md\n"
    }
   },
   "source": [
    "### Importing helper functions\n",
    "\n",
    "On following section, we're adding `bedrock_agent_helper.py` and `knowledge_base_helper` on Python path, so the files can be recognized and their functionalities can be invoked.\n",
    "\n",
    "Now, you're going to import from helper classes `bedrock_agent_helper.py` and `knowledge_base_helper.py`.\n",
    " \n",
    "Those files contain helper classes totally focused on make labs experience smoothly. \n",
    "\n",
    "All interactions with Bedrock will be handled by these classes.\n",
    "\n",
    "Following are methods that you're going to invoke on this lab:\n",
    "\n",
    "On `agents.py`:\n",
    "- `create_agent`: Create a new agent and respective IAM roles\n",
    "- `add_action_group_with_lambda`: Create a lambda function and add it as an action group for a previous created agent\n",
    "- `create_agent_alias`: Create an alias for this agent\n",
    "- `invoke`: Execute agent\n",
    "\n",
    "On `knowledge_bases.py`:\n",
    "- `create_or_retrieve_knowledge_base`: Create Knowledge Base on Amazon Bedrock if it doesn't exist or get info about previous created.\n",
    "- `synchronize_data`: Read files on S3, convert text info into vectors and add that information on Vector Database."
   ]
  },
  {
   "cell_type": "code",
   "execution_count": 9,
   "id": "bcad12b0",
   "metadata": {
    "pycharm": {
     "name": "#%%\n"
    }
   },
   "outputs": [],
   "source": [
    "import sys\n",
    "\n",
    "sys.path.insert(0, \".\")\n",
    "sys.path.insert(1, \"..\")\n",
    "\n",
    "from utils.bedrock_agent_helper import (\n",
    "    AgentsForAmazonBedrock\n",
    ")\n",
    "from utils.knowledge_base_helper import (\n",
    "    KnowledgeBasesForAmazonBedrock\n",
    ")\n",
    "agents = AgentsForAmazonBedrock()\n",
    "kb = KnowledgeBasesForAmazonBedrock()"
   ]
  },
  {
   "cell_type": "markdown",
   "id": "dc98a7c6",
   "metadata": {
    "pycharm": {
     "name": "#%% md\n"
    }
   },
   "source": [
    "## Create and syncronize Knowledge Base\n",
    "\n",
    "On this section, you're going to create a Amazon Bedrock Knowledge Base and ingest data on it.\n",
    "\n",
    "This data contains basic information about how forecast process is done.\n",
    "\n",
    "**This creation process can take several minutes.**"
   ]
  },
  {
   "cell_type": "code",
   "execution_count": 10,
   "id": "2e8e718b",
   "metadata": {
    "pycharm": {
     "name": "#%%\n"
    }
   },
   "outputs": [
    {
     "name": "stdout",
     "output_type": "stream",
     "text": [
      "Creating KB forecast-7eb12cba-kb\n",
      "========================================================================================\n",
      "Step 1 - Creating or retrieving forecast-agent-kb-833005555478-7eb12cba S3 bucket for Knowledge Base documents\n",
      "Creating bucket forecast-agent-kb-833005555478-7eb12cba\n",
      "========================================================================================\n",
      "Step 2 - Creating Knowledge Base Execution Role (AmazonBedrockExecutionRoleForKnowledgeBase_840) and Policies\n",
      "========================================================================================\n",
      "Step 3 - Creating OSS encryption, network and data access policies\n",
      "========================================================================================\n",
      "Step 4 - Creating OSS Collection (this step takes a couple of minutes to complete)\n",
      "{ 'ResponseMetadata': { 'HTTPHeaders': { 'connection': 'keep-alive',\n",
      "                                         'content-length': '316',\n",
      "                                         'content-type': 'application/x-amz-json-1.0',\n",
      "                                         'date': 'Sat, 18 Oct 2025 12:54:57 '\n",
      "                                                 'GMT',\n",
      "                                         'x-amzn-requestid': 'bb357d92-97ef-45a2-bbf2-6bff9e115c5f'},\n",
      "                        'HTTPStatusCode': 200,\n",
      "                        'RequestId': 'bb357d92-97ef-45a2-bbf2-6bff9e115c5f',\n",
      "                        'RetryAttempts': 0},\n",
      "  'createCollectionDetail': { 'arn': 'arn:aws:aoss:us-east-1:833005555478:collection/cxqrkqtep1ytj5tok34d',\n",
      "                              'createdDate': 1760792096609,\n",
      "                              'id': 'cxqrkqtep1ytj5tok34d',\n",
      "                              'kmsKeyArn': 'auto',\n",
      "                              'lastModifiedDate': 1760792096609,\n",
      "                              'name': 'forecast-7eb12cba-kb-840',\n",
      "                              'standbyReplicas': 'ENABLED',\n",
      "                              'status': 'CREATING',\n",
      "                              'type': 'VECTORSEARCH'}}\n",
      "cxqrkqtep1ytj5tok34d.us-east-1.aoss.amazonaws.com\n",
      "Creating collection...\n",
      "Creating collection...........\n",
      "Creating collection...........\n",
      "Creating collection...........\n",
      "Creating collection...........\n",
      "Creating collection...........\n",
      "Creating collection...........\n",
      "..............................\n",
      "Collection successfully created:\n",
      "[ { 'arn': 'arn:aws:aoss:us-east-1:833005555478:collection/cxqrkqtep1ytj5tok34d',\n",
      "    'collectionEndpoint': 'https://cxqrkqtep1ytj5tok34d.us-east-1.aoss.amazonaws.com',\n",
      "    'createdDate': 1760792096609,\n",
      "    'dashboardEndpoint': 'https://cxqrkqtep1ytj5tok34d.us-east-1.aoss.amazonaws.com/_dashboards',\n",
      "    'fipsEndpoints': { 'collectionEndpoint': 'https://cxqrkqtep1ytj5tok34d.us-east-1.aoss-fips.amazonaws.com',\n",
      "                       'dashboardEndpoint': 'https://cxqrkqtep1ytj5tok34d.us-east-1.aoss-fips.amazonaws.com/_dashboards'},\n",
      "    'id': 'cxqrkqtep1ytj5tok34d',\n",
      "    'kmsKeyArn': 'auto',\n",
      "    'lastModifiedDate': 1760792302716,\n",
      "    'name': 'forecast-7eb12cba-kb-840',\n",
      "    'standbyReplicas': 'ENABLED',\n",
      "    'status': 'ACTIVE',\n",
      "    'type': 'VECTORSEARCH'}]\n",
      "Opensearch serverless arn:  arn:aws:iam::833005555478:policy/AmazonBedrockOSSPolicyForKnowledgeBase_840\n",
      "Sleeping for a minute to ensure data access rules have been enforced\n",
      "========================================================================================\n",
      "Step 5 - Creating OSS Vector Index\n",
      "\n",
      "Creating index:\n",
      "{ 'acknowledged': True,\n",
      "  'index': 'forecast-7eb12cba-kb-index-840',\n",
      "  'shards_acknowledged': True}\n",
      "========================================================================================\n",
      "Step 6 - Creating Knowledge Base\n",
      "{'type': 'VECTOR', 'vectorKnowledgeBaseConfiguration': {'embeddingModelArn': 'arn:aws:bedrock:us-east-1::foundation-model/amazon.titan-embed-text-v2:0'}}\n",
      "{ 'createdAt': datetime.datetime(2025, 10, 18, 13, 0, 28, 685345, tzinfo=tzlocal()),\n",
      "  'description': 'KB containing information on how forecasting process is done',\n",
      "  'knowledgeBaseArn': 'arn:aws:bedrock:us-east-1:833005555478:knowledge-base/EUDSVOIZ6T',\n",
      "  'knowledgeBaseConfiguration': { 'type': 'VECTOR',\n",
      "                                  'vectorKnowledgeBaseConfiguration': { 'embeddingModelArn': 'arn:aws:bedrock:us-east-1::foundation-model/amazon.titan-embed-text-v2:0'}},\n",
      "  'knowledgeBaseId': 'EUDSVOIZ6T',\n",
      "  'name': 'forecast-7eb12cba-kb',\n",
      "  'roleArn': 'arn:aws:iam::833005555478:role/AmazonBedrockExecutionRoleForKnowledgeBase_840',\n",
      "  'status': 'CREATING',\n",
      "  'storageConfiguration': { 'opensearchServerlessConfiguration': { 'collectionArn': 'arn:aws:aoss:us-east-1:833005555478:collection/cxqrkqtep1ytj5tok34d',\n",
      "                                                                   'fieldMapping': { 'metadataField': 'text-metadata',\n",
      "                                                                                     'textField': 'text',\n",
      "                                                                                     'vectorField': 'vector'},\n",
      "                                                                   'vectorIndexName': 'forecast-7eb12cba-kb-index-840'},\n",
      "                            'type': 'OPENSEARCH_SERVERLESS'},\n",
      "  'updatedAt': datetime.datetime(2025, 10, 18, 13, 0, 28, 685345, tzinfo=tzlocal())}\n",
      "{ 'createdAt': datetime.datetime(2025, 10, 18, 13, 0, 29, 563739, tzinfo=tzlocal()),\n",
      "  'dataDeletionPolicy': 'RETAIN',\n",
      "  'dataSourceConfiguration': { 's3Configuration': { 'bucketArn': 'arn:aws:s3:::forecast-agent-kb-833005555478-7eb12cba'},\n",
      "                               'type': 'S3'},\n",
      "  'dataSourceId': 'IJJ9U4BSOZ',\n",
      "  'description': 'KB containing information on how forecasting process is done',\n",
      "  'knowledgeBaseId': 'EUDSVOIZ6T',\n",
      "  'name': 'forecast-7eb12cba-kb',\n",
      "  'status': 'AVAILABLE',\n",
      "  'updatedAt': datetime.datetime(2025, 10, 18, 13, 0, 29, 563739, tzinfo=tzlocal()),\n",
      "  'vectorIngestionConfiguration': { 'chunkingConfiguration': { 'chunkingStrategy': 'FIXED_SIZE',\n",
      "                                                               'fixedSizeChunkingConfiguration': { 'maxTokens': 512,\n",
      "                                                                                                   'overlapPercentage': 20}}}}\n",
      "========================================================================================\n",
      "Knowledge Base ID: EUDSVOIZ6T\n",
      "Data Source ID: IJJ9U4BSOZ\n",
      "CPU times: user 559 ms, sys: 89.8 ms, total: 649 ms\n",
      "Wall time: 6min 34s\n"
     ]
    }
   ],
   "source": [
    "%%time\n",
    "kb_id, ds_id = kb.create_or_retrieve_knowledge_base(\n",
    "    knowledge_base_name,\n",
    "    knowledge_base_description,\n",
    "    bucket_name\n",
    ")\n",
    "\n",
    "print(f\"Knowledge Base ID: {kb_id}\")\n",
    "print(f\"Data Source ID: {ds_id}\")"
   ]
  },
  {
   "cell_type": "markdown",
   "id": "9475295c",
   "metadata": {
    "pycharm": {
     "name": "#%% md\n"
    }
   },
   "source": [
    "## Create Synthetic Data to Load on S3\n",
    "\n",
    "Instead of get data elsewhere, you're going to generate data, using a LLM on Amazon Bedrock.\n",
    "This fake data that will be generated, will be uploaded into a S3 bucket and then added into an Amazon Bedrock Knowledge Base."
   ]
  },
  {
   "cell_type": "code",
   "execution_count": 11,
   "id": "e21af0b4",
   "metadata": {
    "pycharm": {
     "name": "#%%\n"
    }
   },
   "outputs": [
    {
     "name": "stdout",
     "output_type": "stream",
     "text": [
      "The kb_documents directory already exists!\n"
     ]
    }
   ],
   "source": [
    "path = \"kb_documents\"\n",
    "\n",
    "# Check whether the specified path exists or not\n",
    "is_exist = os.path.exists(path)\n",
    "if not is_exist:\n",
    "   # Create a new directory if it does not exist\n",
    "   os.makedirs(path)\n",
    "   print(\"The {} directory was created!\".format(path))\n",
    "else:\n",
    "   print(\"The {} directory already exists!\".format(path))"
   ]
  },
  {
   "cell_type": "markdown",
   "id": "154d8537",
   "metadata": {
    "pycharm": {
     "name": "#%% md\n"
    }
   },
   "source": [
    "Creating helper methods to invoke LLM on Bedrock and to write a local file using Python"
   ]
  },
  {
   "cell_type": "code",
   "execution_count": 40,
   "id": "1729d027",
   "metadata": {
    "pycharm": {
     "name": "#%%\n"
    }
   },
   "outputs": [],
   "source": [
    "def invoke_bedrock_generate_energy_files(prompt):\n",
    "    message_list = []\n",
    "\n",
    "    initial_message = {\n",
    "        \"role\": \"user\",\n",
    "        \"content\": [\n",
    "            {\n",
    "                \"text\": prompt\n",
    "            }\n",
    "        ],\n",
    "    }\n",
    "\n",
    "    message_list.append(initial_message)\n",
    "\n",
    "    response = bedrock_client.converse(\n",
    "        modelId=agent_foundation_model[1],\n",
    "        messages=message_list,\n",
    "        inferenceConfig={\n",
    "            \"maxTokens\": 2048,\n",
    "            \"temperature\": 0\n",
    "        },\n",
    "    )\n",
    "\n",
    "    return response['output']['message']\n",
    "\n",
    "\n",
    "def write_file(file_name, content):\n",
    "    f = open(file_name, 'w')\n",
    "    f.write(content)\n",
    "    f.close()"
   ]
  },
  {
   "cell_type": "markdown",
   "id": "be06807e",
   "metadata": {
    "pycharm": {
     "name": "#%% md\n"
    }
   },
   "source": [
    "### Generating data prompt\n",
    "Generating one file with forecasting info using the LLM model"
   ]
  },
  {
   "cell_type": "code",
   "execution_count": 35,
   "id": "b7978ad4",
   "metadata": {
    "pycharm": {
     "name": "#%%\n"
    }
   },
   "outputs": [
    {
     "name": "stdout",
     "output_type": "stream",
     "text": [
      "Generated data to be stored in the KB:\n",
      " Step-by-step forecast process for time-series data using scikit-learn:\n",
      "\n",
      "1. Import necessary libraries:\n",
      "```python\n",
      "import pandas as pd\n",
      "import numpy as np\n",
      "from sklearn.model_selection import train_test_split\n",
      "from sklearn.preprocessing import StandardScaler\n",
      "from sklearn.ensemble import RandomForestRegressor\n",
      "from sklearn.metrics import mean_squared_error\n",
      "import matplotlib.pyplot as plt\n",
      "```\n",
      "\n",
      "2. Load and preprocess the data:\n",
      "```python\n",
      "# Load data from JSON file\n",
      "df = pd.read_json('data.json', lines=True)\n",
      "\n",
      "# Convert 'day' to datetime\n",
      "df['day'] = pd.to_datetime(df['day'])\n",
      "\n",
      "# Set 'day' as index\n",
      "df.set_index('day', inplace=True)\n",
      "\n",
      "# Sort by date\n",
      "df.sort_index(inplace=True)\n",
      "\n",
      "# Create lag features\n",
      "for i in range(1, 8):\n",
      "    df[f'lag_{i}'] = df['sumPowerReading'].shift(i)\n",
      "\n",
      "# Drop rows with NaN values\n",
      "df.dropna(inplace=True)\n",
      "```\n",
      "\n",
      "3. Prepare features and target:\n",
      "```python\n",
      "X = df[['lag_1', 'lag_2', 'lag_3', 'lag_4', 'lag_5', 'lag_6', 'lag_7']]\n",
      "y = df['sumPowerReading']\n",
      "\n",
      "# Split data into train and test sets\n",
      "X_train, X_test, y_train, y_test = train_test_split(X, y, test_size=0.2, shuffle=False)\n",
      "\n",
      "# Scale features\n",
      "scaler = StandardScaler()\n",
      "X_train_scaled = scaler.fit_transform(X_train)\n",
      "X_test_scaled = scaler.transform(X_test)\n",
      "```\n",
      "\n",
      "4. Train the Random Forest model:\n",
      "```python\n",
      "model = RandomForestRegressor(n_estimators=100, random_state=42)\n",
      "model.fit(X_train_scaled, y_train)\n",
      "```\n",
      "\n",
      "5. Make predictions:\n",
      "```python\n",
      "y_pred = model.predict(X_test_scaled)\n",
      "```\n",
      "\n",
      "6. Evaluate the model:\n",
      "```python\n",
      "mse = mean_squared_error(y_test, y_pred)\n",
      "rmse = np.sqrt(mse)\n",
      "print(f\"Root Mean Squared Error: {rmse}\")\n",
      "```\n",
      "\n",
      "7. Visualize the results:\n",
      "```python\n",
      "plt.figure(figsize=(12, 6))\n",
      "plt.plot(y_test.index, y_test.values, label='Actual')\n",
      "plt.plot(y_test.index, y_pred, label='Predicted')\n",
      "plt.title('Actual vs Predicted Power Readings')\n",
      "plt.xlabel('Date')\n",
      "plt.ylabel('Power Reading')\n",
      "plt.legend()\n",
      "plt.show()\n",
      "```\n",
      "\n",
      "8. Analyze feature importance:\n",
      "```python\n",
      "feature_importance = pd.DataFrame({\n",
      "    'feature': X.columns,\n",
      "    'importance': model.feature_importances_\n",
      "}).sort_values('importance', ascending=False)\n",
      "\n",
      "print(feature_importance)\n",
      "```\n",
      "\n",
      "Understanding the forecasted values:\n",
      "1. Compare the RMSE to the scale of your target variable. A lower RMSE indicates better model performance.\n",
      "2. Visualize the actual vs. predicted values to identify any patterns or discrepancies.\n",
      "3. Look at the feature importance to understand which lag features are most influential in making predictions.\n",
      "\n",
      "Factors driving the forecasted values:\n",
      "1. The most important features (lag values) identified by the Random Forest model are likely the main drivers of the predictions.\n",
      "2. Analyze the relationship between these important lag features and the target variable to understand how past power readings influence future readings.\n",
      "3. Consider external factors not included in the current model, such as weather conditions or seasonal patterns, which might improve the forecast if incorporated.\n",
      "\n",
      "To further improve the model:\n",
      "1. Experiment with different algorithms (e.g., ARIMA, Prophet, or LSTM).\n",
      "2. Include additional features like day of the week, month, or external data sources.\n",
      "3. Try different time horizons for lag features or rolling statistics.\n",
      "4. Implement cross-validation techniques specific to time series data.\n"
     ]
    }
   ],
   "source": [
    "text_generation_energy_instructions = '''\n",
    "    You will be act as data-scientist that knows how to do machine learning\n",
    "    forecasting using Python and scikit learn. You will generate a step-by-step\n",
    "    on how to create a forecast process for a time-series data.\n",
    "\n",
    "    This data has the following json structure:\n",
    "    {\n",
    "        \"customer_id\": \"1\",\n",
    "        \"day\": \"2024/06/01\",\n",
    "        \"sumPowerReading\": \"120.0\",\n",
    "        \"kind\":\"measured\"\n",
    "    }\n",
    "\n",
    "    Choose one forecast algorithm, that works on scikit-learn, explain the\n",
    "    details on how to create a step-by-step forecast, with code sample,\n",
    "    showcasing how to run forecast on this data.\n",
    "\n",
    "    Include some explanation on how to understand the forecasted values and\n",
    "    how to decide the factors driving those values.\n",
    "\n",
    "    Answer only with the step-by-step, avoid answer with afirmations like:\n",
    "    \"OK, I can generate it,\" or \"Yes, please find following example.\"\n",
    "    Be direct and only reply the step-by-step.\n",
    "'''\n",
    "\n",
    "solar_energy_file_name = 'forecasting-info.txt'\n",
    "\n",
    "response_message = invoke_bedrock_generate_energy_files(\n",
    "    text_generation_energy_instructions\n",
    ")\n",
    "\n",
    "print(\"Generated data to be stored in the KB:\\n\", response_message['content'][0]['text'])\n",
    "write_file(\n",
    "    '{}/{}'.format(path, solar_energy_file_name),\n",
    "    response_message['content'][0]['text']\n",
    ")"
   ]
  },
  {
   "cell_type": "markdown",
   "id": "67f13cef",
   "metadata": {
    "pycharm": {
     "name": "#%% md\n"
    }
   },
   "source": [
    "### Uploading data to s3\n",
    "Uploading generated files into an Amazon S3 Bucket."
   ]
  },
  {
   "cell_type": "code",
   "execution_count": 14,
   "id": "01a44526",
   "metadata": {
    "pycharm": {
     "name": "#%%\n"
    }
   },
   "outputs": [],
   "source": [
    "def upload_directory(path, bucket_name):\n",
    "    for root,dirs,files in os.walk(path):\n",
    "        for file in files:\n",
    "            file_to_upload = os.path.join(root,file)\n",
    "            print(f\"uploading file {file_to_upload} to {bucket_name}\")\n",
    "            s3_client.upload_file(file_to_upload,bucket_name,file)"
   ]
  },
  {
   "cell_type": "markdown",
   "id": "3b38c6b5-a782-48df-bd69-e5a41aeed9ab",
   "metadata": {
    "pycharm": {
     "name": "#%% md\n"
    }
   },
   "source": [
    "### Synchronizing Knowledge Base\n",
    "Now that the data is available in the s3 bucket, let's synchronize it to our knowledge base"
   ]
  },
  {
   "cell_type": "code",
   "execution_count": 15,
   "id": "213ae97a",
   "metadata": {
    "pycharm": {
     "name": "#%%\n"
    }
   },
   "outputs": [
    {
     "name": "stdout",
     "output_type": "stream",
     "text": [
      "uploading file kb_documents/forecasting-info.txt to forecast-agent-kb-833005555478-7eb12cba\n",
      "{ 'dataSourceId': 'IJJ9U4BSOZ',\n",
      "  'ingestionJobId': 'KXOQPB4KHN',\n",
      "  'knowledgeBaseId': 'EUDSVOIZ6T',\n",
      "  'startedAt': datetime.datetime(2025, 10, 18, 13, 4, 10, 578462, tzinfo=tzlocal()),\n",
      "  'statistics': { 'numberOfDocumentsDeleted': 0,\n",
      "                  'numberOfDocumentsFailed': 0,\n",
      "                  'numberOfDocumentsScanned': 0,\n",
      "                  'numberOfMetadataDocumentsModified': 0,\n",
      "                  'numberOfMetadataDocumentsScanned': 0,\n",
      "                  'numberOfModifiedDocumentsIndexed': 0,\n",
      "                  'numberOfNewDocumentsIndexed': 0},\n",
      "  'status': 'STARTING',\n",
      "  'updatedAt': datetime.datetime(2025, 10, 18, 13, 4, 10, 578462, tzinfo=tzlocal())}\n",
      "{ 'dataSourceId': 'IJJ9U4BSOZ',\n",
      "  'ingestionJobId': 'KXOQPB4KHN',\n",
      "  'knowledgeBaseId': 'EUDSVOIZ6T',\n",
      "  'startedAt': datetime.datetime(2025, 10, 18, 13, 4, 10, 578462, tzinfo=tzlocal()),\n",
      "  'statistics': { 'numberOfDocumentsDeleted': 0,\n",
      "                  'numberOfDocumentsFailed': 0,\n",
      "                  'numberOfDocumentsScanned': 1,\n",
      "                  'numberOfMetadataDocumentsModified': 0,\n",
      "                  'numberOfMetadataDocumentsScanned': 0,\n",
      "                  'numberOfModifiedDocumentsIndexed': 0,\n",
      "                  'numberOfNewDocumentsIndexed': 1},\n",
      "  'status': 'COMPLETE',\n",
      "  'updatedAt': datetime.datetime(2025, 10, 18, 13, 4, 15, 732123, tzinfo=tzlocal())}\n"
     ]
    }
   ],
   "source": [
    "upload_directory(\"kb_documents\", bucket_name)\n",
    "\n",
    "# sync knowledge base\n",
    "kb.synchronize_data(kb_id, ds_id)"
   ]
  },
  {
   "cell_type": "markdown",
   "id": "5f65af49",
   "metadata": {
    "pycharm": {
     "name": "#%% md\n"
    }
   },
   "source": [
    "## Creating Agent\n",
    "\n",
    "Create the forecast agent that will have an `Amazon Bedrock Knowledge Base` with information on how forecast process is done as well as the `action groups` to handle the user requests and `code interpretation` capabilities for calculating basic user's requests such as increase in consumption.\n",
    "\n",
    "In order to have accurate agents, it is important to set unambiguous instructions of what the agent should do and what it should not do. It is also important to provide clear definitions for when the agent should use the knowledge bases and action groups available to it.\n",
    "\n",
    "We will provide the following instructions to our agent:\n",
    "```\n",
    "You are an Energy Assistant that helps customers understand their energy consumption patterns and future usage expectations.\n",
    "\n",
    "Your capabilities include:\n",
    "1. Analyzing historical energy consumption\n",
    "2. Providing consumption forecasts\n",
    "3. Generating usage statistics\n",
    "4. Updating forecasts for specific customers\n",
    "\n",
    "Core behaviors:\n",
    "1. Always use available information systems before asking customers for additional details\n",
    "2. Maintain a professional yet conversational tone\n",
    "3. Provide clear, direct answers without referencing internal systems or data sources\n",
    "4. Present information in an easy-to-understand manner\n",
    "5. Use code generation and interpretation capabilities for any on the fly calculation. DO NOT try to calculate things by yourself.\n",
    "6. DO NOT plot graphs. Refuse to do so when asked by the user. Instead provide an overview of the data\n",
    "\n",
    "Response style:\n",
    "- Be helpful and solution-oriented\n",
    "- Use clear, non-technical language\n",
    "- Focus on providing actionable insights\n",
    "- Maintain natural conversation flow\n",
    "- Be concise yet informative \n",
    "- do not add extra information not required by the user\n",
    "```\n",
    "\n",
    "We will also connect a knowledge base for the explanation of the forecasting methodologies with the following instructions:\n",
    "```\n",
    "Access this knowledge base when needing to explain specific forecast generation methodology.\n",
    "```\n",
    "\n",
    "And we will make the following tool available to the agent:\n",
    "- `get_forecasted_consumption`: Gets the next 3 months energy usage forecast\n",
    "- `get_historical_consumption`: Gets energy usage history to date\n",
    "- `get_consumption_statistics`: Gets current month usage analytics\n",
    "- `update_forecasting`: Updates the energy forecast for a specific month\n"
   ]
  },
  {
   "cell_type": "code",
   "execution_count": 16,
   "id": "daab9cee",
   "metadata": {
    "pycharm": {
     "name": "#%%\n"
    }
   },
   "outputs": [],
   "source": [
    "kb_info = kb.get_kb(kb_id)\n",
    "kb_arn = kb_info['knowledgeBase']['knowledgeBaseArn']"
   ]
  },
  {
   "cell_type": "code",
   "execution_count": 17,
   "id": "9f31d063",
   "metadata": {
    "pycharm": {
     "name": "#%%\n"
    }
   },
   "outputs": [],
   "source": [
    "kb_config = {\n",
    "    'kb_id': kb_id,\n",
    "    'kb_instruction': \"\"\"Access this knowledge base when needing to explain specific forecast generation methodology.\"\"\"\n",
    "}"
   ]
  },
  {
   "cell_type": "code",
   "execution_count": 18,
   "id": "c4b3f749-dff9-46af-a362-74851ce0713c",
   "metadata": {
    "pycharm": {
     "name": "#%%\n"
    }
   },
   "outputs": [
    {
     "name": "stdout",
     "output_type": "stream",
     "text": [
      "Waiting for agent status to change. Current status CREATING\n",
      "Agent id EGYPPNBQRV current status: NOT_PREPARED\n"
     ]
    },
    {
     "data": {
      "text/plain": [
       "('EGYPPNBQRV',\n",
       " 'TSTALIASID',\n",
       " 'arn:aws:bedrock:us-east-1:833005555478:agent-alias/EGYPPNBQRV/TSTALIASID')"
      ]
     },
     "execution_count": 18,
     "metadata": {},
     "output_type": "execute_result"
    }
   ],
   "source": [
    "agent_description = \"\"\"You are a energy usage forecast bot.\n",
    "You can retrieve historical energy consumption, forecasted consumption, usage statistics and update a forecast for a specific user\"\"\"\n",
    "\n",
    "agent_instruction = \"\"\"You are an Energy Assistant that helps customers understand their energy consumption patterns and future usage expectations.\n",
    "\n",
    "Your capabilities include:\n",
    "1. Analyzing historical energy consumption\n",
    "2. Providing consumption forecasts\n",
    "3. Generating usage statistics\n",
    "4. Updating forecasts for specific customers\n",
    "\n",
    "Core behaviors:\n",
    "1. Always use available information systems before asking customers for additional details\n",
    "2. Maintain a professional yet conversational tone\n",
    "3. Provide clear, direct answers without referencing internal systems or data sources\n",
    "4. Present information in an easy-to-understand manner\n",
    "5. Use code generation and interpretation capabilities for any on the fly calculation. DO NOT try to calculate things by yourself.\n",
    "6. DO NOT plot graphs. Refuse to do so when asked by the user. Instead provide an overview of the data\n",
    "\n",
    "Response style:\n",
    "- Be helpful and solution-oriented\n",
    "- Use clear, non-technical language\n",
    "- Focus on providing actionable insights\n",
    "- Maintain natural conversation flow\n",
    "- Be concise yet informative \n",
    "- do not add extra information not required by the user\"\"\"\n",
    "\n",
    "forecast_agent = agents.create_agent(\n",
    "    forecast_agent_name,\n",
    "    agent_description,\n",
    "    agent_instruction,\n",
    "    agent_foundation_model,\n",
    "    kb_arns=[kb_arn],\n",
    "    code_interpretation=True\n",
    ")\n",
    "\n",
    "forecast_agent"
   ]
  },
  {
   "cell_type": "markdown",
   "id": "5ac3046e-d2f0-459e-ac43-4cd600316ccf",
   "metadata": {
    "pycharm": {
     "name": "#%% md\n"
    }
   },
   "source": [
    "### Associating knowledge base\n",
    "Now that we've created the agent, let's associate the previously created knowledge base to it."
   ]
  },
  {
   "cell_type": "code",
   "execution_count": null,
   "id": "d6c248b3",
   "metadata": {
    "pycharm": {
     "name": "#%%\n"
    }
   },
   "outputs": [],
   "source": [
    "agents.associate_kb_with_agent(\n",
    "    forecast_agent[0],\n",
    "    kb_config['kb_instruction'],\n",
    "    kb_config['kb_id']\n",
    ")"
   ]
  },
  {
   "cell_type": "markdown",
   "id": "67dfcc57-5958-45e8-a4ea-53620142c017",
   "metadata": {
    "pycharm": {
     "name": "#%% md\n"
    }
   },
   "source": [
    "### Creating Lambda\n",
    "\n",
    "In order to enable the agent to execute tasks, we will create an AWS Lambda function that implements the tasks execution. We will then provide this lambda function to the agent action group. You can find more information on how to use action groups to define actions that your agent can perform [here](https://docs.aws.amazon.com/bedrock/latest/userguide/agents-action-create.html)\n",
    "\n",
    "On this block, we're going to generate Lambda function Code:"
   ]
  },
  {
   "cell_type": "code",
   "execution_count": 21,
   "id": "d2cfc71d-4b0e-4b00-9159-cc3efd2becbc",
   "metadata": {
    "pycharm": {
     "name": "#%%\n"
    }
   },
   "outputs": [
    {
     "name": "stdout",
     "output_type": "stream",
     "text": [
      "Overwriting forecast.py\n"
     ]
    }
   ],
   "source": [
    "%%writefile forecast.py\n",
    "import boto3\n",
    "import json\n",
    "import os\n",
    "\n",
    "from boto3.dynamodb.conditions import Key, Attr\n",
    "from datetime import datetime\n",
    "from decimal import Decimal\n",
    "\n",
    "dynamodb_resource = boto3.resource('dynamodb')\n",
    "dynamodb_table = os.getenv('dynamodb_table')\n",
    "dynamodb_pk = os.getenv('dynamodb_pk')\n",
    "dynamodb_sk = os.getenv('dynamodb_sk')\n",
    "truncated_month = datetime.today().replace(day=1, hour=0, minute=0, second=0, microsecond=0)\n",
    "\n",
    "\n",
    "def get_named_parameter(event, name):\n",
    "    return next(item for item in event['parameters'] if item['name'] == name)['value']\n",
    "    \n",
    "def populate_function_response(event, response_body):\n",
    "    return {'response': {'actionGroup': event['actionGroup'], 'function': event['function'],\n",
    "                'functionResponse': {'responseBody': {'TEXT': {'body': str(response_body)}}}}}\n",
    "\n",
    "def trunc_datetime(month,year):\n",
    "    return datetime.today().replace(year =int(year), month=int(month), day=1, hour=0, minute=0, second=0, microsecond=0)\n",
    "\n",
    "def put_dynamodb(table_name, item):\n",
    "    table = dynamodb_resource.Table(table_name)\n",
    "    resp = table.put_item(Item=item)\n",
    "    return resp\n",
    "\n",
    "def read_dynamodb(\n",
    "    table_name: str, \n",
    "    pk_field: str,\n",
    "    pk_value: str,\n",
    "    sk_field: str=None, \n",
    "    sk_value: str=None,\n",
    "    attr_key: str=None,\n",
    "    attr_val: str=None\n",
    "):\n",
    "    try:\n",
    "\n",
    "        table = dynamodb_resource.Table(table_name)\n",
    "        # Create expression\n",
    "        if sk_field:\n",
    "            key_expression = Key(pk_field).eq(pk_value) & Key(sk_field).eq(sk_value)\n",
    "        else:\n",
    "            key_expression = Key(pk_field).eq(pk_value)\n",
    "\n",
    "        if attr_key:\n",
    "            attr_expression = Attr(attr_key).eq(attr_val)\n",
    "            query_data = table.query(\n",
    "                KeyConditionExpression=key_expression,\n",
    "                FilterExpression=attr_expression\n",
    "            )\n",
    "        else:\n",
    "            query_data = table.query(\n",
    "                KeyConditionExpression=key_expression\n",
    "            )\n",
    "        \n",
    "        return query_data['Items']\n",
    "    except Exception:\n",
    "        print(f'Error querying table: {table_name}.')\n",
    "\n",
    "def get_forecasted_consumption(customer_id):\n",
    "    return read_dynamodb(dynamodb_table, \n",
    "                         dynamodb_pk, \n",
    "                         customer_id, \n",
    "                         attr_key=\"kind\", attr_val=\"forecasted\")\n",
    "\n",
    "def get_historical_consumption(customer_id):\n",
    "    return read_dynamodb(dynamodb_table, \n",
    "                         dynamodb_pk, \n",
    "                         customer_id, \n",
    "                         attr_key=\"kind\", attr_val=\"measured\")\n",
    "\n",
    "def get_consumption_statistics(customer_id):\n",
    "    return read_dynamodb(dynamodb_table, \n",
    "                         dynamodb_pk, \n",
    "                         customer_id, \n",
    "                         dynamodb_sk, \n",
    "                         truncated_month.strftime('%Y/%m/%d'))\n",
    "\n",
    "def update_forecasting(customer_id, month, year, usage):\n",
    "    current_date = trunc_datetime(month, year)\n",
    "    if  current_date >= truncated_month:\n",
    "        item = {\n",
    "            'customer_id': customer_id,\n",
    "            'day': current_date.strftime('%Y/%m/%d'),\n",
    "            'sumPowerReading': Decimal(usage),\n",
    "            'kind': 'forecasted'\n",
    "        }\n",
    "        put_dynamodb(dynamodb_table, item)\n",
    "        return \"Day: {} updated for customer: {}\".format(current_date.strftime('%Y/%m/%d'), customer_id)\n",
    "    else:\n",
    "        return \"You're trying to change a past date: {} for customer: {}, which is not allowed\".format(current_date.strftime('%Y/%m/%d'), customer_id)\n",
    "\n",
    "def lambda_handler(event, context):\n",
    "    print(event)\n",
    "    \n",
    "    # name of the function that should be invoked\n",
    "    function = event.get('function', '')\n",
    "\n",
    "    # parameters to invoke function with\n",
    "    parameters = event.get('parameters', [])\n",
    "    customer_id = get_named_parameter(event, \"customer_id\")\n",
    "\n",
    "    if function == 'get_forecasted_consumption':\n",
    "        result = get_forecasted_consumption(customer_id)\n",
    "    elif function == 'get_historical_consumption':\n",
    "        result = get_historical_consumption(customer_id)\n",
    "    elif function == 'get_consumption_statistics':\n",
    "        result = get_consumption_statistics(customer_id)\n",
    "    elif function == 'update_forecasting':\n",
    "        month = get_named_parameter(event, \"month\")\n",
    "        year = get_named_parameter(event, \"year\")\n",
    "        usage = get_named_parameter(event, \"usage\")\n",
    "        result = update_forecasting(customer_id, month, year, usage)\n",
    "    else:\n",
    "        result = f\"Error, function '{function}' not recognized\"\n",
    "\n",
    "    response = populate_function_response(event, result)\n",
    "    print(response)\n",
    "    return response"
   ]
  },
  {
   "cell_type": "markdown",
   "id": "e93595f1-b662-42e5-b6a5-9bdbffb5756f",
   "metadata": {
    "pycharm": {
     "name": "#%% md\n"
    }
   },
   "source": [
    "### Defining available actions\n",
    "\n",
    "Next we will define the available actions that an agent can perform using [Function Details](https://docs.aws.amazon.com/bedrock/latest/userguide/agents-action-function.html). You can also do this task using OpenAPI Schemas, which can be very useful if you already have an OpenAPI schema available for your application.\n",
    "\n",
    "When creating your function details, it is important to provide clear descriptions for the function and for its parameters, as your agent depends on them to correctly orchestrate the tasks to be executed"
   ]
  },
  {
   "cell_type": "code",
   "execution_count": 22,
   "id": "bc151a11",
   "metadata": {
    "pycharm": {
     "name": "#%%\n"
    }
   },
   "outputs": [],
   "source": [
    "functions_def = [\n",
    "    {\n",
    "        \"name\": \"get_forecasted_consumption\",\n",
    "        \"description\": \"\"\"Gets the next 3 months energy usage forecast\"\"\",\n",
    "        \"parameters\": {\n",
    "            \"customer_id\": {\n",
    "                \"description\": \"Unique customer identifier\",\n",
    "                \"required\": True,\n",
    "                \"type\": \"string\"\n",
    "            }\n",
    "        }\n",
    "    },\n",
    "    {\n",
    "        \"name\": \"get_historical_consumption\",\n",
    "        \"description\": \"\"\"Gets energy usage history to date\"\"\",\n",
    "        \"parameters\": {\n",
    "            \"customer_id\": {\n",
    "                \"description\": \"Unique customer identifier\",\n",
    "                \"required\": True,\n",
    "                \"type\": \"string\"\n",
    "            }\n",
    "        }\n",
    "    },\n",
    "    {\n",
    "        \"name\": \"get_consumption_statistics\",\n",
    "        \"description\": \"\"\"Gets current month usage analytics\"\"\",\n",
    "        \"parameters\": {\n",
    "            \"customer_id\": {\n",
    "                \"description\": \"Unique customer identifier\",\n",
    "                \"required\": True,\n",
    "                \"type\": \"string\"\n",
    "            }\n",
    "        }\n",
    "    },\n",
    "    {\n",
    "        \"name\": \"update_forecasting\",\n",
    "        \"description\": \"\"\"Updates the energy forecast for a specific month\"\"\",\n",
    "        \"parameters\": {\n",
    "            \"customer_id\": {\n",
    "                \"description\": \"Unique customer identifier\",\n",
    "                \"required\": True,\n",
    "                \"type\": \"string\"\n",
    "            },\n",
    "            \"month\": {\n",
    "                \"description\": \"Target update month. In the format MM\",\n",
    "                \"required\": True,\n",
    "                \"type\": \"integer\"\n",
    "            },\n",
    "            \"year\": {\n",
    "                \"description\": \"Target update year. In the format YYYY\",\n",
    "                \"required\": True,\n",
    "                \"type\": \"integer\"\n",
    "            },\n",
    "            \"usage\": {\n",
    "                \"description\": \"New consumption value\",\n",
    "                \"required\": True,\n",
    "                \"type\": \"integer\"\n",
    "            }\n",
    "        }\n",
    "    }\n",
    "]"
   ]
  },
  {
   "cell_type": "markdown",
   "id": "566ff86c-e2c8-475a-833e-e0bc359c5767",
   "metadata": {
    "pycharm": {
     "name": "#%% md\n"
    }
   },
   "source": [
    "### Creating action group and attaching to the agent\n",
    "Now it's time to add this Lambda function and the function details as an action group for this agent and prepare it."
   ]
  },
  {
   "cell_type": "code",
   "execution_count": 23,
   "id": "d45c21c0-7a28-417c-a506-021a57b73596",
   "metadata": {
    "pycharm": {
     "name": "#%%\n"
    }
   },
   "outputs": [],
   "source": [
    "agents.add_action_group_with_lambda(\n",
    "    agent_name=forecast_agent_name,\n",
    "    lambda_function_name=forecast_lambda_name,\n",
    "    source_code_file=\"forecast.py\",\n",
    "    agent_functions=functions_def,\n",
    "    agent_action_group_name=\"forecast_consumption_actions\",\n",
    "    agent_action_group_description=\"Function to get usage forecast for a user \",\n",
    "    dynamo_args=dynamoDB_args\n",
    ")"
   ]
  },
  {
   "cell_type": "markdown",
   "id": "ef82aeae",
   "metadata": {
    "pycharm": {
     "name": "#%% md\n"
    }
   },
   "source": [
    "## Loading data to DynamoDB\n",
    "\n",
    "Now that we've created our agent, let's load some generated data to DynamoDB. That will allow the agent to interact with some live data to perform actions"
   ]
  },
  {
   "cell_type": "code",
   "execution_count": 24,
   "id": "d641be11",
   "metadata": {
    "pycharm": {
     "name": "#%%\n"
    }
   },
   "outputs": [],
   "source": [
    "agents.generate_fake_data_dynamodb()"
   ]
  },
  {
   "cell_type": "code",
   "execution_count": 25,
   "id": "66ba5e02",
   "metadata": {},
   "outputs": [],
   "source": [
    "with open(\"1_user_sample_data.json\") as f:\n",
    "    table_items = [json.loads(line) for line in f]\n",
    "    \n",
    "agents.load_dynamodb(dynamodb_table, table_items)"
   ]
  },
  {
   "cell_type": "markdown",
   "id": "f572c494",
   "metadata": {
    "pycharm": {
     "name": "#%% md\n"
    }
   },
   "source": [
    "Testing that data was loaded on DynamoDB"
   ]
  },
  {
   "cell_type": "code",
   "execution_count": 26,
   "id": "bec38dee",
   "metadata": {
    "pycharm": {
     "name": "#%%\n"
    }
   },
   "outputs": [
    {
     "data": {
      "text/plain": [
       "[{'customer_id': '1',\n",
       "  'kind': 'measured',\n",
       "  'sumPowerReading': '156',\n",
       "  'day': '2025/10/01'}]"
      ]
     },
     "execution_count": 26,
     "metadata": {},
     "output_type": "execute_result"
    }
   ],
   "source": [
    "today_query = f\"{curr_month.year}/{curr_month.month:02d}/01\"\n",
    "\n",
    "resp = agents.query_dynamodb(\n",
    "    dynamodb_table, dynamodb_pk, '1', dynamodb_sk, today_query\n",
    ")\n",
    "resp"
   ]
  },
  {
   "cell_type": "markdown",
   "id": "fdbc0aff",
   "metadata": {
    "pycharm": {
     "name": "#%% md\n"
    }
   },
   "source": [
    "## Testing Agent\n",
    "\n",
    "Now, let's run some tests on the agent we just created to make sure it's working. To do so we will use our test alias: `TSTALIASID` which allows you to invoke a draft version of your agent"
   ]
  },
  {
   "cell_type": "markdown",
   "id": "07836ff6-1987-4b01-bf86-b8153f2107d4",
   "metadata": {
    "pycharm": {
     "name": "#%% md\n"
    }
   },
   "source": [
    "### Testing get forecast\n",
    "First let's test the get forecast action"
   ]
  },
  {
   "cell_type": "code",
   "execution_count": 29,
   "id": "9b69a4c5",
   "metadata": {
    "pycharm": {
     "name": "#%%\n"
    }
   },
   "outputs": [
    {
     "name": "stdout",
     "output_type": "stream",
     "text": [
      "invokeAgent API request ID: 9c974c70-353b-4215-abc1-f8ab3b3ff48b\n",
      "invokeAgent API session ID: 7d55492e-ac21-11f0-8d13-16ffda0c90af\n",
      "\u001b[32m---- Step 1 ----\u001b[0m\n",
      "\u001b[33mTook 5.2s, using 2156 tokens (in: 1889, out: 267) to complete prior action, observe, orchestrate.\u001b[0m\n",
      "\u001b[34mTo answer your question comprehensively, I'll need to retrieve three sets of data:\n",
      "1. Your forecasted energy consumption for the next 3 months\n",
      "2. Your historical energy consumption\n",
      "3. Your current month's consumption statistics for comparison\n",
      "\n",
      "I'll use the functions available to gather this information simultaneously.\u001b[0m\n",
      "\u001b[35mUsing tool: get_forecasted_consumption with these inputs:\u001b[0m\n",
      "\u001b[35m[{'name': 'customer_id', 'type': 'string', 'value': '1'}]\n",
      "\u001b[0m\n",
      "\u001b[35m--tool outputs:\n",
      "[{'customer_id': '1', 'kind': 'forecasted', 'sumPowerReading': '124', 'day': '2025/11/01'}, {'customer_id': '1', 'kind': 'forecasted', 'sumPowerReading': '142', 'day': '2025/12/01'}, {'customer_id': '1', 'kind': 'forecasted', 'sumPowerReading': '164', 'day': '2026/01/01'}, {'customer_id': '1', 'kind...\n",
      "\u001b[0m\n",
      "\u001b[35mUsing tool: get_historical_consumption with these inputs:\u001b[0m\n",
      "\u001b[35m[{'name': 'customer_id', 'type': 'string', 'value': '1'}]\n",
      "\u001b[0m\n",
      "\u001b[35m--tool outputs:\n",
      "[{'customer_id': '1', 'day': '2025/06/01', 'kind': 'measured', 'sumPowerReading': '122'}, {'customer_id': '1', 'day': '2025/07/01', 'kind': 'measured', 'sumPowerReading': '192'}, {'customer_id': '1', 'day': '2025/08/01', 'kind': 'measured', 'sumPowerReading': '112'}, {'customer_id': '1', 'day': '202...\n",
      "\u001b[0m\n",
      "\u001b[35mUsing tool: get_consumption_statistics with these inputs:\u001b[0m\n",
      "\u001b[35m[{'name': 'customer_id', 'type': 'string', 'value': '1'}]\n",
      "\u001b[0m\n",
      "\u001b[35m--tool outputs:\n",
      "[{'customer_id': '1', 'kind': 'measured', 'sumPowerReading': '156', 'day': '2025/10/01'}]...\n",
      "\u001b[0m\n",
      "\u001b[31mAgent error: Your request rate is too high. Reduce the frequency of requests.\u001b[0m\n",
      "Caught exception while processing input to invokeAgent:\n",
      "\n",
      "  for input text:\n",
      "can you give me my forecasted energy consumption? \n",
      "    How does it compare with my past energy usage? My customer id is 1\n",
      "\n",
      "  on agent: EGYPPNBQRV, alias: TSTALIASID\n",
      "  request ID: 9c974c70-353b-4215-abc1-f8ab3b3ff48b, retries: 0\n",
      "\n",
      "Error: An error occurred (throttlingException) when calling the InvokeAgent operation: Your request rate is too high. Reduce the frequency of requests. Check your Bedrock model invocation quotas to find the acceptable frequency.\n"
     ]
    },
    {
     "ename": "Exception",
     "evalue": "('Unexpected exception: ', EventStreamError('An error occurred (throttlingException) when calling the InvokeAgent operation: Your request rate is too high. Reduce the frequency of requests. Check your Bedrock model invocation quotas to find the acceptable frequency.'))",
     "output_type": "error",
     "traceback": [
      "\u001b[0;31m---------------------------------------------------------------------------\u001b[0m",
      "\u001b[0;31mEventStreamError\u001b[0m                          Traceback (most recent call last)",
      "File \u001b[0;32m~/SageMaker/cmp-bedrock-multi-agents-collaboration-lab/1-energy-forecast/../utils/bedrock_agent_helper.py:1527\u001b[0m, in \u001b[0;36mAgentsForAmazonBedrock.invoke\u001b[0;34m(self, input_text, agent_id, agent_alias_id, session_id, session_state, enable_trace, end_session, trace_level, multi_agent_names)\u001b[0m\n\u001b[1;32m   1526\u001b[0m _sub_agent_name \u001b[38;5;241m=\u001b[39m \u001b[38;5;124m\"\u001b[39m\u001b[38;5;124m<collab-name-not-yet-provided>\u001b[39m\u001b[38;5;124m\"\u001b[39m\n\u001b[0;32m-> 1527\u001b[0m \u001b[38;5;28;01mfor\u001b[39;00m _event \u001b[38;5;129;01min\u001b[39;00m _event_stream: \n\u001b[1;32m   1528\u001b[0m     _sub_agent_alias_id \u001b[38;5;241m=\u001b[39m \u001b[38;5;28;01mNone\u001b[39;00m \n",
      "File \u001b[0;32m~/anaconda3/envs/python3/lib/python3.10/site-packages/botocore/eventstream.py:592\u001b[0m, in \u001b[0;36mEventStream.__iter__\u001b[0;34m(self)\u001b[0m\n\u001b[1;32m    591\u001b[0m \u001b[38;5;28;01mfor\u001b[39;00m event \u001b[38;5;129;01min\u001b[39;00m \u001b[38;5;28mself\u001b[39m\u001b[38;5;241m.\u001b[39m_event_generator:\n\u001b[0;32m--> 592\u001b[0m     parsed_event \u001b[38;5;241m=\u001b[39m \u001b[38;5;28;43mself\u001b[39;49m\u001b[38;5;241;43m.\u001b[39;49m\u001b[43m_parse_event\u001b[49m\u001b[43m(\u001b[49m\u001b[43mevent\u001b[49m\u001b[43m)\u001b[49m\n\u001b[1;32m    593\u001b[0m     \u001b[38;5;28;01mif\u001b[39;00m parsed_event:\n",
      "File \u001b[0;32m~/anaconda3/envs/python3/lib/python3.10/site-packages/botocore/eventstream.py:608\u001b[0m, in \u001b[0;36mEventStream._parse_event\u001b[0;34m(self, event)\u001b[0m\n\u001b[1;32m    607\u001b[0m \u001b[38;5;28;01melse\u001b[39;00m:\n\u001b[0;32m--> 608\u001b[0m     \u001b[38;5;28;01mraise\u001b[39;00m EventStreamError(parsed_response, \u001b[38;5;28mself\u001b[39m\u001b[38;5;241m.\u001b[39m_operation_name)\n",
      "\u001b[0;31mEventStreamError\u001b[0m: An error occurred (throttlingException) when calling the InvokeAgent operation: Your request rate is too high. Reduce the frequency of requests. Check your Bedrock model invocation quotas to find the acceptable frequency.",
      "\nDuring handling of the above exception, another exception occurred:\n",
      "\u001b[0;31mException\u001b[0m                                 Traceback (most recent call last)",
      "File \u001b[0;32m<timed exec>:1\u001b[0m\n",
      "File \u001b[0;32m~/SageMaker/cmp-bedrock-multi-agents-collaboration-lab/1-energy-forecast/../utils/bedrock_agent_helper.py:1784\u001b[0m, in \u001b[0;36mAgentsForAmazonBedrock.invoke\u001b[0;34m(self, input_text, agent_id, agent_alias_id, session_id, session_state, enable_trace, end_session, trace_level, multi_agent_names)\u001b[0m\n\u001b[1;32m   1782\u001b[0m \u001b[38;5;28mprint\u001b[39m(\u001b[38;5;124mf\u001b[39m\u001b[38;5;124m\"\u001b[39m\u001b[38;5;124m  request ID: \u001b[39m\u001b[38;5;132;01m{\u001b[39;00m_agent_resp[\u001b[38;5;124m'\u001b[39m\u001b[38;5;124mResponseMetadata\u001b[39m\u001b[38;5;124m'\u001b[39m][\u001b[38;5;124m'\u001b[39m\u001b[38;5;124mRequestId\u001b[39m\u001b[38;5;124m'\u001b[39m]\u001b[38;5;132;01m}\u001b[39;00m\u001b[38;5;124m, retries: \u001b[39m\u001b[38;5;132;01m{\u001b[39;00m_agent_resp[\u001b[38;5;124m'\u001b[39m\u001b[38;5;124mResponseMetadata\u001b[39m\u001b[38;5;124m'\u001b[39m][\u001b[38;5;124m'\u001b[39m\u001b[38;5;124mRetryAttempts\u001b[39m\u001b[38;5;124m'\u001b[39m]\u001b[38;5;132;01m}\u001b[39;00m\u001b[38;5;130;01m\\n\u001b[39;00m\u001b[38;5;124m\"\u001b[39m)\n\u001b[1;32m   1783\u001b[0m \u001b[38;5;28mprint\u001b[39m(\u001b[38;5;124mf\u001b[39m\u001b[38;5;124m\"\u001b[39m\u001b[38;5;124mError: \u001b[39m\u001b[38;5;132;01m{\u001b[39;00me\u001b[38;5;132;01m}\u001b[39;00m\u001b[38;5;124m\"\u001b[39m)\n\u001b[0;32m-> 1784\u001b[0m \u001b[38;5;28;01mraise\u001b[39;00m \u001b[38;5;167;01mException\u001b[39;00m(\u001b[38;5;124m\"\u001b[39m\u001b[38;5;124mUnexpected exception: \u001b[39m\u001b[38;5;124m\"\u001b[39m, e)\n",
      "\u001b[0;31mException\u001b[0m: ('Unexpected exception: ', EventStreamError('An error occurred (throttlingException) when calling the InvokeAgent operation: Your request rate is too high. Reduce the frequency of requests. Check your Bedrock model invocation quotas to find the acceptable frequency.'))"
     ]
    }
   ],
   "source": [
    "%%time\n",
    "response = agents.invoke(\n",
    "    \"\"\"can you give me my forecasted energy consumption? \n",
    "    How does it compare with my past energy usage? My customer id is 1\"\"\", \n",
    "    forecast_agent[0], enable_trace=True\n",
    ")\n",
    "print(\"====================\")\n",
    "print(response)"
   ]
  },
  {
   "cell_type": "code",
   "execution_count": 36,
   "id": "b5cedc7c-6da5-4bb6-98aa-5973918e8da4",
   "metadata": {},
   "outputs": [],
   "source": [
    "time.sleep(60)"
   ]
  },
  {
   "cell_type": "markdown",
   "id": "c6ccede9-9257-4935-b71e-8989f1614416",
   "metadata": {
    "pycharm": {
     "name": "#%% md\n"
    }
   },
   "source": [
    "### Testing get historical consumption\n",
    "Now we can test the historical energy consumption and also use code interpretation calculate the average energy spending in summer months"
   ]
  },
  {
   "cell_type": "code",
   "execution_count": 37,
   "id": "47f04a92",
   "metadata": {
    "pycharm": {
     "name": "#%%\n"
    }
   },
   "outputs": [
    {
     "name": "stdout",
     "output_type": "stream",
     "text": [
      "invokeAgent API request ID: f26ded17-c8d5-4ace-8677-40d173326522\n",
      "invokeAgent API session ID: 7d55492e-ac21-11f0-8d13-16ffda0c90af\n",
      "\u001b[32m---- Step 1 ----\u001b[0m\n",
      "\u001b[33mTook 5.4s, using 2120 tokens (in: 1884, out: 236) to complete prior action, observe, orchestrate.\u001b[0m\n",
      "\u001b[34mTo answer your questions, I'll need to retrieve your historical consumption data and then analyze it to calculate your average spending during summer months. I'll use the following functions:\n",
      "1. get_historical_consumption to fetch your past energy consumption\n",
      "2. get_consumption_statistics to get current month's usage analytics, which might provide additional insights\n",
      "\n",
      "I'll call both functions simultaneously to optimize the process.\u001b[0m\n",
      "\u001b[35mUsing tool: get_historical_consumption with these inputs:\u001b[0m\n",
      "\u001b[35m[{'name': 'customer_id', 'type': 'string', 'value': '1'}]\n",
      "\u001b[0m\n",
      "\u001b[35m--tool outputs:\n",
      "[{'customer_id': '1', 'kind': 'measured', 'sumPowerReading': '122', 'day': '2025/06/01'}, {'customer_id': '1', 'kind': 'measured', 'sumPowerReading': '192', 'day': '2025/07/01'}, {'customer_id': '1', 'kind': 'measured', 'sumPowerReading': '112', 'day': '2025/08/01'}, {'customer_id': '1', 'kind': 'me...\n",
      "\u001b[0m\n",
      "\u001b[35mUsing tool: get_consumption_statistics with these inputs:\u001b[0m\n",
      "\u001b[35m[{'name': 'customer_id', 'type': 'string', 'value': '1'}]\n",
      "\u001b[0m\n",
      "\u001b[35m--tool outputs:\n",
      "[{'customer_id': '1', 'day': '2025/10/01', 'kind': 'measured', 'sumPowerReading': '156'}]...\n",
      "\u001b[0m\n",
      "\u001b[31mAgent error: Your request rate is too high. Reduce the frequency of requests.\u001b[0m\n",
      "Caught exception while processing input to invokeAgent:\n",
      "\n",
      "  for input text:\n",
      "can you give me my past energy consumption? What is my average spending on summer months? My customer id is 1\n",
      "\n",
      "  on agent: EGYPPNBQRV, alias: TSTALIASID\n",
      "  request ID: f26ded17-c8d5-4ace-8677-40d173326522, retries: 0\n",
      "\n",
      "Error: An error occurred (throttlingException) when calling the InvokeAgent operation: Your request rate is too high. Reduce the frequency of requests. Check your Bedrock model invocation quotas to find the acceptable frequency.\n"
     ]
    },
    {
     "ename": "Exception",
     "evalue": "('Unexpected exception: ', EventStreamError('An error occurred (throttlingException) when calling the InvokeAgent operation: Your request rate is too high. Reduce the frequency of requests. Check your Bedrock model invocation quotas to find the acceptable frequency.'))",
     "output_type": "error",
     "traceback": [
      "\u001b[0;31m---------------------------------------------------------------------------\u001b[0m",
      "\u001b[0;31mEventStreamError\u001b[0m                          Traceback (most recent call last)",
      "File \u001b[0;32m~/SageMaker/cmp-bedrock-multi-agents-collaboration-lab/1-energy-forecast/../utils/bedrock_agent_helper.py:1527\u001b[0m, in \u001b[0;36mAgentsForAmazonBedrock.invoke\u001b[0;34m(self, input_text, agent_id, agent_alias_id, session_id, session_state, enable_trace, end_session, trace_level, multi_agent_names)\u001b[0m\n\u001b[1;32m   1526\u001b[0m _sub_agent_name \u001b[38;5;241m=\u001b[39m \u001b[38;5;124m\"\u001b[39m\u001b[38;5;124m<collab-name-not-yet-provided>\u001b[39m\u001b[38;5;124m\"\u001b[39m\n\u001b[0;32m-> 1527\u001b[0m \u001b[38;5;28;01mfor\u001b[39;00m _event \u001b[38;5;129;01min\u001b[39;00m _event_stream: \n\u001b[1;32m   1528\u001b[0m     _sub_agent_alias_id \u001b[38;5;241m=\u001b[39m \u001b[38;5;28;01mNone\u001b[39;00m \n",
      "File \u001b[0;32m~/anaconda3/envs/python3/lib/python3.10/site-packages/botocore/eventstream.py:592\u001b[0m, in \u001b[0;36mEventStream.__iter__\u001b[0;34m(self)\u001b[0m\n\u001b[1;32m    591\u001b[0m \u001b[38;5;28;01mfor\u001b[39;00m event \u001b[38;5;129;01min\u001b[39;00m \u001b[38;5;28mself\u001b[39m\u001b[38;5;241m.\u001b[39m_event_generator:\n\u001b[0;32m--> 592\u001b[0m     parsed_event \u001b[38;5;241m=\u001b[39m \u001b[38;5;28;43mself\u001b[39;49m\u001b[38;5;241;43m.\u001b[39;49m\u001b[43m_parse_event\u001b[49m\u001b[43m(\u001b[49m\u001b[43mevent\u001b[49m\u001b[43m)\u001b[49m\n\u001b[1;32m    593\u001b[0m     \u001b[38;5;28;01mif\u001b[39;00m parsed_event:\n",
      "File \u001b[0;32m~/anaconda3/envs/python3/lib/python3.10/site-packages/botocore/eventstream.py:608\u001b[0m, in \u001b[0;36mEventStream._parse_event\u001b[0;34m(self, event)\u001b[0m\n\u001b[1;32m    607\u001b[0m \u001b[38;5;28;01melse\u001b[39;00m:\n\u001b[0;32m--> 608\u001b[0m     \u001b[38;5;28;01mraise\u001b[39;00m EventStreamError(parsed_response, \u001b[38;5;28mself\u001b[39m\u001b[38;5;241m.\u001b[39m_operation_name)\n",
      "\u001b[0;31mEventStreamError\u001b[0m: An error occurred (throttlingException) when calling the InvokeAgent operation: Your request rate is too high. Reduce the frequency of requests. Check your Bedrock model invocation quotas to find the acceptable frequency.",
      "\nDuring handling of the above exception, another exception occurred:\n",
      "\u001b[0;31mException\u001b[0m                                 Traceback (most recent call last)",
      "File \u001b[0;32m<timed exec>:1\u001b[0m\n",
      "File \u001b[0;32m~/SageMaker/cmp-bedrock-multi-agents-collaboration-lab/1-energy-forecast/../utils/bedrock_agent_helper.py:1784\u001b[0m, in \u001b[0;36mAgentsForAmazonBedrock.invoke\u001b[0;34m(self, input_text, agent_id, agent_alias_id, session_id, session_state, enable_trace, end_session, trace_level, multi_agent_names)\u001b[0m\n\u001b[1;32m   1782\u001b[0m \u001b[38;5;28mprint\u001b[39m(\u001b[38;5;124mf\u001b[39m\u001b[38;5;124m\"\u001b[39m\u001b[38;5;124m  request ID: \u001b[39m\u001b[38;5;132;01m{\u001b[39;00m_agent_resp[\u001b[38;5;124m'\u001b[39m\u001b[38;5;124mResponseMetadata\u001b[39m\u001b[38;5;124m'\u001b[39m][\u001b[38;5;124m'\u001b[39m\u001b[38;5;124mRequestId\u001b[39m\u001b[38;5;124m'\u001b[39m]\u001b[38;5;132;01m}\u001b[39;00m\u001b[38;5;124m, retries: \u001b[39m\u001b[38;5;132;01m{\u001b[39;00m_agent_resp[\u001b[38;5;124m'\u001b[39m\u001b[38;5;124mResponseMetadata\u001b[39m\u001b[38;5;124m'\u001b[39m][\u001b[38;5;124m'\u001b[39m\u001b[38;5;124mRetryAttempts\u001b[39m\u001b[38;5;124m'\u001b[39m]\u001b[38;5;132;01m}\u001b[39;00m\u001b[38;5;130;01m\\n\u001b[39;00m\u001b[38;5;124m\"\u001b[39m)\n\u001b[1;32m   1783\u001b[0m \u001b[38;5;28mprint\u001b[39m(\u001b[38;5;124mf\u001b[39m\u001b[38;5;124m\"\u001b[39m\u001b[38;5;124mError: \u001b[39m\u001b[38;5;132;01m{\u001b[39;00me\u001b[38;5;132;01m}\u001b[39;00m\u001b[38;5;124m\"\u001b[39m)\n\u001b[0;32m-> 1784\u001b[0m \u001b[38;5;28;01mraise\u001b[39;00m \u001b[38;5;167;01mException\u001b[39;00m(\u001b[38;5;124m\"\u001b[39m\u001b[38;5;124mUnexpected exception: \u001b[39m\u001b[38;5;124m\"\u001b[39m, e)\n",
      "\u001b[0;31mException\u001b[0m: ('Unexpected exception: ', EventStreamError('An error occurred (throttlingException) when calling the InvokeAgent operation: Your request rate is too high. Reduce the frequency of requests. Check your Bedrock model invocation quotas to find the acceptable frequency.'))"
     ]
    }
   ],
   "source": [
    "%%time\n",
    "response = agents.invoke(\n",
    "    \"can you give me my past energy consumption? What is my average spending on summer months? My customer id is 1\", \n",
    "    forecast_agent[0], enable_trace=True\n",
    ")\n",
    "print(\"====================\")\n",
    "print(response)"
   ]
  },
  {
   "cell_type": "code",
   "execution_count": 38,
   "id": "9766b8af-eba8-4d23-a02b-d486fad0ca6e",
   "metadata": {},
   "outputs": [],
   "source": [
    "time.sleep(60)"
   ]
  },
  {
   "cell_type": "code",
   "execution_count": 39,
   "id": "35a74a13",
   "metadata": {},
   "outputs": [
    {
     "data": {
      "text/plain": [
       "'EGYPPNBQRV'"
      ]
     },
     "execution_count": 39,
     "metadata": {},
     "output_type": "execute_result"
    }
   ],
   "source": [
    "forecast_agent[0]"
   ]
  },
  {
   "cell_type": "markdown",
   "id": "fc24cbce-8b91-40cd-990e-12708c493f10",
   "metadata": {
    "pycharm": {
     "name": "#%% md\n"
    }
   },
   "source": [
    "### Testing knowledge base access\n",
    "Now let's check the knowledge base access by asking a question about the forecasting algorithm"
   ]
  },
  {
   "cell_type": "code",
   "execution_count": null,
   "id": "585a9740",
   "metadata": {
    "pycharm": {
     "name": "#%%\n"
    }
   },
   "outputs": [],
   "source": [
    "%%time\n",
    "response = agents.invoke(\n",
    "    \"What's algorithm used for forecast?\", \n",
    "    forecast_agent[0], enable_trace=True\n",
    ")\n",
    "print(\"====================\")\n",
    "print(response)"
   ]
  },
  {
   "cell_type": "code",
   "execution_count": null,
   "id": "2c3192fc-a835-4808-8039-ae97206e1d18",
   "metadata": {},
   "outputs": [],
   "source": [
    "time.sleep(60)"
   ]
  },
  {
   "cell_type": "markdown",
   "id": "af8c67e4-ceb4-4888-b867-a5fd641407c3",
   "metadata": {
    "pycharm": {
     "name": "#%% md\n"
    }
   },
   "source": [
    "### Testing forecast update\n",
    "Now we can test the functionality to update the expected forecasting"
   ]
  },
  {
   "cell_type": "code",
   "execution_count": null,
   "id": "c8af8180",
   "metadata": {
    "pycharm": {
     "name": "#%%\n"
    }
   },
   "outputs": [],
   "source": [
    "%%time\n",
    "\n",
    "future_2m = curr_month + relativedelta(months=2)\n",
    "future_2m_formatted = future_2m.strftime(\"%Y/%m\")\n",
    "\n",
    "response = agents.invoke(\n",
    "    f\"Can you update my forecast for month {future_2m_formatted}? I will be travelling and my estimate will be 50. My id is 1\", \n",
    "    forecast_agent[0], enable_trace=True\n",
    ")\n",
    "print(\"====================\")\n",
    "print(response)"
   ]
  },
  {
   "cell_type": "code",
   "execution_count": null,
   "id": "668987d0-6db0-45e5-8915-e7b636987e9f",
   "metadata": {},
   "outputs": [],
   "source": [
    "time.sleep(60)"
   ]
  },
  {
   "cell_type": "markdown",
   "id": "25cc200c-8cd2-4724-8e16-44178dfff2a8",
   "metadata": {
    "pycharm": {
     "name": "#%% md\n"
    }
   },
   "source": [
    "### Confirming that forecast was updated\n",
    "After updating our forecast, let's check that the forecast was updated and plot a new graph"
   ]
  },
  {
   "cell_type": "code",
   "execution_count": null,
   "id": "e75960bb-86a4-45db-9893-f82da30f701c",
   "metadata": {
    "pycharm": {
     "name": "#%%\n"
    }
   },
   "outputs": [],
   "source": [
    "%%time\n",
    "response = agents.invoke(\n",
    "    \"Can you give me my forecasted energy consumption month by month? My id is 1\", \n",
    "    forecast_agent[0], enable_trace=True\n",
    ")\n",
    "print(\"====================\")\n",
    "print(response)"
   ]
  },
  {
   "cell_type": "code",
   "execution_count": null,
   "id": "55b89c9a-2e6d-44fc-88d0-eb76f436ce06",
   "metadata": {},
   "outputs": [],
   "source": [
    "time.sleep(60)"
   ]
  },
  {
   "cell_type": "markdown",
   "id": "97716d35-2f0e-4ae0-8d98-a4cb1e5ea185",
   "metadata": {
    "pycharm": {
     "name": "#%% md\n"
    }
   },
   "source": [
    "### Testing forecasting statistics\n",
    "Finally, let's test the get stats functionality"
   ]
  },
  {
   "cell_type": "code",
   "execution_count": null,
   "id": "257bc8f0",
   "metadata": {
    "pycharm": {
     "name": "#%%\n"
    }
   },
   "outputs": [],
   "source": [
    "%%time\n",
    "response = agents.invoke(\n",
    "    \"can you give me my current consumption? My id is 1\", \n",
    "    forecast_agent[0], enable_trace=True\n",
    ")\n",
    "print(\"====================\")\n",
    "print(response)"
   ]
  },
  {
   "cell_type": "markdown",
   "id": "cc56c1bf-579f-4337-8352-0903da21ed80",
   "metadata": {
    "pycharm": {
     "name": "#%% md\n"
    }
   },
   "source": [
    "## Create alias\n",
    "\n",
    "As you can see, you can use your agent with the `TSTALIASID` to complete tasks. \n",
    "However, for multi-agents collaboration it is expected that you first test your agent and only use it once it is fully functional. \n",
    "Therefore to use an agent as a sub-agent in a multi-agent collaboration you first need to create an agent alias and connect it to a new version. \n",
    "\n",
    "Since we've tested and validated our agent, let's now create an alias for it:"
   ]
  },
  {
   "cell_type": "code",
   "execution_count": 41,
   "id": "eec0d1ca",
   "metadata": {
    "pycharm": {
     "name": "#%%\n"
    }
   },
   "outputs": [],
   "source": [
    "forecast_agent_alias_id, forecast_agent_alias_arn = agents.create_agent_alias(\n",
    "    forecast_agent[0], 'v1'\n",
    ")"
   ]
  },
  {
   "cell_type": "markdown",
   "id": "29db93eb-9a51-48d2-a6ae-a31b7b5ddde1",
   "metadata": {
    "pycharm": {
     "name": "#%% md\n"
    }
   },
   "source": [
    "## Saving information\n",
    "Let's store some environment variables to be used on our next notebooks."
   ]
  },
  {
   "cell_type": "code",
   "execution_count": 42,
   "id": "66d40844-c72b-4114-8415-8cefbe65ebb1",
   "metadata": {
    "pycharm": {
     "name": "#%%\n"
    }
   },
   "outputs": [
    {
     "name": "stdout",
     "output_type": "stream",
     "text": [
      "Stored 'forecast_agent_arn' (str)\n",
      "Stored 'forecast_agent_alias_arn' (str)\n",
      "Stored 'forecast_agent_alias_id' (str)\n",
      "Stored 'forecast_lambda_name' (str)\n",
      "Stored 'forecast_agent_name' (str)\n",
      "Stored 'forecast_agent_id' (str)\n",
      "Stored 'forecast_kb' (str)\n",
      "Stored 'forecast_dynamodb' (str)\n"
     ]
    }
   ],
   "source": [
    "forecast_agent_arn = agents.get_agent_arn_by_name(forecast_agent_name)\n",
    "forecast_agent_id = forecast_agent[0]\n",
    "forecast_kb = knowledge_base_name\n",
    "forecast_dynamodb = dynamodb_table\n",
    "\n",
    "%store forecast_agent_arn\n",
    "%store forecast_agent_alias_arn\n",
    "%store forecast_agent_alias_id\n",
    "%store forecast_lambda_name\n",
    "%store forecast_agent_name\n",
    "%store forecast_agent_id\n",
    "%store forecast_kb\n",
    "%store forecast_dynamodb"
   ]
  },
  {
   "cell_type": "code",
   "execution_count": 43,
   "id": "99986c91",
   "metadata": {
    "pycharm": {
     "name": "#%%\n"
    }
   },
   "outputs": [
    {
     "data": {
      "text/plain": [
       "('arn:aws:bedrock:us-east-1:833005555478:agent/EGYPPNBQRV',\n",
       " 'arn:aws:bedrock:us-east-1:833005555478:agent-alias/EGYPPNBQRV/I1KJYFXMQJ',\n",
       " 'I1KJYFXMQJ')"
      ]
     },
     "execution_count": 43,
     "metadata": {},
     "output_type": "execute_result"
    }
   ],
   "source": [
    "forecast_agent_arn, forecast_agent_alias_arn, forecast_agent_alias_id"
   ]
  },
  {
   "cell_type": "markdown",
   "id": "3453da42-a05c-421d-944e-281d056bdf43",
   "metadata": {
    "pycharm": {
     "name": "#%% md\n"
    }
   },
   "source": [
    "## Next Steps\n",
    "Congratulations! We've now created a forecasting agent. Next we will create our solar panel agent"
   ]
  }
 ],
 "metadata": {
  "kernelspec": {
   "display_name": "conda_python3",
   "language": "python",
   "name": "conda_python3"
  },
  "language_info": {
   "codemirror_mode": {
    "name": "ipython",
    "version": 3
   },
   "file_extension": ".py",
   "mimetype": "text/x-python",
   "name": "python",
   "nbconvert_exporter": "python",
   "pygments_lexer": "ipython3",
   "version": "3.10.18"
  }
 },
 "nbformat": 4,
 "nbformat_minor": 5
}
