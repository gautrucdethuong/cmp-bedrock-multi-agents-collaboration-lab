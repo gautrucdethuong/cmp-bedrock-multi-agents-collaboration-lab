{
 "cells": [
  {
   "cell_type": "markdown",
   "id": "fb8d63a2-913e-498a-a01a-5e66a39bf3e7",
   "metadata": {
    "pycharm": {
     "name": "#%% md\n"
    }
   },
   "source": [
    "# Lab 2. Solar Panel Instructions"
   ]
  },
  {
   "cell_type": "markdown",
   "id": "63678eaa-8830-4cbe-94af-5ebd8b0e03e0",
   "metadata": {
    "pycharm": {
     "name": "#%% md\n"
    }
   },
   "source": [
    "## Introduction\n",
    "\n",
    "In this notebook we show you how to create your second sub-agent on Amazon Bedrock Agents.\n",
    "\n",
    "This agent contains instructions on how to install and to do maintenance on Solar Panels, where customers can ask the agent to return these information from an [Amazon Bedrock Knowledge Base](https://aws.amazon.com/bedrock/knowledge-bases/).\n",
    "\n",
    "To equip foundation models (FMs) with up-to-date and proprietary information, organizations use Retrieval Augmented Generation (RAG), a technique that fetches data from company data sources and enriches the prompt to provide more relevant and accurate responses. \n",
    "\n",
    "Amazon Bedrock Knowledge Bases is Bedrock's fully managed capability that helps you implement the entire RAG workflow from ingestion to retrieval and prompt augmentation without having to build custom integrations to data sources and manage data flows.\n",
    "\n",
    "In the context of our agent, if the answer to a question is not present on the Knowledge Base, customers can ask agent to create a support ticket, to get a human in the loop to help with their questions.\n",
    "\n",
    "The following represents the piece of architecture that will be built on this module.\n",
    "\n",
    "![Architecture](img/solar_panel_agent.png)"
   ]
  },
  {
   "cell_type": "markdown",
   "id": "b3ba49fa-3293-4ea6-8dee-fb9f410c6481",
   "metadata": {
    "pycharm": {
     "name": "#%% md\n"
    }
   },
   "source": [
    "## Setup"
   ]
  },
  {
   "cell_type": "markdown",
   "id": "7b76edd4",
   "metadata": {
    "pycharm": {
     "name": "#%% md\n"
    }
   },
   "source": [
    "Make sure that your boto3 version is the latest\n",
    "\n",
    "If not, return to [notebook 1](../1-energy-forecast/1_forecasting_agent.ipynb) and run the Setup block again."
   ]
  },
  {
   "cell_type": "code",
   "execution_count": 1,
   "id": "20b72889",
   "metadata": {
    "pycharm": {
     "name": "#%%\n"
    }
   },
   "outputs": [
    {
     "name": "stdout",
     "output_type": "stream",
     "text": [
      "boto3==1.40.55\n"
     ]
    }
   ],
   "source": [
    "!pip freeze | grep boto3"
   ]
  },
  {
   "cell_type": "markdown",
   "id": "0ebbad5c",
   "metadata": {},
   "source": [
    "Get your workshop ID / resource suffix. If not found, return to [notebook 1](../1-energy-forecast/1_forecasting_agent.ipynb) and run the Setup block again."
   ]
  },
  {
   "cell_type": "code",
   "execution_count": 2,
   "id": "c019569b",
   "metadata": {},
   "outputs": [
    {
     "name": "stdout",
     "output_type": "stream",
     "text": [
      "Your resource suffix is 7eb12cba\n"
     ]
    }
   ],
   "source": [
    "import os\n",
    "\n",
    "def get_workshop_id():\n",
    "    workshop_id_file = '../.workshop_id'\n",
    "    if os.path.exists(workshop_id_file):\n",
    "        with open(workshop_id_file, 'r') as f:\n",
    "            return f.read().strip()\n",
    "    else:\n",
    "        return None\n",
    "    \n",
    "workshop_id = get_workshop_id()\n",
    "resource_suffix = f\"{workshop_id}\"\n",
    "\n",
    "if workshop_id is None:\n",
    "    print(\"No workshop ID found. Please run the Setup script in notebook 1.\")\n",
    "else:\n",
    "    print(\"Your resource suffix is\", resource_suffix)"
   ]
  },
  {
   "cell_type": "markdown",
   "id": "ccf37dd5-bfaf-4563-a6ad-f9d7637c6e43",
   "metadata": {
    "pycharm": {
     "name": "#%% md\n"
    }
   },
   "source": [
    "## Creating Agent\n",
    "\n",
    "On this section we declare global variables that will be act as helpers during entire notebook and we will start to create out second agent."
   ]
  },
  {
   "cell_type": "code",
   "execution_count": 3,
   "id": "277a742a-5f17-4dfc-ac36-1b70ce8f4f7d",
   "metadata": {
    "pycharm": {
     "name": "#%%\n"
    }
   },
   "outputs": [],
   "source": [
    "import boto3\n",
    "import os\n",
    "\n",
    "sts_client = boto3.client('sts')\n",
    "session = boto3.session.Session()\n",
    "\n",
    "account_id = sts_client.get_caller_identity()[\"Account\"]\n",
    "region = session.region_name\n",
    "s3_client = boto3.client('s3', region)\n",
    "bedrock_client = boto3.client('bedrock-runtime', region)\n",
    "\n",
    "agent_foundation_model = [\n",
    "    'anthropic.claude-3-sonnet-20240229-v1:0',\n",
    "    'anthropic.claude-3-haiku-20240307-v1:0',\n",
    "    'anthropic.claude-3-5-sonnet-20240620-v1:0'\n",
    "]"
   ]
  },
  {
   "cell_type": "code",
   "execution_count": 4,
   "id": "a27cc6c8-4faa-4adc-90c8-7ace112877e1",
   "metadata": {
    "pycharm": {
     "name": "#%%\n"
    }
   },
   "outputs": [],
   "source": [
    "solar_agent_name = f\"solar-p-{resource_suffix}\"\n",
    "\n",
    "solar_lambda_name = f\"fn-solar-p-{resource_suffix}\"\n",
    "\n",
    "solar_agent_role_name = f'AmazonBedrockExecutionRoleForAgents_{solar_agent_name}'\n",
    "\n",
    "dynamodb_table = f\"{solar_agent_name}-table\"\n",
    "dynamodb_pk = \"customer_id\"\n",
    "dynamodb_sk = \"ticket_id\"\n",
    "\n",
    "dynamoDB_args = [dynamodb_table, dynamodb_pk, dynamodb_sk]\n",
    "\n",
    "knowledge_base_name = f'{solar_agent_name}-kb'\n",
    "\n",
    "knowledge_base_description = \"KB containing solar panel instructions for installation and maintenance\"\n",
    "bucket_name = f'solar-p-kb-{account_id}-{resource_suffix}'"
   ]
  },
  {
   "cell_type": "markdown",
   "id": "5b41a37c",
   "metadata": {
    "pycharm": {
     "name": "#%% md\n"
    }
   },
   "source": [
    "### Importing helper functions\n",
    "\n",
    "In the following section, we're adding `bedrock_agent_helper.py` and `knowledge_base_helper` on Python path, so the files can be recognized and their functionalities can be invoked.\n",
    "\n",
    "Now, you're going to import from helper classes `bedrock_agent_helper.py` and `knowledge_base_helper.py`.\n",
    " \n",
    "Those files contain helper classes totally focused on make labs experience smoothly. \n",
    "\n",
    "All interactions with Bedrock will be handled by these classes.\n",
    "\n",
    "Following are methods that you're going to invoke on this lab:\n",
    "\n",
    "In `agents.py`:\n",
    "- `create_agent`: Create a new agent and respective IAM roles\n",
    "- `add_action_group_with_lambda`: Create a lambda function and add it as an action group for a previous created agent\n",
    "- `create_agent_alias`: Create an alias for this agent\n",
    "- `invoke`: Execute agent\n",
    "\n",
    "In `knowledge_bases.py`:\n",
    "- `create_or_retrieve_knowledge_base`: Create Knowledge Base on Amazon Bedrock if it doesn't exist or get info about previous created.\n",
    "- `synchronize_data`: Read files on S3, convert text info into vectors and add that information on Vector Database."
   ]
  },
  {
   "cell_type": "code",
   "execution_count": 5,
   "id": "de912e83-e8c1-4bd7-adb7-9ad232e13b56",
   "metadata": {
    "pycharm": {
     "name": "#%%\n"
    }
   },
   "outputs": [],
   "source": [
    "import sys\n",
    "\n",
    "sys.path.insert(0, \".\")\n",
    "sys.path.insert(1, \"..\")\n",
    "\n",
    "from utils.bedrock_agent_helper import (\n",
    "    AgentsForAmazonBedrock\n",
    ")\n",
    "from utils.knowledge_base_helper import (\n",
    "    KnowledgeBasesForAmazonBedrock\n",
    ")\n",
    "agents = AgentsForAmazonBedrock()\n",
    "kb = KnowledgeBasesForAmazonBedrock()"
   ]
  },
  {
   "cell_type": "markdown",
   "id": "f455fe28",
   "metadata": {
    "pycharm": {
     "name": "#%% md\n"
    }
   },
   "source": [
    "## Create and Load Knowledge Base\n",
    "\n",
    "In this section, you're going to create a Amazon Bedrock Knowledge Base and ingest data on it.\n",
    "\n",
    "In the next steps we will generate the data used to populate the knowledge base. It will be composed of instructions on how to handle a solar panel\n",
    "\n",
    "**This creation process takes several minutes.**"
   ]
  },
  {
   "cell_type": "code",
   "execution_count": 6,
   "id": "040e3a76",
   "metadata": {
    "pycharm": {
     "name": "#%%\n"
    }
   },
   "outputs": [
    {
     "name": "stdout",
     "output_type": "stream",
     "text": [
      "Creating KB solar-p-7eb12cba-kb\n",
      "========================================================================================\n",
      "Step 1 - Creating or retrieving solar-p-kb-833005555478-7eb12cba S3 bucket for Knowledge Base documents\n",
      "Creating bucket solar-p-kb-833005555478-7eb12cba\n",
      "========================================================================================\n",
      "Step 2 - Creating Knowledge Base Execution Role (AmazonBedrockExecutionRoleForKnowledgeBase_774) and Policies\n",
      "========================================================================================\n",
      "Step 3 - Creating OSS encryption, network and data access policies\n",
      "========================================================================================\n",
      "Step 4 - Creating OSS Collection (this step takes a couple of minutes to complete)\n",
      "{ 'ResponseMetadata': { 'HTTPHeaders': { 'connection': 'keep-alive',\n",
      "                                         'content-length': '315',\n",
      "                                         'content-type': 'application/x-amz-json-1.0',\n",
      "                                         'date': 'Sat, 18 Oct 2025 14:28:24 '\n",
      "                                                 'GMT',\n",
      "                                         'x-amzn-requestid': '43d0de2e-513b-408e-9631-cc2bbca67a42'},\n",
      "                        'HTTPStatusCode': 200,\n",
      "                        'RequestId': '43d0de2e-513b-408e-9631-cc2bbca67a42',\n",
      "                        'RetryAttempts': 0},\n",
      "  'createCollectionDetail': { 'arn': 'arn:aws:aoss:us-east-1:833005555478:collection/90xalcjlbb56xayl7xc3',\n",
      "                              'createdDate': 1760797704262,\n",
      "                              'id': '90xalcjlbb56xayl7xc3',\n",
      "                              'kmsKeyArn': 'auto',\n",
      "                              'lastModifiedDate': 1760797704262,\n",
      "                              'name': 'solar-p-7eb12cba-kb-774',\n",
      "                              'standbyReplicas': 'ENABLED',\n",
      "                              'status': 'CREATING',\n",
      "                              'type': 'VECTORSEARCH'}}\n",
      "90xalcjlbb56xayl7xc3.us-east-1.aoss.amazonaws.com\n",
      "Creating collection...\n",
      "..............................\n",
      "Collection successfully created:\n",
      "[ { 'arn': 'arn:aws:aoss:us-east-1:833005555478:collection/90xalcjlbb56xayl7xc3',\n",
      "    'collectionEndpoint': 'https://90xalcjlbb56xayl7xc3.us-east-1.aoss.amazonaws.com',\n",
      "    'createdDate': 1760797704262,\n",
      "    'dashboardEndpoint': 'https://90xalcjlbb56xayl7xc3.us-east-1.aoss.amazonaws.com/_dashboards',\n",
      "    'fipsEndpoints': { 'collectionEndpoint': 'https://90xalcjlbb56xayl7xc3.us-east-1.aoss-fips.amazonaws.com',\n",
      "                       'dashboardEndpoint': 'https://90xalcjlbb56xayl7xc3.us-east-1.aoss-fips.amazonaws.com/_dashboards'},\n",
      "    'id': '90xalcjlbb56xayl7xc3',\n",
      "    'kmsKeyArn': 'auto',\n",
      "    'lastModifiedDate': 1760797727913,\n",
      "    'name': 'solar-p-7eb12cba-kb-774',\n",
      "    'standbyReplicas': 'ENABLED',\n",
      "    'status': 'ACTIVE',\n",
      "    'type': 'VECTORSEARCH'}]\n",
      "Opensearch serverless arn:  arn:aws:iam::833005555478:policy/AmazonBedrockOSSPolicyForKnowledgeBase_774\n",
      "Sleeping for a minute to ensure data access rules have been enforced\n",
      "========================================================================================\n",
      "Step 5 - Creating OSS Vector Index\n",
      "\n",
      "Creating index:\n",
      "{ 'acknowledged': True,\n",
      "  'index': 'solar-p-7eb12cba-kb-index-774',\n",
      "  'shards_acknowledged': True}\n",
      "========================================================================================\n",
      "Step 6 - Creating Knowledge Base\n",
      "{'type': 'VECTOR', 'vectorKnowledgeBaseConfiguration': {'embeddingModelArn': 'arn:aws:bedrock:us-east-1::foundation-model/amazon.titan-embed-text-v2:0'}}\n",
      "{ 'createdAt': datetime.datetime(2025, 10, 18, 14, 30, 55, 530853, tzinfo=tzlocal()),\n",
      "  'description': 'KB containing solar panel instructions for installation and '\n",
      "                 'maintenance',\n",
      "  'knowledgeBaseArn': 'arn:aws:bedrock:us-east-1:833005555478:knowledge-base/CPDC3FMTP1',\n",
      "  'knowledgeBaseConfiguration': { 'type': 'VECTOR',\n",
      "                                  'vectorKnowledgeBaseConfiguration': { 'embeddingModelArn': 'arn:aws:bedrock:us-east-1::foundation-model/amazon.titan-embed-text-v2:0'}},\n",
      "  'knowledgeBaseId': 'CPDC3FMTP1',\n",
      "  'name': 'solar-p-7eb12cba-kb',\n",
      "  'roleArn': 'arn:aws:iam::833005555478:role/AmazonBedrockExecutionRoleForKnowledgeBase_774',\n",
      "  'status': 'CREATING',\n",
      "  'storageConfiguration': { 'opensearchServerlessConfiguration': { 'collectionArn': 'arn:aws:aoss:us-east-1:833005555478:collection/90xalcjlbb56xayl7xc3',\n",
      "                                                                   'fieldMapping': { 'metadataField': 'text-metadata',\n",
      "                                                                                     'textField': 'text',\n",
      "                                                                                     'vectorField': 'vector'},\n",
      "                                                                   'vectorIndexName': 'solar-p-7eb12cba-kb-index-774'},\n",
      "                            'type': 'OPENSEARCH_SERVERLESS'},\n",
      "  'updatedAt': datetime.datetime(2025, 10, 18, 14, 30, 55, 530853, tzinfo=tzlocal())}\n",
      "{ 'createdAt': datetime.datetime(2025, 10, 18, 14, 30, 57, 577872, tzinfo=tzlocal()),\n",
      "  'dataDeletionPolicy': 'RETAIN',\n",
      "  'dataSourceConfiguration': { 's3Configuration': { 'bucketArn': 'arn:aws:s3:::solar-p-kb-833005555478-7eb12cba'},\n",
      "                               'type': 'S3'},\n",
      "  'dataSourceId': 'FMOPV2MXLM',\n",
      "  'description': 'KB containing solar panel instructions for installation and '\n",
      "                 'maintenance',\n",
      "  'knowledgeBaseId': 'CPDC3FMTP1',\n",
      "  'name': 'solar-p-7eb12cba-kb',\n",
      "  'status': 'AVAILABLE',\n",
      "  'updatedAt': datetime.datetime(2025, 10, 18, 14, 30, 57, 577872, tzinfo=tzlocal()),\n",
      "  'vectorIngestionConfiguration': { 'chunkingConfiguration': { 'chunkingStrategy': 'FIXED_SIZE',\n",
      "                                                               'fixedSizeChunkingConfiguration': { 'maxTokens': 512,\n",
      "                                                                                                   'overlapPercentage': 20}}}}\n",
      "========================================================================================\n",
      "Knowledge Base ID: CPDC3FMTP1\n",
      "Data Source ID: FMOPV2MXLM\n",
      "CPU times: user 338 ms, sys: 57.5 ms, total: 396 ms\n",
      "Wall time: 3min 34s\n"
     ]
    }
   ],
   "source": [
    "%%time\n",
    "kb_id, ds_id = kb.create_or_retrieve_knowledge_base(\n",
    "    knowledge_base_name,\n",
    "    knowledge_base_description,\n",
    "    bucket_name\n",
    ")\n",
    "\n",
    "print(f\"Knowledge Base ID: {kb_id}\")\n",
    "print(f\"Data Source ID: {ds_id}\")"
   ]
  },
  {
   "cell_type": "markdown",
   "id": "a6f04f9e",
   "metadata": {
    "pycharm": {
     "name": "#%% md\n"
    }
   },
   "source": [
    "### Create Synthetic Data to Load on S3\n",
    "\n",
    "Instead of get data elsewhere, you're going to generate data, using a LLM on Amazon Bedrock.\n",
    "This fake data that will be generated, will be uploaded into a S3 bucket and then added into an Amazon Bedrock Knowledge Base."
   ]
  },
  {
   "cell_type": "code",
   "execution_count": 7,
   "id": "f9c9b44c",
   "metadata": {
    "pycharm": {
     "name": "#%%\n"
    }
   },
   "outputs": [
    {
     "name": "stdout",
     "output_type": "stream",
     "text": [
      "The kb_documents directory already exists!\n"
     ]
    }
   ],
   "source": [
    "path = \"kb_documents\"\n",
    "# Check whether the specified path exists or not\n",
    "isExist = os.path.exists(path)\n",
    "if not isExist:\n",
    "   # Create a n ew directory if it does not exist\n",
    "   os.makedirs(path)\n",
    "   print(\"The {} directory was created!\".format(path))\n",
    "else:\n",
    "   print(\"The {} directory already exists!\".format(path))"
   ]
  },
  {
   "cell_type": "markdown",
   "id": "eb1d898b",
   "metadata": {
    "pycharm": {
     "name": "#%% md\n"
    }
   },
   "source": [
    "Creating helper methods to invoke LLM on Bedrock and to write a local file using Python"
   ]
  },
  {
   "cell_type": "code",
   "execution_count": 8,
   "id": "eb952b08",
   "metadata": {
    "pycharm": {
     "name": "#%%\n"
    }
   },
   "outputs": [],
   "source": [
    "def invoke_bedrock_generate_energy_files(prompt):\n",
    "    message_list = []\n",
    "\n",
    "    initial_message = {\n",
    "        \"role\": \"user\",\n",
    "        \"content\": [\n",
    "            { \"text\": prompt } \n",
    "        ],\n",
    "    }\n",
    "\n",
    "    message_list.append(initial_message)\n",
    "\n",
    "    response = bedrock_client.converse(\n",
    "        modelId=agent_foundation_model[0],\n",
    "        messages=message_list,\n",
    "        inferenceConfig={\n",
    "            \"maxTokens\": 2048,\n",
    "            \"temperature\": 0\n",
    "        },\n",
    "    )\n",
    "\n",
    "    return response['output']['message']\n",
    "\n",
    "\n",
    "def write_file(file_name, content):\n",
    "    f = open(file_name, 'w')\n",
    "    f.write(content)\n",
    "    f.close"
   ]
  },
  {
   "cell_type": "markdown",
   "id": "c3cd11d3",
   "metadata": {
    "pycharm": {
     "name": "#%% md\n"
    }
   },
   "source": [
    "Generating one file with instructions on how to install a solar panel."
   ]
  },
  {
   "cell_type": "code",
   "execution_count": 9,
   "id": "89384886",
   "metadata": {
    "pycharm": {
     "name": "#%%\n"
    }
   },
   "outputs": [
    {
     "name": "stdout",
     "output_type": "stream",
     "text": [
      "Generated data:\n",
      "Sunpower X:\n",
      "The Sunpower X is a high-efficiency monocrystalline solar panel designed for residential and commercial installations. It features a sleek black-on-black design and is known for its exceptional performance in low-light conditions. The Sunpower X has a maximum power output of 345 watts and a module efficiency of up to 22.8%.\n",
      "\n",
      "Sunpower Y:\n",
      "The Sunpower Y is a versatile polycrystalline solar panel suitable for a wide range of applications, including ground-mounted and rooftop systems. It offers a balance between efficiency and affordability, with a maximum power output of 320 watts and a module efficiency of up to 19.5%. The Sunpower Y is known for its durability and resistance to harsh environmental conditions.\n",
      "\n",
      "Sunpower double-X:\n",
      "The Sunpower double-X is a premium monocrystalline solar panel designed for maximum energy production. It features a unique double-panel design that captures sunlight from both the front and rear sides, increasing overall energy yield. The Sunpower double-X has a maximum power output of 400 watts and a module efficiency of up to 24.5%, making it one of the most efficient solar panels on the market.\n",
      "\n",
      "Installation Instructions:\n",
      "\n",
      "Sunpower X:\n",
      "1. Assess your roof's suitability for solar panel installation, considering factors like orientation, tilt angle, and shading.\n",
      "2. Obtain necessary permits and ensure compliance with local building codes and energy regulations.\n",
      "3. Install mounting rails or racking system according to manufacturer's specifications.\n",
      "4. Connect the solar panels to the racking system using appropriate clamps or mounting hardware.\n",
      "5. Wire the solar panels in series or parallel, depending on the desired voltage and current requirements.\n",
      "6. Install an inverter to convert the direct current (DC) from the solar panels into alternating current (AC) for household use.\n",
      "7. Connect the inverter to your home's electrical panel and ensure proper grounding.\n",
      "8. Activate the solar panel system and monitor its performance.\n",
      "\n",
      "Sunpower Y:\n",
      "1. Evaluate your site's solar potential and determine the optimal location for the solar panel installation.\n",
      "2. Obtain necessary permits and ensure compliance with local building codes and energy regulations.\n",
      "3. Prepare the installation area by clearing any obstructions and leveling the ground, if necessary.\n",
      "4. Install a mounting structure or foundation suitable for ground-mounted solar panels.\n",
      "5. Secure the solar panels to the mounting structure using appropriate hardware and follow the manufacturer's instructions.\n",
      "6. Connect the solar panels in series or parallel, depending on the desired voltage and current requirements.\n",
      "7. Install an inverter to convert the direct current (DC) from the solar panels into alternating current (AC) for household use.\n",
      "8. Connect the inverter to your home's electrical panel and ensure proper grounding.\n",
      "9. Activate the solar panel system and monitor its performance.\n",
      "\n",
      "Sunpower double-X:\n",
      "1. Assess your roof's suitability for solar panel installation, considering factors like orientation, tilt angle, and shading.\n",
      "2. Obtain necessary permits and ensure compliance with local building codes and energy regulations.\n",
      "3. Install a specialized mounting system designed for the Sunpower double-X solar panels, following the manufacturer's instructions.\n",
      "4. Connect the solar panels to the mounting system using appropriate clamps or mounting hardware.\n",
      "5. Wire the solar panels in series or parallel, depending on the desired voltage and current requirements.\n",
      "6. Install a compatible inverter that can handle the higher power output of the Sunpower double-X solar panels.\n",
      "7. Connect the inverter to your home's electrical panel and ensure proper grounding.\n",
      "8. Activate the solar panel system and monitor its performance.\n",
      "\n",
      "Note: Ensure that all installations are performed by qualified professionals and adhere to local safety regulations and energy codes.\n"
     ]
    }
   ],
   "source": [
    "text_generation_energy_instructions = '''\n",
    "    You will be act as an expert on clean energy.\n",
    "    You will generate a step-by-step on how to install a solar panel at home.\n",
    "    You know the following fictional solar panel models: Sunpower X, Sunpower Y\n",
    "    and Sunpower double-X. For each one of those models, provide some general\n",
    "    model description and its features. Next provide a numbered list describing\n",
    "    how to install each model of solar panel. Include information about how to\n",
    "    ensure compliance with energy rules.\n",
    "\n",
    "    Answer only with the instructions and solar panel descriptions.\n",
    "    Avoid answer with afirmations like: \"OK, I can generate it,\",\n",
    "    \"As an expert on clean energy, I \", or \"Yes, please find following example.\"\n",
    "    Be direct and only reply the instructions and descriptions.\n",
    "'''\n",
    "\n",
    "solar_energy_file_name = 'solar-panel-instructions.txt'\n",
    "\n",
    "response_message = invoke_bedrock_generate_energy_files(\n",
    "    text_generation_energy_instructions\n",
    ")\n",
    "description_and_instructions = response_message['content'][0]['text']\n",
    "print(f\"Generated data:\\n{description_and_instructions}\")\n",
    "write_file(\n",
    "    '{}/{}'.format(path, solar_energy_file_name),\n",
    "    description_and_instructions\n",
    ")"
   ]
  },
  {
   "cell_type": "markdown",
   "id": "3ca5728c",
   "metadata": {
    "pycharm": {
     "name": "#%% md\n"
    }
   },
   "source": [
    "### Generating data prompt\n",
    "Generating another file with instructions on how to do maintenance on a solar panel."
   ]
  },
  {
   "cell_type": "code",
   "execution_count": 10,
   "id": "599cecaf",
   "metadata": {
    "pycharm": {
     "name": "#%%\n"
    }
   },
   "outputs": [
    {
     "name": "stdout",
     "output_type": "stream",
     "text": [
      "Generated data:\n",
      "Here are step-by-step instructions for maintaining the different Sunpower solar panel models at a regular home, including information about ensuring consistent compliance with energy rules:\n",
      "\n",
      "Sunpower X Maintenance:\n",
      "\n",
      "1. Inspect the solar panels regularly for any visible damage, such as cracks, discoloration, or delamination.\n",
      "2. Clean the solar panels periodically to remove dirt, dust, and debris that can reduce their efficiency. Use a soft brush or cloth and a mild, non-abrasive cleaning solution.\n",
      "3. Check the mounting system and hardware for any signs of corrosion or loosening, and tighten or replace components as needed.\n",
      "4. Monitor the system's performance and compare it to the expected output. If there is a significant drop in energy production, contact a professional for troubleshooting and maintenance.\n",
      "5. Ensure compliance with local energy regulations by obtaining necessary permits, following installation guidelines, and adhering to safety codes.\n",
      "6. Keep records of maintenance activities, system performance, and any changes or upgrades made to the solar panel system.\n",
      "\n",
      "Sunpower Y Maintenance:\n",
      "\n",
      "1. Inspect the solar panels regularly for any visible damage, such as cracks, discoloration, or delamination.\n",
      "2. Clean the solar panels periodically to remove dirt, dust, and debris that can reduce their efficiency. Use a soft brush or cloth and a mild, non-abrasive cleaning solution.\n",
      "3. Check the mounting system and hardware for any signs of corrosion or loosening, and tighten or replace components as needed.\n",
      "4. Monitor the system's performance and compare it to the expected output. If there is a significant drop in energy production, contact a professional for troubleshooting and maintenance.\n",
      "5. Ensure compliance with local energy regulations by obtaining necessary permits, following installation guidelines, and adhering to safety codes.\n",
      "6. Keep records of maintenance activities, system performance, and any changes or upgrades made to the solar panel system.\n",
      "\n",
      "Sunpower double-X Maintenance:\n",
      "\n",
      "1. Inspect the solar panels regularly for any visible damage, such as cracks, discoloration, or delamination.\n",
      "2. Clean the solar panels periodically to remove dirt, dust, and debris that can reduce their efficiency. Use a soft brush or cloth and a mild, non-abrasive cleaning solution.\n",
      "3. Check the specialized mounting system and hardware for any signs of corrosion or loosening, and tighten or replace components as needed.\n",
      "4. Monitor the system's performance and compare it to the expected output. If there is a significant drop in energy production, contact a professional for troubleshooting and maintenance.\n",
      "5. Ensure compliance with local energy regulations by obtaining necessary permits, following installation guidelines, and adhering to safety codes.\n",
      "6. Keep records of maintenance activities, system performance, and any changes or upgrades made to the solar panel system.\n",
      "7. Consult with the manufacturer or a qualified professional for any specific maintenance requirements or recommendations for the Sunpower double-X solar panels.\n",
      "\n",
      "For all models, it is crucial to follow the manufacturer's guidelines and local energy regulations to ensure consistent compliance and optimal system performance.\n"
     ]
    }
   ],
   "source": [
    "text_generation_energy_instructions = f'''\n",
    "    You will be act as an expert on clean energy.\n",
    "    You know the following fictional solar panel models: Sunpower X, Sunpower Y\n",
    "    and Sunpower double-X. Here is are some descriptions of the different\n",
    "    models and how to install them:\n",
    "    <description_and_instructions>\n",
    "    {description_and_instructions}\n",
    "    </description_and_instructions>\n",
    "    Generate a step-by-step instructions on how to do maintenance on each of\n",
    "    those models at a regular home. Include information about how to\n",
    "    ensure consistent compliance with energy rules.\n",
    "    Just answer in a numbered list.\n",
    "'''\n",
    "\n",
    "solar_energy_file_name = 'solar-panel-maintenance.txt'\n",
    "\n",
    "response_message = invoke_bedrock_generate_energy_files(\n",
    "    text_generation_energy_instructions\n",
    ")\n",
    "print(f\"Generated data:\\n{response_message['content'][0]['text']}\")\n",
    "\n",
    "write_file(\n",
    "    '{}/{}'.format(path, solar_energy_file_name),\n",
    "    response_message['content'][0]['text']\n",
    ")\n"
   ]
  },
  {
   "cell_type": "markdown",
   "id": "d34e2b5a",
   "metadata": {
    "pycharm": {
     "name": "#%% md\n"
    }
   },
   "source": [
    "### Uploading data to S3\n",
    "Uploading generated files into S3 Bucket."
   ]
  },
  {
   "cell_type": "code",
   "execution_count": 11,
   "id": "9796eaa4",
   "metadata": {
    "pycharm": {
     "name": "#%%\n"
    }
   },
   "outputs": [],
   "source": [
    "def upload_directory(path, bucket_name):\n",
    "    for root,dirs,files in os.walk(path):\n",
    "        for file in files:\n",
    "            file_to_upload = os.path.join(root,file)\n",
    "            print(f\"uploading file {file_to_upload} to {bucket_name}\")\n",
    "            s3_client.upload_file(file_to_upload,bucket_name,file)"
   ]
  },
  {
   "cell_type": "markdown",
   "id": "2bbde4b1-7576-42ac-b371-621e3162380d",
   "metadata": {
    "pycharm": {
     "name": "#%% md\n"
    }
   },
   "source": [
    "### Synchronizing Knowledge Base\n",
    "Now that the data is available in the s3 bucket, let's synchronize it to our knowledge base"
   ]
  },
  {
   "cell_type": "code",
   "execution_count": 12,
   "id": "e9cb3260",
   "metadata": {
    "pycharm": {
     "name": "#%%\n"
    }
   },
   "outputs": [
    {
     "name": "stdout",
     "output_type": "stream",
     "text": [
      "uploading file kb_documents/solar-panel-instructions.txt to solar-p-kb-833005555478-7eb12cba\n",
      "uploading file kb_documents/solar-panel-maintenance.txt to solar-p-kb-833005555478-7eb12cba\n",
      "{ 'dataSourceId': 'FMOPV2MXLM',\n",
      "  'ingestionJobId': 'AZSCQOK0WL',\n",
      "  'knowledgeBaseId': 'CPDC3FMTP1',\n",
      "  'startedAt': datetime.datetime(2025, 10, 18, 14, 32, 21, 646170, tzinfo=tzlocal()),\n",
      "  'statistics': { 'numberOfDocumentsDeleted': 0,\n",
      "                  'numberOfDocumentsFailed': 0,\n",
      "                  'numberOfDocumentsScanned': 0,\n",
      "                  'numberOfMetadataDocumentsModified': 0,\n",
      "                  'numberOfMetadataDocumentsScanned': 0,\n",
      "                  'numberOfModifiedDocumentsIndexed': 0,\n",
      "                  'numberOfNewDocumentsIndexed': 0},\n",
      "  'status': 'STARTING',\n",
      "  'updatedAt': datetime.datetime(2025, 10, 18, 14, 32, 21, 646170, tzinfo=tzlocal())}\n",
      "{ 'dataSourceId': 'FMOPV2MXLM',\n",
      "  'ingestionJobId': 'AZSCQOK0WL',\n",
      "  'knowledgeBaseId': 'CPDC3FMTP1',\n",
      "  'startedAt': datetime.datetime(2025, 10, 18, 14, 32, 21, 646170, tzinfo=tzlocal()),\n",
      "  'statistics': { 'numberOfDocumentsDeleted': 0,\n",
      "                  'numberOfDocumentsFailed': 0,\n",
      "                  'numberOfDocumentsScanned': 2,\n",
      "                  'numberOfMetadataDocumentsModified': 0,\n",
      "                  'numberOfMetadataDocumentsScanned': 0,\n",
      "                  'numberOfModifiedDocumentsIndexed': 0,\n",
      "                  'numberOfNewDocumentsIndexed': 2},\n",
      "  'status': 'COMPLETE',\n",
      "  'updatedAt': datetime.datetime(2025, 10, 18, 14, 32, 26, 595045, tzinfo=tzlocal())}\n"
     ]
    }
   ],
   "source": [
    "upload_directory(\"kb_documents\", bucket_name)\n",
    "\n",
    "# sync knowledge base\n",
    "kb.synchronize_data(kb_id, ds_id)"
   ]
  },
  {
   "cell_type": "markdown",
   "id": "c7593e31",
   "metadata": {
    "pycharm": {
     "name": "#%% md\n"
    }
   },
   "source": [
    "## Creating Agent\n",
    "\n",
    "Create the Solar Panel agent that will have a Knowledge Base and also a Lambda action group to handle exception workflow (when information is not found on KB).\n",
    "\n",
    "For this agent we will use the following instructions:\n",
    "```\n",
    "You are a Solar Energy Assistant that helps customers with solar panel installation and maintenance guidance.\n",
    "\n",
    "Your capabilities include:\n",
    "1. Providing installation instructions\n",
    "2. Providing maintenance procedures\n",
    "3. Troubleshooting common issues\n",
    "4. Creating support tickets for specialist assistance\n",
    "\n",
    "Core behaviors:\n",
    "1. Always use available information before asking customers for additional details\n",
    "2. Maintain a professional yet approachable tone\n",
    "3. Provide clear, direct answers\n",
    "4. Present technical information in an easy-to-understand manner\n",
    "5. NEVER invent information not available in your knowledge base\n",
    "\n",
    "Support ticket protocol:\n",
    "- Only generate tickets for specialist-level issues\n",
    "- Respond exclusively with case ID when creating tickets\n",
    "- Decline providing specialist advice beyond your scope\n",
    "\n",
    "Response style:\n",
    "- Be helpful and solution-oriented\n",
    "- Use clear, practical language\n",
    "- Focus on actionable guidance\n",
    "- Maintain natural conversation flow\n",
    "- Be concise yet informative\n",
    "- Do not add extra information not required by the user\n",
    "```\n",
    "We will also connect a knowledge base with the information about solar panels\n",
    "\n",
    "```\n",
    "Access the knowledge base when customers ask about to install and maintain solar panels\n",
    "```\n",
    "And we will make the following tool available to the agent:\n",
    "- `open_ticket`: to open new support tickets\n",
    "- `get_ticket_status`: to get the current status of an existing ticket"
   ]
  },
  {
   "cell_type": "code",
   "execution_count": 13,
   "id": "864e39d7",
   "metadata": {
    "pycharm": {
     "name": "#%%\n"
    }
   },
   "outputs": [],
   "source": [
    "kb_info = kb.get_kb(kb_id)\n",
    "kb_arn = kb_info['knowledgeBase']['knowledgeBaseArn']"
   ]
  },
  {
   "cell_type": "code",
   "execution_count": 14,
   "id": "9e265f56",
   "metadata": {
    "pycharm": {
     "name": "#%%\n"
    }
   },
   "outputs": [],
   "source": [
    "kb_config = {\n",
    "    'kb_id': kb_id,\n",
    "    'kb_instruction': 'Access the knowledge base when customers ask about to install and maintain solar panels'\n",
    "}"
   ]
  },
  {
   "cell_type": "code",
   "execution_count": 15,
   "id": "e1e168c8-180f-4977-96dd-d8006436208b",
   "metadata": {
    "pycharm": {
     "name": "#%%\n"
    }
   },
   "outputs": [
    {
     "data": {
      "text/plain": [
       "('QVU1TYDKDP',\n",
       " 'TSTALIASID',\n",
       " 'arn:aws:bedrock:us-east-1:833005555478:agent-alias/QVU1TYDKDP/TSTALIASID')"
      ]
     },
     "execution_count": 15,
     "metadata": {},
     "output_type": "execute_result"
    }
   ],
   "source": [
    "agent_instruction = \"\"\"You are a Solar Energy Assistant that helps customers with solar panel installation and maintenance guidance.\n",
    "\n",
    "Your capabilities include:\n",
    "1. Providing installation instructions\n",
    "2. Offering maintenance procedures\n",
    "3. Troubleshooting common issues\n",
    "4. Creating support tickets for specialist assistance\n",
    "\n",
    "Core behaviors:\n",
    "1. Always use available information before asking customers for additional details\n",
    "2. Maintain a professional yet approachable tone\n",
    "3. Provide clear, direct answers\n",
    "4. Present technical information in an easy-to-understand manner\n",
    "\n",
    "Support ticket protocol:\n",
    "- Only generate tickets for specialist-level issues\n",
    "- Respond exclusively with case ID when creating tickets\n",
    "- Decline providing specialist advice beyond your scope\n",
    "\n",
    "Response style:\n",
    "- Be helpful and solution-oriented\n",
    "- Use clear, practical language\n",
    "- Focus on actionable guidance\n",
    "- Maintain natural conversation flow\n",
    "- Be concise yet informative\n",
    "- Do not add extra information not required by the user\"\"\"\n",
    "\n",
    "agent_description = \"\"\"You are a solar energy helper bot. \n",
    "    You can retrieve information on how to install and do maintenance on solar panels\"\"\"\n",
    "\n",
    "solar_agent = agents.create_agent(\n",
    "    solar_agent_name,\n",
    "    agent_description,\n",
    "    agent_instruction,\n",
    "    agent_foundation_model,\n",
    "    kb_arns=[kb_arn]\n",
    ")\n",
    "solar_agent"
   ]
  },
  {
   "cell_type": "code",
   "execution_count": 16,
   "id": "d2cfc71d-4b0e-4b00-9159-cc3efd2becbc",
   "metadata": {
    "pycharm": {
     "name": "#%%\n"
    }
   },
   "outputs": [
    {
     "name": "stdout",
     "output_type": "stream",
     "text": [
      "Waiting for agent status to change. Current status CREATING\n",
      "Agent id QVU1TYDKDP current status: NOT_PREPARED\n"
     ]
    }
   ],
   "source": [
    "agents.associate_kb_with_agent(\n",
    "    solar_agent[0], kb_config['kb_instruction'], kb_config['kb_id']\n",
    ")"
   ]
  },
  {
   "cell_type": "markdown",
   "id": "f595c535",
   "metadata": {
    "pycharm": {
     "name": "#%% md\n"
    }
   },
   "source": [
    "### Creating Action Group\n",
    "\n",
    "On this session, we're going create an action group to handle support tickets and associate it with our agent. To do so, we will first create a Lambda function code to fulfill the execution of the agent's actions Next we will define the actions available actions that an agent can take using function details. Similar to the previous agent, you can also define the actions available using OpenAPI Schema.\n",
    "\n",
    "#### Creating Lambda function\n",
    "First let's create the lambda function"
   ]
  },
  {
   "cell_type": "code",
   "execution_count": 17,
   "id": "7086a3ba",
   "metadata": {
    "pycharm": {
     "name": "#%%\n"
    }
   },
   "outputs": [
    {
     "name": "stdout",
     "output_type": "stream",
     "text": [
      "Overwriting solar_energy.py\n"
     ]
    }
   ],
   "source": [
    "%%writefile solar_energy.py\n",
    "import os\n",
    "import json\n",
    "import uuid\n",
    "import boto3\n",
    "\n",
    "from boto3.dynamodb.conditions import Key, Attr\n",
    "\n",
    "dynamodb_resource = boto3.resource('dynamodb')\n",
    "dynamodb_table = os.getenv('dynamodb_table')\n",
    "dynamodb_pk = os.getenv('dynamodb_pk')\n",
    "dynamodb_sk = os.getenv('dynamodb_sk')\n",
    "\n",
    "def get_named_parameter(event, name):\n",
    "    try:\n",
    "        return next(item for item in event['parameters'] if item['name'] == name)['value']\n",
    "    except:\n",
    "        return None\n",
    "    \n",
    "def populate_function_response(event, response_body):\n",
    "    return {'response': {'actionGroup': event['actionGroup'], 'function': event['function'],\n",
    "                'functionResponse': {'responseBody': {'TEXT': {'body': str(response_body)}}}}}\n",
    "\n",
    "def put_dynamodb(table_name, item):\n",
    "    table = dynamodb_resource.Table(table_name)\n",
    "    resp = table.put_item(Item=item)\n",
    "    return resp\n",
    "\n",
    "def read_dynamodb(table_name: str, \n",
    "                   pk_field: str,\n",
    "                   pk_value: str,\n",
    "                   sk_field: str=None, \n",
    "                   sk_value: str=None):\n",
    "    try:\n",
    "        table = dynamodb_resource.Table(table_name)\n",
    "        # Create expression\n",
    "        if sk_value:\n",
    "            key_expression = Key(pk_field).eq(pk_value) & Key(sk_field).begins_with(sk_value)\n",
    "        else:\n",
    "            key_expression = Key(pk_field).eq(pk_value)\n",
    "\n",
    "        query_data = table.query(\n",
    "            KeyConditionExpression=key_expression\n",
    "        )\n",
    "        \n",
    "        return query_data['Items']\n",
    "    except Exception:\n",
    "        print(f'Error querying table: {table_name}.')\n",
    "\n",
    "def open_ticket(customer_id, msg):\n",
    "    ticket_id = str(uuid.uuid1())\n",
    "    item = {\n",
    "        'ticket_id': ticket_id,\n",
    "        'customer_id': customer_id,\n",
    "        'description': msg,\n",
    "        'status': 'created'\n",
    "    }\n",
    "    resp = put_dynamodb(dynamodb_table, item)\n",
    "    print(resp)\n",
    "    return \"Thanks for contact customer {}! Your support case was generated with ID: {}\".format(\n",
    "        customer_id, ticket_id\n",
    "    )\n",
    "\n",
    "def get_ticket_status(customer_id,\n",
    "                      ticket_id: str=None):\n",
    "    return read_dynamodb(dynamodb_table, \n",
    "                         dynamodb_pk,\n",
    "                         customer_id,\n",
    "                         dynamodb_sk,\n",
    "                         ticket_id)\n",
    "\n",
    "def lambda_handler(event, context):\n",
    "    print(event)\n",
    "    \n",
    "    # name of the function that should be invoked\n",
    "    function = event.get('function', '')\n",
    "\n",
    "    # parameters to invoke function with\n",
    "    parameters = event.get('parameters', [])\n",
    "    customer_id = get_named_parameter(event, \"customer_id\")\n",
    "\n",
    "    if function == 'open_ticket':\n",
    "        msg = get_named_parameter(event, \"msg\")\n",
    "        result = open_ticket(customer_id, msg)\n",
    "    elif function == 'get_ticket_status':\n",
    "        ticket_id = get_named_parameter(event, \"ticket_id\")\n",
    "        result = get_ticket_status(customer_id, ticket_id)\n",
    "    else:\n",
    "        result = f\"Error, function '{function}' not recognized\"\n",
    "\n",
    "    response = populate_function_response(event, result)\n",
    "    print(response)\n",
    "    return response"
   ]
  },
  {
   "cell_type": "markdown",
   "id": "4e111cd0",
   "metadata": {
    "pycharm": {
     "name": "#%% md\n"
    }
   },
   "source": [
    "### Defining available actions\n",
    "Now it's time to define the actions that can be taken by the agent"
   ]
  },
  {
   "cell_type": "code",
   "execution_count": 18,
   "id": "61fd71c6",
   "metadata": {
    "pycharm": {
     "name": "#%%\n"
    }
   },
   "outputs": [],
   "source": [
    "functions_def =[\n",
    "    {\n",
    "        \"name\": \"open_ticket\",\n",
    "        \"description\": \"\"\"Create a ticket to get help with information related with solar panel or clean energy\"\"\",\n",
    "        \"parameters\": {\n",
    "            \"customer_id\": {\n",
    "                \"description\": \"Unique customer identifier\",\n",
    "                \"required\": True,\n",
    "                \"type\": \"string\"\n",
    "            },\n",
    "            \"msg\": {\n",
    "                \"description\": \"The reason why customer is opening a ticket\",\n",
    "                \"required\": True,\n",
    "                \"type\": \"string\"\n",
    "            }\n",
    "        }\n",
    "    },\n",
    "    {\n",
    "        \"name\": \"get_ticket_status\",\n",
    "        \"description\": \"\"\"get the status of an existing ticket\"\"\",\n",
    "        \"parameters\": {\n",
    "            \"customer_id\": {\n",
    "                \"description\": \"Unique customer identifier\",\n",
    "                \"required\": True,\n",
    "                \"type\": \"string\"\n",
    "            },\n",
    "            \"ticket_id\": {\n",
    "                \"description\": \"Unique ticket identifier\",\n",
    "                \"required\": False,\n",
    "                \"type\": \"string\"\n",
    "            }\n",
    "        }\n",
    "    }\n",
    "]"
   ]
  },
  {
   "cell_type": "markdown",
   "id": "d72cde32-57f6-4c13-bc8d-599ea67b6919",
   "metadata": {
    "pycharm": {
     "name": "#%% md\n"
    }
   },
   "source": [
    "#### Associating action group to agent\n",
    "Finally, we can associate a new action group with our previously created agent"
   ]
  },
  {
   "cell_type": "code",
   "execution_count": 19,
   "id": "f38fb3fd",
   "metadata": {
    "pycharm": {
     "name": "#%%\n"
    }
   },
   "outputs": [],
   "source": [
    "resp = agents.add_action_group_with_lambda(\n",
    "    agent_name=solar_agent_name,\n",
    "    lambda_function_name=solar_lambda_name,\n",
    "    source_code_file=\"solar_energy.py\",\n",
    "    agent_functions=functions_def,\n",
    "    agent_action_group_name=\"solar_energy_actions\",\n",
    "    agent_action_group_description=\"Function to open an energy ticket for a user or get status from an opened ticket\",\n",
    "    dynamo_args=dynamoDB_args\n",
    ")"
   ]
  },
  {
   "cell_type": "markdown",
   "id": "24226dfa-a3ce-4ba3-bcff-da63e99af5c0",
   "metadata": {
    "pycharm": {
     "name": "#%% md\n"
    }
   },
   "source": [
    "## Testing Agent\n",
    "\n",
    "Now, let's run some tests on the agent we just created to make sure it's working. To do so we will use our test alias: `TSTALIASID` which allows you to invoke a draft version of your agent\n",
    "\n",
    "### Testing maintainance question\n",
    "First let's ask a question related to maintaining an existing solar panel"
   ]
  },
  {
   "cell_type": "code",
   "execution_count": 20,
   "id": "18d8404d",
   "metadata": {
    "pycharm": {
     "name": "#%%\n"
    }
   },
   "outputs": [
    {
     "name": "stdout",
     "output_type": "stream",
     "text": [
      "invokeAgent API request ID: 4d288a51-c235-4654-96f4-52eabc1ed4e7\n",
      "invokeAgent API session ID: b32fe182-ac2e-11f0-b00f-16ffda0c90af\n",
      "\u001b[32m---- Step 1 ----\u001b[0m\n",
      "\u001b[33mTook 3.5s, using 1702 tokens (in: 1512, out: 190) to complete prior action, observe, orchestrate.\u001b[0m\n",
      "\u001b[34mTo check if your SunPower double-X solar panel electrical consumption is compliant with energy rules, I will first need to search the knowledge base for relevant information on:\n",
      "1. SunPower double-X solar panel specifications\n",
      "2. Electrical consumption standards and regulations for solar panels\n",
      "3. How to verify compliance of solar panel electrical consumption\u001b[0m\n",
      "\u001b[32m---- Step 2 ----\u001b[0m\n",
      "\u001b[33mTook 5.9s, using 1687 tokens (in: 1350, out: 337) to complete prior action, observe, orchestrate.\u001b[0m\n",
      "\u001b[32m---- Step 3 ----\u001b[0m\n",
      "\u001b[33mTook 6.0s, using 2396 tokens (in: 2112, out: 284) to complete prior action, observe, orchestrate.\u001b[0m\n",
      "\u001b[36mFinal response:\n",
      "\n",
      "To check if your SunPower double-X solar panel electrical consumption is compliant with energy rules, you need to ensure the following:\n",
      "\n",
      "1. Obtain all necessary permits from your local authorities before installation.\n",
      "2. Follow the manufacturer's instructions for proper mounting and wiring of the S...\u001b[0m\n",
      "got 2 citations \n",
      "\n",
      "\u001b[33mAgent made a total of 3 LLM calls, using 5785 tokens (in: 4974, out: 811), and took 15.6 total seconds\u001b[0m\n",
      "====================\n",
      "\n",
      "To check if your SunPower double-X solar panel electrical consumption is compliant with energy rules, you need to ensure the following:\n",
      "\n",
      "1. Obtain all necessary permits from your local authorities before installation.\n",
      "2. Follow the manufacturer's instructions for proper mounting and wiring of the SunPower double-X panels.\n",
      "3. Install a compatible inverter that can handle the high power output of up to 400 watts per panel.\n",
      "4. Ensure the system is properly grounded and connected to your home's electrical panel according to local codes.\n",
      "5. Adhere to all local safety regulations and energy codes during the installation process.\n",
      "\n",
      "\n",
      "\n",
      "\n",
      "\n",
      "The SunPower double-X panels are designed for maximum energy production with a module efficiency of up to 24.5%. By following the manufacturer's guidelines and local regulations during installation, you can ensure your system's electrical consumption meets compliance standards.\n",
      "\n",
      " [s3://solar-p-kb-833005555478-7eb12cba/solar-panel-instructions.txt] \n",
      "\n",
      "\n",
      "\n",
      "\n",
      "\n",
      "The SunPower double-X panels are designed for maximum energy production with a module efficiency of up to 24.5%. By following the manufacturer's guidelines and local regulations during installation, you can ensure your system's electrical consumption meets compliance standa [s3://solar-p-kb-833005555478-7eb12cba/solar-panel-instructions.txt] \n",
      "CPU times: user 31 ms, sys: 964 μs, total: 32 ms\n",
      "Wall time: 15.6 s\n"
     ]
    }
   ],
   "source": [
    "%%time\n",
    "response = agents.invoke(\n",
    "    \"how can I check if my Sunpower double-X solar panel eletrical consumption is compliant with energy rules?\", \n",
    "    solar_agent[0], enable_trace=True\n",
    ")\n",
    "print(\"====================\")\n",
    "print(response)"
   ]
  },
  {
   "cell_type": "markdown",
   "id": "05a02421-6043-4722-a0ef-b8361d169662",
   "metadata": {
    "pycharm": {
     "name": "#%% md\n"
    }
   },
   "source": [
    "### Testing installation question\n",
    "Next let's ask a question related to installing a new solar panel"
   ]
  },
  {
   "cell_type": "code",
   "execution_count": 21,
   "id": "76fd1a18-d3a5-4e83-a569-f9aa46ca4f8c",
   "metadata": {
    "pycharm": {
     "name": "#%%\n"
    }
   },
   "outputs": [
    {
     "name": "stdout",
     "output_type": "stream",
     "text": [
      "invokeAgent API request ID: 463b4ecf-dbdd-49c7-9026-959816b85422\n",
      "invokeAgent API session ID: b32fe182-ac2e-11f0-b00f-16ffda0c90af\n",
      "\u001b[32m---- Step 1 ----\u001b[0m\n",
      "\u001b[33mTook 2.9s, using 2564 tokens (in: 2414, out: 150) to complete prior action, observe, orchestrate.\u001b[0m\n",
      "\u001b[34mTo provide guidance on installing a SunPower Y solar panel at home, I will search the knowledge base for relevant information on:\n",
      "\n",
      "1. SunPower Y solar panel specifications and requirements\n",
      "2. Steps for residential solar panel installation\n",
      "3. Safety guidelines and regulations to follow during installation\u001b[0m\n",
      "\u001b[32m---- Step 2 ----\u001b[0m\n",
      "\u001b[33mTook 3.4s, using 1621 tokens (in: 1345, out: 276) to complete prior action, observe, orchestrate.\u001b[0m\n",
      "\u001b[32m---- Step 3 ----\u001b[0m\n",
      "\u001b[33mTook 3.7s, using 3203 tokens (in: 2933, out: 270) to complete prior action, observe, orchestrate.\u001b[0m\n",
      "\u001b[36mFinal response:\n",
      "\n",
      "To install SunPower Y solar panels at your home, follow these steps:\n",
      "\n",
      "1. Evaluate your site and determine the optimal location for the solar panels, considering factors like sun exposure and potential shading.\n",
      "\n",
      "2. Obtain necessary permits from your local authorities and ensure compliance with build...\u001b[0m\n",
      "got 1 citations \n",
      "\n",
      "\u001b[33mAgent made a total of 3 LLM calls, using 7388 tokens (in: 6692, out: 696), and took 10.2 total seconds\u001b[0m\n",
      "====================\n",
      "\n",
      "To install SunPower Y solar panels at your home, follow these steps:\n",
      "\n",
      "1. Evaluate your site and determine the optimal location for the solar panels, considering factors like sun exposure and potential shading.\n",
      "\n",
      "2. Obtain necessary permits from your local authorities and ensure compliance with building codes and energy regulations.\n",
      "\n",
      "3. Prepare the installation area by clearing obstructions and leveling the ground if needed.\n",
      "\n",
      "4. Install a suitable mounting structure or foundation for ground-mounted solar panels.\n",
      "\n",
      "5. Securely mount the SunPower Y solar panels on the structure, following the manufacturer's instructions.\n",
      "\n",
      "6. Connect the solar panels in series or parallel as per the desired voltage and current requirements.\n",
      "\n",
      "7. Install a compatible inverter to convert the direct current (DC) from the panels into alternating current (AC) for household use.\n",
      "\n",
      "8. Connect the inverter to your home's electrical panel, ensuring proper grounding.\n",
      "\n",
      "9. Activate the solar panel system and monitor its performance.\n",
      "\n",
      " [s3://solar-p-kb-833005555478-7eb12cba/solar-panel-instructions.txt] \n",
      "CPU times: user 13.8 ms, sys: 2.92 ms, total: 16.7 ms\n",
      "Wall time: 10.2 s\n"
     ]
    }
   ],
   "source": [
    "%%time\n",
    "response = agents.invoke(\n",
    "    \"how can I install my Sunpower Y solar panel at home?\", \n",
    "    solar_agent[0], enable_trace=True\n",
    ")\n",
    "print(\"====================\")\n",
    "print(response)"
   ]
  },
  {
   "cell_type": "markdown",
   "id": "99f4750f-739b-4f74-a8a2-9044bdeb5266",
   "metadata": {
    "pycharm": {
     "name": "#%% md\n"
    }
   },
   "source": [
    "### Testing personalized support\n",
    "Let's now create a support ticket. To do so we will pass our customer id to trigger the support ticket creation process"
   ]
  },
  {
   "cell_type": "code",
   "execution_count": 22,
   "id": "34693363",
   "metadata": {
    "pycharm": {
     "name": "#%%\n"
    }
   },
   "outputs": [
    {
     "name": "stdout",
     "output_type": "stream",
     "text": [
      "invokeAgent API request ID: 1466593e-64f3-4976-8441-1e60d69357c8\n",
      "invokeAgent API session ID: b32fe182-ac2e-11f0-b00f-16ffda0c90af\n",
      "\u001b[32m---- Step 1 ----\u001b[0m\n",
      "\u001b[33mTook 3.1s, using 3356 tokens (in: 3225, out: 131) to complete prior action, observe, orchestrate.\u001b[0m\n",
      "\u001b[34mThe user is asking for support to install their SunPower X solar panel and has provided their customer ID. Since this seems to be a specialist-level issue that requires dedicated assistance, I should create a support ticket for them.\u001b[0m\n",
      "\u001b[35mUsing tool: open_ticket with these inputs:\u001b[0m\n",
      "\u001b[35m[{'name': 'msg', 'type': 'string', 'value': 'Request for installation support for SunPower X solar panel'}, {'name': 'customer_id', 'type': 'string', 'value': '1'}]\n",
      "\u001b[0m\n",
      "\u001b[35m--tool outputs:\n",
      "Thanks for contact customer 1! Your support case was generated with ID: 73f863fe-ac2f-11f0-8bff-ad1a552a1d71...\n",
      "\u001b[0m\n",
      "\u001b[32m---- Step 2 ----\u001b[0m\n",
      "\u001b[33mTook 2.7s, using 3486 tokens (in: 3453, out: 33) to complete prior action, observe, orchestrate.\u001b[0m\n",
      "\u001b[36mFinal response:\n",
      "73f863fe-ac2f-11f0-8bff-ad1a552a1d71...\u001b[0m\n",
      "\u001b[33mAgent made a total of 2 LLM calls, using 6842 tokens (in: 6678, out: 164), and took 5.9 total seconds\u001b[0m\n",
      "====================\n",
      "73f863fe-ac2f-11f0-8bff-ad1a552a1d71\n",
      "CPU times: user 12.9 ms, sys: 451 μs, total: 13.3 ms\n",
      "Wall time: 5.93 s\n"
     ]
    }
   ],
   "source": [
    "%%time\n",
    "ticket = agents.invoke(\n",
    "    \"Can I get support to install my Sunpower X solar panel? My customer id is 1\", \n",
    "    solar_agent[0], enable_trace=True\n",
    ")\n",
    "print(\"====================\")\n",
    "print(ticket)"
   ]
  },
  {
   "cell_type": "markdown",
   "id": "332b0302-6dc8-4bc1-84d4-1f2465e3259a",
   "metadata": {
    "pycharm": {
     "name": "#%% md\n"
    }
   },
   "source": [
    "### Testing getting support ticket details\n",
    "Now let's get the details for our support ticket. For that you will need to provide the ticket id just generated in the previous query to `create_ticket`"
   ]
  },
  {
   "cell_type": "code",
   "execution_count": 23,
   "id": "fa26f3ee",
   "metadata": {
    "pycharm": {
     "name": "#%%\n"
    }
   },
   "outputs": [
    {
     "name": "stdout",
     "output_type": "stream",
     "text": [
      "invokeAgent API request ID: 9d783ced-c9b6-4455-a817-c5d24151ceb2\n",
      "invokeAgent API session ID: b32fe182-ac2e-11f0-b00f-16ffda0c90af\n",
      "\u001b[32m---- Step 1 ----\u001b[0m\n",
      "\u001b[33mTook 3.0s, using 3683 tokens (in: 3539, out: 144) to complete prior action, observe, orchestrate.\u001b[0m\n",
      "\u001b[34mThe user is asking for details on their existing support ticket. To retrieve the ticket status, I will need to call the get_ticket_status function with the customer ID and ticket ID provided.\u001b[0m\n",
      "\u001b[35mUsing tool: get_ticket_status with these inputs:\u001b[0m\n",
      "\u001b[35m[{'name': 'customer_id', 'type': 'string', 'value': '1'}, {'name': 'ticket_id', 'type': 'string', 'value': '73f863fe-ac2f-11f0-8bff-ad1a552a1d71'}]\n",
      "\u001b[0m\n",
      "\u001b[35m--tool outputs:\n",
      "[{'customer_id': '1', 'description': 'Request for installation support for SunPower X solar panel', 'status': 'created', 'ticket_id': '73f863fe-ac2f-11f0-8bff-ad1a552a1d71'}]...\n",
      "\u001b[0m\n",
      "\u001b[32m---- Step 2 ----\u001b[0m\n",
      "\u001b[33mTook 2.8s, using 3901 tokens (in: 3808, out: 93) to complete prior action, observe, orchestrate.\u001b[0m\n",
      "\u001b[36mFinal response:\n",
      "Based on the ticket status retrieved, your support ticket with ID 73f863fe-ac2f-11f0-8bff-ad1a552a1d71 for \"Request for installation support for SunPower X solar panel\" has been created. A specialist will review your request and get back to you with further assistance on installing your SunPower X s...\u001b[0m\n",
      "\u001b[33mAgent made a total of 2 LLM calls, using 7584 tokens (in: 7347, out: 237), and took 5.9 total seconds\u001b[0m\n",
      "====================\n",
      "Based on the ticket status retrieved, your support ticket with ID 73f863fe-ac2f-11f0-8bff-ad1a552a1d71 for \"Request for installation support for SunPower X solar panel\" has been created. A specialist will review your request and get back to you with further assistance on installing your SunPower X solar panel.\n",
      "CPU times: user 13 ms, sys: 168 μs, total: 13.2 ms\n",
      "Wall time: 5.91 s\n"
     ]
    }
   ],
   "source": [
    "%%time\n",
    "response = agents.invoke(\n",
    "    \"Can I get details on my ticket? My customer id is 1 get my ticket id from our previous conversation {}\".format(ticket), \n",
    "    solar_agent[0], enable_trace=True\n",
    ")\n",
    "print(\"====================\")\n",
    "print(response)"
   ]
  },
  {
   "cell_type": "markdown",
   "id": "15020ecf-77a3-4985-8af0-141c8d79d13b",
   "metadata": {
    "pycharm": {
     "name": "#%% md\n"
    }
   },
   "source": [
    "### Testing get open support tickets\n",
    "Let's also check if our agent can get the details for more than one open case. To do so we will first create a new support case"
   ]
  },
  {
   "cell_type": "code",
   "execution_count": 24,
   "id": "94a27d8f",
   "metadata": {
    "pycharm": {
     "name": "#%%\n"
    }
   },
   "outputs": [
    {
     "name": "stdout",
     "output_type": "stream",
     "text": [
      "invokeAgent API request ID: fe9ef082-fe46-4ee4-a68b-472731f7949f\n",
      "invokeAgent API session ID: b32fe182-ac2e-11f0-b00f-16ffda0c90af\n",
      "\u001b[32m---- Step 1 ----\u001b[0m\n",
      "\u001b[33mTook 2.6s, using 4058 tokens (in: 3925, out: 133) to complete prior action, observe, orchestrate.\u001b[0m\n",
      "\u001b[34mThe user is requesting support to review the electrical consumption of their SunPower double-X solar panel. Since this seems to be a specialist-level issue requiring dedicated assistance, I should create a new support ticket for them.\u001b[0m\n",
      "\u001b[35mUsing tool: open_ticket with these inputs:\u001b[0m\n",
      "\u001b[35m[{'name': 'msg', 'type': 'string', 'value': 'Request to review electrical consumption of SunPower double-X solar panel'}, {'name': 'customer_id', 'type': 'string', 'value': '1'}]\n",
      "\u001b[0m\n",
      "\u001b[35m--tool outputs:\n",
      "Thanks for contact customer 1! Your support case was generated with ID: 7a424274-ac2f-11f0-8783-ad1a552a1d71...\n",
      "\u001b[0m\n",
      "\u001b[32m---- Step 2 ----\u001b[0m\n",
      "\u001b[33mTook 1.6s, using 4184 tokens (in: 4154, out: 30) to complete prior action, observe, orchestrate.\u001b[0m\n",
      "\u001b[36mFinal response:\n",
      "7a424274-ac2f-11f0-8783-ad1a552a1d71...\u001b[0m\n",
      "\u001b[33mAgent made a total of 2 LLM calls, using 8242 tokens (in: 8079, out: 163), and took 4.3 total seconds\u001b[0m\n",
      "====================\n",
      "7a424274-ac2f-11f0-8783-ad1a552a1d71\n",
      "CPU times: user 12.8 ms, sys: 31 μs, total: 12.8 ms\n",
      "Wall time: 4.28 s\n"
     ]
    }
   ],
   "source": [
    "%%time\n",
    "response = agents.invoke(\n",
    "    \"Can I get support to review my Sunpower double-X solar panel consumption? My customer id is 1\", \n",
    "    solar_agent[0], enable_trace=True\n",
    ")\n",
    "print(\"====================\")\n",
    "print(response)"
   ]
  },
  {
   "cell_type": "markdown",
   "id": "3f088ac5-6c49-4cc9-aa51-c36ba01329c1",
   "metadata": {
    "pycharm": {
     "name": "#%% md\n"
    }
   },
   "source": [
    "Next we will request the overview of all open tickets"
   ]
  },
  {
   "cell_type": "code",
   "execution_count": 25,
   "id": "f9964bec",
   "metadata": {
    "pycharm": {
     "name": "#%%\n"
    }
   },
   "outputs": [
    {
     "name": "stdout",
     "output_type": "stream",
     "text": [
      "invokeAgent API request ID: 8ecb4e28-92e7-4813-baeb-229506390623\n",
      "invokeAgent API session ID: b32fe182-ac2e-11f0-b00f-16ffda0c90af\n",
      "\u001b[32m---- Step 1 ----\u001b[0m\n",
      "\u001b[33mTook 2.7s, using 4301 tokens (in: 4205, out: 96) to complete prior action, observe, orchestrate.\u001b[0m\n",
      "\u001b[34mTo retrieve all existing support tickets for the customer, I will call the get_ticket_status function with just the customer ID provided.\u001b[0m\n",
      "\u001b[35mUsing tool: get_ticket_status with these inputs:\u001b[0m\n",
      "\u001b[35m[{'name': 'customer_id', 'type': 'string', 'value': '1'}]\n",
      "\u001b[0m\n",
      "\u001b[35m--tool outputs:\n",
      "[{'customer_id': '1', 'description': 'Request for installation support for SunPower X solar panel', 'status': 'created', 'ticket_id': '73f863fe-ac2f-11f0-8bff-ad1a552a1d71'}, {'customer_id': '1', 'description': 'Request to review electrical consumption of SunPower double-X solar panel', 'status': 'c...\n",
      "\u001b[0m\n",
      "\u001b[32m---- Step 2 ----\u001b[0m\n",
      "\u001b[33mTook 3.7s, using 4651 tokens (in: 4497, out: 154) to complete prior action, observe, orchestrate.\u001b[0m\n",
      "\u001b[36mFinal response:\n",
      "Based on the retrieved information, here are the open support tickets for your customer ID 1:\n",
      "\n",
      "Ticket ID: 73f863fe-ac2f-11f0-8bff-ad1a552a1d71\n",
      "Description: Request for installation support for SunPower X solar panel\n",
      "Status: Created\n",
      "\n",
      "Ticket ID: 7a424274-ac2f-11f0-8783-ad1a552a1d71  \n",
      "Description: Requ...\u001b[0m\n",
      "\u001b[33mAgent made a total of 2 LLM calls, using 8952 tokens (in: 8702, out: 250), and took 6.6 total seconds\u001b[0m\n",
      "====================\n",
      "Based on the retrieved information, here are the open support tickets for your customer ID 1:\n",
      "\n",
      "Ticket ID: 73f863fe-ac2f-11f0-8bff-ad1a552a1d71\n",
      "Description: Request for installation support for SunPower X solar panel\n",
      "Status: Created\n",
      "\n",
      "Ticket ID: 7a424274-ac2f-11f0-8783-ad1a552a1d71  \n",
      "Description: Request to review electrical consumption of SunPower double-X solar panel\n",
      "Status: Created\n",
      "\n",
      "Specialists will review both of your requests and get back to you with further assistance on the respective issues.\n",
      "CPU times: user 13.2 ms, sys: 75 μs, total: 13.3 ms\n",
      "Wall time: 6.57 s\n"
     ]
    }
   ],
   "source": [
    "%%time\n",
    "response = agents.invoke(\n",
    "    \"Can I get all tickets that I have? My customer id is 1\", \n",
    "    solar_agent[0], enable_trace=True\n",
    ")\n",
    "print(\"====================\")\n",
    "print(response)"
   ]
  },
  {
   "cell_type": "markdown",
   "id": "3d6a8d36-cb73-4e95-b345-dbaf4631f42e",
   "metadata": {
    "pycharm": {
     "name": "#%% md\n"
    }
   },
   "source": [
    "## Create alias\n",
    "\n",
    "As you can see, you can use your agent with the `TSTALIASID` to complete tasks. \n",
    "However, for multi-agents collaboration it is expected that you first test your agent and only use it once it is fully functional. \n",
    "Therefore to use an agent as a sub-agent in a multi-agent collaboration you first need to create an agent alias and connect it to a new version. \n",
    "\n",
    "Since we've tested and validated our agent, let's now create an alias for it:"
   ]
  },
  {
   "cell_type": "code",
   "execution_count": 26,
   "id": "d94236d9",
   "metadata": {
    "pycharm": {
     "name": "#%%\n"
    }
   },
   "outputs": [],
   "source": [
    "solar_agent_alias_id, solar_agent_alias_arn = agents.create_agent_alias(\n",
    "    solar_agent[0], 'v1'\n",
    ")\n",
    "solar_agent_id = solar_agent[0]"
   ]
  },
  {
   "cell_type": "markdown",
   "id": "7cc715b7",
   "metadata": {
    "pycharm": {
     "name": "#%% md\n"
    }
   },
   "source": [
    "Store environment variables to be used on next notebooks."
   ]
  },
  {
   "cell_type": "code",
   "execution_count": 27,
   "id": "29db93eb-9a51-48d2-a6ae-a31b7b5ddde1",
   "metadata": {
    "pycharm": {
     "name": "#%%\n"
    }
   },
   "outputs": [
    {
     "name": "stdout",
     "output_type": "stream",
     "text": [
      "Stored 'solar_agent_arn' (str)\n",
      "Stored 'solar_agent_alias_arn' (str)\n",
      "Stored 'solar_agent_alias_id' (str)\n",
      "Stored 'solar_lambda_name' (str)\n",
      "Stored 'solar_agent_name' (str)\n",
      "Stored 'solar_agent_id' (str)\n",
      "Stored 'solar_kb' (str)\n",
      "Stored 'solar_dynamodb' (str)\n"
     ]
    }
   ],
   "source": [
    "solar_agent_arn = agents.get_agent_arn_by_name(solar_agent_name)\n",
    "solar_kb = knowledge_base_name\n",
    "solar_dynamodb = dynamodb_table\n",
    "\n",
    "%store solar_agent_arn\n",
    "%store solar_agent_alias_arn\n",
    "%store solar_agent_alias_id\n",
    "%store solar_lambda_name\n",
    "%store solar_agent_name\n",
    "%store solar_agent_id\n",
    "%store solar_kb\n",
    "%store solar_dynamodb"
   ]
  },
  {
   "cell_type": "code",
   "execution_count": 28,
   "id": "c29254c4",
   "metadata": {
    "pycharm": {
     "name": "#%%\n"
    }
   },
   "outputs": [
    {
     "data": {
      "text/plain": [
       "('arn:aws:bedrock:us-east-1:833005555478:agent/QVU1TYDKDP',\n",
       " 'arn:aws:bedrock:us-east-1:833005555478:agent-alias/QVU1TYDKDP/20BGU5GXVZ',\n",
       " '20BGU5GXVZ')"
      ]
     },
     "execution_count": 28,
     "metadata": {},
     "output_type": "execute_result"
    }
   ],
   "source": [
    "solar_agent_arn, solar_agent_alias_arn, solar_agent_alias_id"
   ]
  },
  {
   "cell_type": "markdown",
   "id": "e5e51526-e959-46f3-b834-2a32c4016bc4",
   "metadata": {
    "pycharm": {
     "name": "#%% md\n"
    }
   },
   "source": [
    "## Next Steps\n",
    "Congratulations! We've now created a solar panel agent. Next we will create our peak loader manager agent"
   ]
  }
 ],
 "metadata": {
  "kernelspec": {
   "display_name": "conda_python3",
   "language": "python",
   "name": "conda_python3"
  },
  "language_info": {
   "codemirror_mode": {
    "name": "ipython",
    "version": 3
   },
   "file_extension": ".py",
   "mimetype": "text/x-python",
   "name": "python",
   "nbconvert_exporter": "python",
   "pygments_lexer": "ipython3",
   "version": "3.10.18"
  }
 },
 "nbformat": 4,
 "nbformat_minor": 5
}
